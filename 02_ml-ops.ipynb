{
 "cells": [
  {
   "cell_type": "markdown",
   "id": "bb7582c9-50c8-49c7-ae64-0d312d32718a",
   "metadata": {},
   "source": [
    "# Learning Objectives\n",
    "\n",
    "- Introduce production workflows for ML model deployment using Docker.\n",
    "- Illustrate monitoring workflows as a key component of MLOps practise.\n",
    "- Present a comprehensive workflow to monitor models in production for different types of drift"
   ]
  },
  {
   "cell_type": "markdown",
   "id": "873d5d2c",
   "metadata": {},
   "source": [
    "# Setup"
   ]
  },
  {
   "cell_type": "code",
   "execution_count": 1,
   "id": "7bd8433f",
   "metadata": {},
   "outputs": [],
   "source": [
    "import json\n",
    "import requests\n",
    "import joblib\n",
    "\n",
    "import pandas as pd\n",
    "import numpy as np\n",
    "import matplotlib.pyplot as plt\n",
    "import seaborn as sns\n",
    "\n",
    "from scipy.stats import ks_2samp\n",
    "from collections import Counter"
   ]
  },
  {
   "cell_type": "code",
   "execution_count": 2,
   "id": "d7fe31fa",
   "metadata": {},
   "outputs": [],
   "source": [
    "sns.set_context('talk')"
   ]
  },
  {
   "cell_type": "markdown",
   "id": "44b3ba8b-dd01-4b1e-8467-d6bf749bd9b7",
   "metadata": {},
   "source": [
    "# Business Use Case"
   ]
  },
  {
   "cell_type": "markdown",
   "id": "f1b5ff2a",
   "metadata": {},
   "source": [
    "To recap, the business problem we are trying to tackle is:"
   ]
  },
  {
   "cell_type": "markdown",
   "id": "4642f0bc",
   "metadata": {},
   "source": [
    "<div class=\"alert alert-block alert-success\">\n",
    " \n",
    "For this session consider the case of predicting machinery failure based on the quality of the machinery and its wear and tear. Such predictions often require an expert intervention on the shopfloor and result in high dependencies on the expert.\n",
    "\n",
    "The dataset used in this session is hosted on [OpenML](https://www.openml.org/search?type=data&status=active&id=4289033et).\n",
    "\n",
    "</div>"
   ]
  },
  {
   "cell_type": "markdown",
   "id": "535721d3",
   "metadata": {},
   "source": [
    "# MLOps Projects"
   ]
  },
  {
   "cell_type": "markdown",
   "id": "bde05eec",
   "metadata": {},
   "source": [
    "## The Build-Deploy Structure"
   ]
  },
  {
   "cell_type": "markdown",
   "id": "f1d687c0",
   "metadata": {},
   "source": [
    "MLOps projects typically have two main components: a build phase and a deploy phase. These two phases align with the DevOps cycle, where development (Dev) and operations (Ops) teams collaborate to ensure efficient and reliable software delivery. The build phase focuses on the development side, involving tasks such as data preprocessing, feature engineering, model training, and evaluation. The deploy phase, on the other hand, emphasizes the operational side, encompassing tasks such as model deployment, monitoring, and scalability. Key parts of these two parts of a project are encoded as a set of source files (usually `.py`) and configuration files (usually `.yml`)."
   ]
  },
  {
   "cell_type": "markdown",
   "id": "af754872",
   "metadata": {},
   "source": [
    "The two phases - build & deploy - require creation and consumption of business resources, and hence need to go through a careful approval process. In a robust MLOps CI/CD pipeline, it is crucial to incorporate approvals at key stages to maintain control and governance over model deployments. Let us give this aspect of MLOps a closer look."
   ]
  },
  {
   "cell_type": "markdown",
   "id": "5069fb93",
   "metadata": {},
   "source": [
    "## Approvals"
   ]
  },
  {
   "cell_type": "markdown",
   "id": "95c8673f",
   "metadata": {},
   "source": [
    "Approvals serve as checkpoints that ensure models undergo thorough validation, collaboration, and monitoring before being deployed to production environments. The figure below depicts the three main approval steps commonly implemented in a MLOps CI/CD pipeline and their significance in enabling a smooth and controlled model deployment process."
   ]
  },
  {
   "cell_type": "markdown",
   "id": "de27690a",
   "metadata": {},
   "source": [
    "![approvals](figures/approvals.drawio.png)"
   ]
  },
  {
   "cell_type": "markdown",
   "id": "2f6c27a3",
   "metadata": {},
   "source": [
    "**1. Approval for Model Registration:**\n",
    "\n",
    "The first approval point occurs when a model is deemed ready for registration as a deployable entity. At this stage, a formal handoff takes place between the Development (Dev) and Operations (Ops) teams. The model artifacts, including trained models, preprocessing code, and other relevant resources, are shared between the teams.\n",
    "\n",
    "During this handoff, the Dev team provides the Ops team with comprehensive documentation, explaining the model's architecture, dependencies, input/output specifications, and any specific deployment considerations. This documentation facilitates smooth collaboration and transfer of knowledge between the teams, ensuring a seamless transition from development to deployment.\n",
    "\n",
    "Subsequently, the build repository executes the model registration as a separate step. This process typically involves packaging the model and its dependencies into a containerized format suitable for deployment. The registration step enables the Ops team to maintain a central repository of approved models, streamlining the deployment process and ensuring consistency across different environments."
   ]
  },
  {
   "cell_type": "markdown",
   "id": "9ddf4075",
   "metadata": {},
   "source": [
    "**2. Approval for Staged Endpoint:**\n",
    "\n",
    "Once a model is registered, the next approval stage involves mirroring the model from the Dev environment and creating a deployment staging area. The staging area serves as a controlled environment for short-term monitoring and further validation of the model's behavior.\n",
    "\n",
    "In the staging area, various monitoring checks are performed to assess the model's performance, robustness, and compliance with business requirements. These checks may include test data evaluations, comparing model predictions against expected outputs, and running specific tests to ensure the model operates within acceptable performance thresholds.\n",
    "\n",
    "The approval for the staged endpoint confirms that the model has successfully passed the necessary validation tests and meets the predefined criteria for deployment. This approval signifies that the model is ready for promotion to a production-like environment while minimizing the risk of potential issues affecting the live system."
   ]
  },
  {
   "cell_type": "markdown",
   "id": "1ebb757f",
   "metadata": {},
   "source": [
    "**3. Approval for Production Endpoint and Long-Term Monitoring:**\n",
    "\n",
    "After successfully passing the staged endpoint phase, the model artifacts used in the staging deployment are reused for the final release. The Ops team proceeds with creating the production endpoint, which represents the model's deployment in the live production environment.\n",
    "\n",
    "The production endpoint undergoes rigorous testing and verification to ensure it meets stringent quality standards. This includes comprehensive testing against real-world data, performance evaluations under various load conditions, and security assessments to safeguard sensitive information.\n",
    "\n",
    "Once the production endpoint is deployed, it is placed under long-term monitoring mode. Continuous monitoring is critical to detect any anomalies, drift, or degradation in the model's performance over time. The Ops team closely monitors key performance indicators, such as accuracy, latency, and resource utilization, to proactively identify any potential issues and take appropriate remedial actions."
   ]
  },
  {
   "cell_type": "markdown",
   "id": "e56e67f6",
   "metadata": {},
   "source": [
    "With this conceptual understanding of the Ops side of the MLOps process, let us look at the details of how this is executed in practise."
   ]
  },
  {
   "cell_type": "markdown",
   "id": "f4a8cd88-ed3d-47ad-a20b-cdc4527fbb8d",
   "metadata": {},
   "source": [
    "# Containerized Deployment"
   ]
  },
  {
   "cell_type": "markdown",
   "id": "50d50f80",
   "metadata": {},
   "source": [
    "There are two broad pathwats where models could be deployed (represented in the figure below)."
   ]
  },
  {
   "cell_type": "markdown",
   "id": "6129b2c6",
   "metadata": {},
   "source": [
    "![deployment-pathways](figures/deployment-pathways.drawio.png)"
   ]
  },
  {
   "cell_type": "markdown",
   "id": "0a54113a",
   "metadata": {},
   "source": [
    "## Web/API deployment"
   ]
  },
  {
   "cell_type": "markdown",
   "id": "c2cc3009",
   "metadata": {},
   "source": [
    "In this notebook, our journey will begin with the serialized model we saved in the previous notebook and layer in all the steps to deploy this model on the web using an API. But what exactly is an API?"
   ]
  },
  {
   "cell_type": "markdown",
   "id": "129180da",
   "metadata": {},
   "source": [
    "### What is an API?"
   ]
  },
  {
   "cell_type": "markdown",
   "id": "b13c1b17",
   "metadata": {},
   "source": [
    "A common way to deploy a model on the web is to wrap the saved model as a API service and allow users (clients) to send requests. The requests are parsed into the appropriate input format by the service and presented to the model for inference. This inference is returned to the user as a response. Each request is handled by a specific resource (in our case a model) that is identified by a unique *endpoint*. \n",
    "\n",
    "Think of endpoints as the unique URL that is shared with the client to interface with the model; all they can do is to send a request to the endpoint (i.e., they have no access to any detail on how the response is generated). Intuitively, it is like a storefront (a unique address) where they come to collect their predictions. They do not worry about *how* the predictions are made.\n",
    "\n",
    "But what exactly is an Application Programming Interface (API)?"
   ]
  },
  {
   "cell_type": "markdown",
   "id": "92f29586",
   "metadata": {},
   "source": [
    "APIs prescribe the mechanism through which any two computers can exchange information over a network. Given that there could be many ways to do this, we felt that it would be prudent to formalize this exchange as a set of rules that we agree "
   ]
  },
  {
   "cell_type": "markdown",
   "id": "4200898a",
   "metadata": {},
   "source": [
    "![rest](figures/rest.drawio.png)"
   ]
  },
  {
   "cell_type": "markdown",
   "id": "0d42ebf4",
   "metadata": {},
   "source": [
    "REpresentational State Transfer (REST) APIs are programming language agnostic and encode a set of rules that constitute a REST-ful API. These rules are:\n",
    "\n",
    "- Clients can only make POST, GET, PUT, or DELETE requests\n",
    "- These requests can contain an optional payload (usually a [JSON object](https://www.json.org/json-en.html))\n",
    "- All requests should return a response with a code indicating the status of the response (200's - Success, 400's - Improper request, 500's - Server side errors)\n",
    "\n",
    "In the context of ML deployment, clients send a POST request with a payload containing the input data needed by the model to make a prediction. For example, to get a classification result on their input, showrooms should attach the features of a diamond as a payload and upload it to the unique URL encoded by the endpoint. The server parses this input, presents it to the model, collects the prediction and sends a response (along with a status code) back to the client. In sum, customers *post* an input and the business serves a response.\n",
    "\n",
    "Common web frameworks used in production that implement the REST framework in Python are [Flask](https://flask.palletsprojects.com/en/2.1.x/) and [FastAPI](https://fastapi.tiangolo.com/). Flask is a popular REST implementation that we will use in this notebook. The advantage of Flask is that owing to its longer existence, however is that it enjoys a wider ecosystem compared with FastAPI. Beyond these general purpose implementations, specialized implementations also exist. For example, [TensorFlow Serving](https://www.tensorflow.org/tfx/guide/serving) implements the REST framework in C++ for TensorFlow models and hence can be more performant for deep learning models."
   ]
  },
  {
   "cell_type": "markdown",
   "id": "7a83b862",
   "metadata": {},
   "source": [
    "### Why APIs?"
   ]
  },
  {
   "cell_type": "markdown",
   "id": "638a62e6",
   "metadata": {},
   "source": [
    "In the context of serving infrastructure, key metrics that underpin performance of a deployed system (not necessarily a ML-infused one) are: latency, throughput and cost. \n",
    "\n",
    "- Latency = time taken per prediction\n",
    "\n",
    "- Throughput = number of predictions made per unit time\n",
    "\n",
    "- Cost, typically measured as the variable cost incurred per prediction\n",
    "\n",
    "Good deployments balance these three metrics and often result in business metric improvements.\n"
   ]
  },
  {
   "cell_type": "markdown",
   "id": "a1176ef9",
   "metadata": {},
   "source": [
    "The final choice of the target architecture for deployment also rests on the mix of latency, throughput and cost that is best suited to achieve business objectives. "
   ]
  },
  {
   "cell_type": "markdown",
   "id": "e72c0d21",
   "metadata": {},
   "source": [
    "Deploying ML models on the web is a great way to balance the costs incurred in serving complex models and the resources available to serve these models. Since the serving infrastructure can be controlled, API-driven deployment is often scalable in terms of performance. Once a model is built, we typically start with a specification of the serving infrastructure, and keep the specification constant until the cap on predictive performance is maintained (monitoring is crucial).\n",
    "\n",
    "If performance (i.e., latency, throughput and cost) degrades, we revisit the serving infrastructure and change if necessary."
   ]
  },
  {
   "cell_type": "markdown",
   "id": "9d346e38",
   "metadata": {},
   "source": [
    "## Preparing for deployment"
   ]
  },
  {
   "cell_type": "markdown",
   "id": "5e9d59b7",
   "metadata": {},
   "source": [
    "### Step 1: Serialize Model"
   ]
  },
  {
   "cell_type": "code",
   "execution_count": 3,
   "id": "1ed10b78",
   "metadata": {},
   "outputs": [],
   "source": [
    "saved_model_path = 'models/model-v1.joblib'"
   ]
  },
  {
   "cell_type": "code",
   "execution_count": 4,
   "id": "10652624",
   "metadata": {},
   "outputs": [],
   "source": [
    "saved_model = joblib.load(saved_model_path)"
   ]
  },
  {
   "cell_type": "code",
   "execution_count": 5,
   "id": "c765a16d",
   "metadata": {},
   "outputs": [
    {
     "data": {
      "text/html": [
       "<style>#sk-container-id-1 {color: black;background-color: white;}#sk-container-id-1 pre{padding: 0;}#sk-container-id-1 div.sk-toggleable {background-color: white;}#sk-container-id-1 label.sk-toggleable__label {cursor: pointer;display: block;width: 100%;margin-bottom: 0;padding: 0.3em;box-sizing: border-box;text-align: center;}#sk-container-id-1 label.sk-toggleable__label-arrow:before {content: \"▸\";float: left;margin-right: 0.25em;color: #696969;}#sk-container-id-1 label.sk-toggleable__label-arrow:hover:before {color: black;}#sk-container-id-1 div.sk-estimator:hover label.sk-toggleable__label-arrow:before {color: black;}#sk-container-id-1 div.sk-toggleable__content {max-height: 0;max-width: 0;overflow: hidden;text-align: left;background-color: #f0f8ff;}#sk-container-id-1 div.sk-toggleable__content pre {margin: 0.2em;color: black;border-radius: 0.25em;background-color: #f0f8ff;}#sk-container-id-1 input.sk-toggleable__control:checked~div.sk-toggleable__content {max-height: 200px;max-width: 100%;overflow: auto;}#sk-container-id-1 input.sk-toggleable__control:checked~label.sk-toggleable__label-arrow:before {content: \"▾\";}#sk-container-id-1 div.sk-estimator input.sk-toggleable__control:checked~label.sk-toggleable__label {background-color: #d4ebff;}#sk-container-id-1 div.sk-label input.sk-toggleable__control:checked~label.sk-toggleable__label {background-color: #d4ebff;}#sk-container-id-1 input.sk-hidden--visually {border: 0;clip: rect(1px 1px 1px 1px);clip: rect(1px, 1px, 1px, 1px);height: 1px;margin: -1px;overflow: hidden;padding: 0;position: absolute;width: 1px;}#sk-container-id-1 div.sk-estimator {font-family: monospace;background-color: #f0f8ff;border: 1px dotted black;border-radius: 0.25em;box-sizing: border-box;margin-bottom: 0.5em;}#sk-container-id-1 div.sk-estimator:hover {background-color: #d4ebff;}#sk-container-id-1 div.sk-parallel-item::after {content: \"\";width: 100%;border-bottom: 1px solid gray;flex-grow: 1;}#sk-container-id-1 div.sk-label:hover label.sk-toggleable__label {background-color: #d4ebff;}#sk-container-id-1 div.sk-serial::before {content: \"\";position: absolute;border-left: 1px solid gray;box-sizing: border-box;top: 0;bottom: 0;left: 50%;z-index: 0;}#sk-container-id-1 div.sk-serial {display: flex;flex-direction: column;align-items: center;background-color: white;padding-right: 0.2em;padding-left: 0.2em;position: relative;}#sk-container-id-1 div.sk-item {position: relative;z-index: 1;}#sk-container-id-1 div.sk-parallel {display: flex;align-items: stretch;justify-content: center;background-color: white;position: relative;}#sk-container-id-1 div.sk-item::before, #sk-container-id-1 div.sk-parallel-item::before {content: \"\";position: absolute;border-left: 1px solid gray;box-sizing: border-box;top: 0;bottom: 0;left: 50%;z-index: -1;}#sk-container-id-1 div.sk-parallel-item {display: flex;flex-direction: column;z-index: 1;position: relative;background-color: white;}#sk-container-id-1 div.sk-parallel-item:first-child::after {align-self: flex-end;width: 50%;}#sk-container-id-1 div.sk-parallel-item:last-child::after {align-self: flex-start;width: 50%;}#sk-container-id-1 div.sk-parallel-item:only-child::after {width: 0;}#sk-container-id-1 div.sk-dashed-wrapped {border: 1px dashed gray;margin: 0 0.4em 0.5em 0.4em;box-sizing: border-box;padding-bottom: 0.4em;background-color: white;}#sk-container-id-1 div.sk-label label {font-family: monospace;font-weight: bold;display: inline-block;line-height: 1.2em;}#sk-container-id-1 div.sk-label-container {text-align: center;}#sk-container-id-1 div.sk-container {/* jupyter's `normalize.less` sets `[hidden] { display: none; }` but bootstrap.min.css set `[hidden] { display: none !important; }` so we also need the `!important` here to be able to override the default hidden behavior on the sphinx rendered scikit-learn.org. See: https://github.com/scikit-learn/scikit-learn/issues/21755 */display: inline-block !important;position: relative;}#sk-container-id-1 div.sk-text-repr-fallback {display: none;}</style><div id=\"sk-container-id-1\" class=\"sk-top-container\"><div class=\"sk-text-repr-fallback\"><pre>Pipeline(steps=[(&#x27;columntransformer&#x27;,\n",
       "                 ColumnTransformer(transformers=[(&#x27;standardscaler&#x27;,\n",
       "                                                  StandardScaler(),\n",
       "                                                  [&#x27;Air temperature [K]&#x27;,\n",
       "                                                   &#x27;Process temperature [K]&#x27;,\n",
       "                                                   &#x27;Rotational speed [rpm]&#x27;,\n",
       "                                                   &#x27;Torque [Nm]&#x27;,\n",
       "                                                   &#x27;Tool wear [min]&#x27;]),\n",
       "                                                 (&#x27;onehotencoder&#x27;,\n",
       "                                                  OneHotEncoder(handle_unknown=&#x27;ignore&#x27;),\n",
       "                                                  [&#x27;Type&#x27;])])),\n",
       "                (&#x27;gradientboostingclassifier&#x27;,\n",
       "                 GradientBoostingClassifier(max_depth=9, n_estimators=535,\n",
       "                                            random_state=42))])</pre><b>In a Jupyter environment, please rerun this cell to show the HTML representation or trust the notebook. <br />On GitHub, the HTML representation is unable to render, please try loading this page with nbviewer.org.</b></div><div class=\"sk-container\" hidden><div class=\"sk-item sk-dashed-wrapped\"><div class=\"sk-label-container\"><div class=\"sk-label sk-toggleable\"><input class=\"sk-toggleable__control sk-hidden--visually\" id=\"sk-estimator-id-1\" type=\"checkbox\" ><label for=\"sk-estimator-id-1\" class=\"sk-toggleable__label sk-toggleable__label-arrow\">Pipeline</label><div class=\"sk-toggleable__content\"><pre>Pipeline(steps=[(&#x27;columntransformer&#x27;,\n",
       "                 ColumnTransformer(transformers=[(&#x27;standardscaler&#x27;,\n",
       "                                                  StandardScaler(),\n",
       "                                                  [&#x27;Air temperature [K]&#x27;,\n",
       "                                                   &#x27;Process temperature [K]&#x27;,\n",
       "                                                   &#x27;Rotational speed [rpm]&#x27;,\n",
       "                                                   &#x27;Torque [Nm]&#x27;,\n",
       "                                                   &#x27;Tool wear [min]&#x27;]),\n",
       "                                                 (&#x27;onehotencoder&#x27;,\n",
       "                                                  OneHotEncoder(handle_unknown=&#x27;ignore&#x27;),\n",
       "                                                  [&#x27;Type&#x27;])])),\n",
       "                (&#x27;gradientboostingclassifier&#x27;,\n",
       "                 GradientBoostingClassifier(max_depth=9, n_estimators=535,\n",
       "                                            random_state=42))])</pre></div></div></div><div class=\"sk-serial\"><div class=\"sk-item sk-dashed-wrapped\"><div class=\"sk-label-container\"><div class=\"sk-label sk-toggleable\"><input class=\"sk-toggleable__control sk-hidden--visually\" id=\"sk-estimator-id-2\" type=\"checkbox\" ><label for=\"sk-estimator-id-2\" class=\"sk-toggleable__label sk-toggleable__label-arrow\">columntransformer: ColumnTransformer</label><div class=\"sk-toggleable__content\"><pre>ColumnTransformer(transformers=[(&#x27;standardscaler&#x27;, StandardScaler(),\n",
       "                                 [&#x27;Air temperature [K]&#x27;,\n",
       "                                  &#x27;Process temperature [K]&#x27;,\n",
       "                                  &#x27;Rotational speed [rpm]&#x27;, &#x27;Torque [Nm]&#x27;,\n",
       "                                  &#x27;Tool wear [min]&#x27;]),\n",
       "                                (&#x27;onehotencoder&#x27;,\n",
       "                                 OneHotEncoder(handle_unknown=&#x27;ignore&#x27;),\n",
       "                                 [&#x27;Type&#x27;])])</pre></div></div></div><div class=\"sk-parallel\"><div class=\"sk-parallel-item\"><div class=\"sk-item\"><div class=\"sk-label-container\"><div class=\"sk-label sk-toggleable\"><input class=\"sk-toggleable__control sk-hidden--visually\" id=\"sk-estimator-id-3\" type=\"checkbox\" ><label for=\"sk-estimator-id-3\" class=\"sk-toggleable__label sk-toggleable__label-arrow\">standardscaler</label><div class=\"sk-toggleable__content\"><pre>[&#x27;Air temperature [K]&#x27;, &#x27;Process temperature [K]&#x27;, &#x27;Rotational speed [rpm]&#x27;, &#x27;Torque [Nm]&#x27;, &#x27;Tool wear [min]&#x27;]</pre></div></div></div><div class=\"sk-serial\"><div class=\"sk-item\"><div class=\"sk-estimator sk-toggleable\"><input class=\"sk-toggleable__control sk-hidden--visually\" id=\"sk-estimator-id-4\" type=\"checkbox\" ><label for=\"sk-estimator-id-4\" class=\"sk-toggleable__label sk-toggleable__label-arrow\">StandardScaler</label><div class=\"sk-toggleable__content\"><pre>StandardScaler()</pre></div></div></div></div></div></div><div class=\"sk-parallel-item\"><div class=\"sk-item\"><div class=\"sk-label-container\"><div class=\"sk-label sk-toggleable\"><input class=\"sk-toggleable__control sk-hidden--visually\" id=\"sk-estimator-id-5\" type=\"checkbox\" ><label for=\"sk-estimator-id-5\" class=\"sk-toggleable__label sk-toggleable__label-arrow\">onehotencoder</label><div class=\"sk-toggleable__content\"><pre>[&#x27;Type&#x27;]</pre></div></div></div><div class=\"sk-serial\"><div class=\"sk-item\"><div class=\"sk-estimator sk-toggleable\"><input class=\"sk-toggleable__control sk-hidden--visually\" id=\"sk-estimator-id-6\" type=\"checkbox\" ><label for=\"sk-estimator-id-6\" class=\"sk-toggleable__label sk-toggleable__label-arrow\">OneHotEncoder</label><div class=\"sk-toggleable__content\"><pre>OneHotEncoder(handle_unknown=&#x27;ignore&#x27;)</pre></div></div></div></div></div></div></div></div><div class=\"sk-item\"><div class=\"sk-estimator sk-toggleable\"><input class=\"sk-toggleable__control sk-hidden--visually\" id=\"sk-estimator-id-7\" type=\"checkbox\" ><label for=\"sk-estimator-id-7\" class=\"sk-toggleable__label sk-toggleable__label-arrow\">GradientBoostingClassifier</label><div class=\"sk-toggleable__content\"><pre>GradientBoostingClassifier(max_depth=9, n_estimators=535, random_state=42)</pre></div></div></div></div></div></div></div>"
      ],
      "text/plain": [
       "Pipeline(steps=[('columntransformer',\n",
       "                 ColumnTransformer(transformers=[('standardscaler',\n",
       "                                                  StandardScaler(),\n",
       "                                                  ['Air temperature [K]',\n",
       "                                                   'Process temperature [K]',\n",
       "                                                   'Rotational speed [rpm]',\n",
       "                                                   'Torque [Nm]',\n",
       "                                                   'Tool wear [min]']),\n",
       "                                                 ('onehotencoder',\n",
       "                                                  OneHotEncoder(handle_unknown='ignore'),\n",
       "                                                  ['Type'])])),\n",
       "                ('gradientboostingclassifier',\n",
       "                 GradientBoostingClassifier(max_depth=9, n_estimators=535,\n",
       "                                            random_state=42))])"
      ]
     },
     "execution_count": 5,
     "metadata": {},
     "output_type": "execute_result"
    }
   ],
   "source": [
    "saved_model"
   ]
  },
  {
   "cell_type": "markdown",
   "id": "42582e20",
   "metadata": {},
   "source": [
    "Note that this is a *saved model* that we have reloaded from a binary file. We have not estimated this model in this notebook. Once a binary is created, the model file can be easily shared with no dependence on the packages that were needed to build the model. \n",
    "\n",
    "An important strength of the `joblib` format is that it allows us to capture all the steps of the model pipeline including the preprocessing steps in tact."
   ]
  },
  {
   "cell_type": "markdown",
   "id": "e487584f",
   "metadata": {},
   "source": [
    "### Step 2: Write a model server"
   ]
  },
  {
   "cell_type": "markdown",
   "id": "1948c122",
   "metadata": {},
   "source": [
    "Once we have a model binary, we wrap this binary within a server that parses requests in a REST-ful way (i.e., it follows the rules specified by the REST protocol). This is often referred to as local deployment and is usually conducted in a staging environment, that is, a server that mimics the production setting (expect for the fact that it is not live)."
   ]
  },
  {
   "cell_type": "markdown",
   "id": "35438f87",
   "metadata": {},
   "source": [
    "Specifically, our model server (`app.py`) should be able to load the serialized model from disk, parse incoming client requests (i.e., the images they send to the REST API) and send predictions as a response with the appropriate status code. In case, there are errors (client-side or server-side) the server should be able to clearly communicate the type of errors to the client.\n",
    "\n",
    "We will use `Flask` to write out model server. The server should be able to handle both streaming requests (i.e., one request at a time) and batch requests (i.e., collections of requests at a time)."
   ]
  },
  {
   "cell_type": "markdown",
   "id": "5f18d24a",
   "metadata": {},
   "source": [
    "The three components to be handled - requests, predictions and responses - are handled by three crucial components of flask that we call in the code fragment below."
   ]
  },
  {
   "cell_type": "markdown",
   "id": "916f2807",
   "metadata": {},
   "source": [
    "```python\n",
    "from flask import request, Flask, jsonify\n",
    "```"
   ]
  },
  {
   "cell_type": "markdown",
   "id": "0f6c0880",
   "metadata": {},
   "source": [
    "In the above code:\n",
    "- `request` captures the incoming request (and its JSON payload) and converts it into a Python dictionary.\n",
    "- `Flask` allows us to write the prediction logic as a function that will be executed on the input received from the `request`\n",
    "- `jsonify` formats the response from the Python runtime to be neatly packaged as a JSON payload attached with the response"
   ]
  },
  {
   "cell_type": "markdown",
   "id": "746da04e",
   "metadata": {},
   "source": [
    "In this way, we rely on `Flask`'s powerful machinery to handle requests in a REST-ful way."
   ]
  },
  {
   "cell_type": "markdown",
   "id": "2e126c33",
   "metadata": {},
   "source": [
    "### Step 3: Test server response"
   ]
  },
  {
   "cell_type": "markdown",
   "id": "dd6844e0",
   "metadata": {},
   "source": [
    "Now that the server is built, we test the server by running ```python app.py``` at the command line. This ensures that the model is loaded and the server is ready, listening to incoming requests."
   ]
  },
  {
   "cell_type": "markdown",
   "id": "68333d07",
   "metadata": {},
   "source": [
    "The local deployment can now receive requests and return responses. Let us gather some test data and use these images as payload to the server."
   ]
  },
  {
   "cell_type": "markdown",
   "id": "6ad04908",
   "metadata": {},
   "source": [
    "To manage the process of sending HTTP requests with an attached payload, we use the `requests` library (so we can avoid using a browser or `curl`).\n",
    "\n",
    "The `requests` library also automates an important mechanism through which customers access models - sending a HTTP request. "
   ]
  },
  {
   "cell_type": "code",
   "execution_count": 6,
   "id": "9c5e3449",
   "metadata": {},
   "outputs": [],
   "source": [
    "local_machine_model_url = \"http://localhost:8000/v1/equipment\"\n",
    "local_machine_model_batch_url = \"http://localhost:8000/v1/equipmentbatch\""
   ]
  },
  {
   "cell_type": "code",
   "execution_count": 7,
   "id": "f6c68264",
   "metadata": {},
   "outputs": [],
   "source": [
    "test_df = pd.read_csv(\"data/20230921_test_features.csv\")\n",
    "test_targets = pd.read_csv(\"data/20230921_test_target.csv\")"
   ]
  },
  {
   "cell_type": "code",
   "execution_count": 8,
   "id": "44d403c2",
   "metadata": {},
   "outputs": [],
   "source": [
    "test_df['ground_truth'] = test_targets"
   ]
  },
  {
   "cell_type": "code",
   "execution_count": 9,
   "id": "2961dd1e",
   "metadata": {},
   "outputs": [
    {
     "data": {
      "text/html": [
       "<div>\n",
       "<style scoped>\n",
       "    .dataframe tbody tr th:only-of-type {\n",
       "        vertical-align: middle;\n",
       "    }\n",
       "\n",
       "    .dataframe tbody tr th {\n",
       "        vertical-align: top;\n",
       "    }\n",
       "\n",
       "    .dataframe thead th {\n",
       "        text-align: right;\n",
       "    }\n",
       "</style>\n",
       "<table border=\"1\" class=\"dataframe\">\n",
       "  <thead>\n",
       "    <tr style=\"text-align: right;\">\n",
       "      <th></th>\n",
       "      <th>Type</th>\n",
       "      <th>Air temperature [K]</th>\n",
       "      <th>Process temperature [K]</th>\n",
       "      <th>Rotational speed [rpm]</th>\n",
       "      <th>Torque [Nm]</th>\n",
       "      <th>Tool wear [min]</th>\n",
       "      <th>ground_truth</th>\n",
       "    </tr>\n",
       "  </thead>\n",
       "  <tbody>\n",
       "    <tr>\n",
       "      <th>0</th>\n",
       "      <td>L</td>\n",
       "      <td>300.8</td>\n",
       "      <td>310.3</td>\n",
       "      <td>1538</td>\n",
       "      <td>36.1</td>\n",
       "      <td>198</td>\n",
       "      <td>0</td>\n",
       "    </tr>\n",
       "    <tr>\n",
       "      <th>1</th>\n",
       "      <td>M</td>\n",
       "      <td>303.6</td>\n",
       "      <td>311.8</td>\n",
       "      <td>1421</td>\n",
       "      <td>44.8</td>\n",
       "      <td>101</td>\n",
       "      <td>1</td>\n",
       "    </tr>\n",
       "    <tr>\n",
       "      <th>2</th>\n",
       "      <td>M</td>\n",
       "      <td>298.3</td>\n",
       "      <td>307.9</td>\n",
       "      <td>1485</td>\n",
       "      <td>42.0</td>\n",
       "      <td>117</td>\n",
       "      <td>0</td>\n",
       "    </tr>\n",
       "    <tr>\n",
       "      <th>3</th>\n",
       "      <td>L</td>\n",
       "      <td>303.3</td>\n",
       "      <td>311.3</td>\n",
       "      <td>1592</td>\n",
       "      <td>33.7</td>\n",
       "      <td>14</td>\n",
       "      <td>0</td>\n",
       "    </tr>\n",
       "    <tr>\n",
       "      <th>4</th>\n",
       "      <td>L</td>\n",
       "      <td>302.4</td>\n",
       "      <td>310.4</td>\n",
       "      <td>1865</td>\n",
       "      <td>23.9</td>\n",
       "      <td>129</td>\n",
       "      <td>0</td>\n",
       "    </tr>\n",
       "  </tbody>\n",
       "</table>\n",
       "</div>"
      ],
      "text/plain": [
       "  Type  Air temperature [K]  Process temperature [K]  Rotational speed [rpm]  \\\n",
       "0    L                300.8                    310.3                    1538   \n",
       "1    M                303.6                    311.8                    1421   \n",
       "2    M                298.3                    307.9                    1485   \n",
       "3    L                303.3                    311.3                    1592   \n",
       "4    L                302.4                    310.4                    1865   \n",
       "\n",
       "   Torque [Nm]  Tool wear [min]  ground_truth  \n",
       "0         36.1              198             0  \n",
       "1         44.8              101             1  \n",
       "2         42.0              117             0  \n",
       "3         33.7               14             0  \n",
       "4         23.9              129             0  "
      ]
     },
     "execution_count": 9,
     "metadata": {},
     "output_type": "execute_result"
    }
   ],
   "source": [
    "test_df.head()"
   ]
  },
  {
   "cell_type": "code",
   "execution_count": 10,
   "id": "2d7235af",
   "metadata": {},
   "outputs": [],
   "source": [
    "stream_payload = {\n",
    "    'Air temperature [K]': 300.8,\n",
    "    'Process temperature [K]': 310.3,\n",
    "    'Rotational speed [rpm]': 1538,\n",
    "    'Torque [Nm]': 36.1,\n",
    "    'Tool wear [min]': 198,\n",
    "    'Type': 'L'\n",
    "}"
   ]
  },
  {
   "cell_type": "code",
   "execution_count": 11,
   "id": "b5155d57",
   "metadata": {},
   "outputs": [],
   "source": [
    "response = requests.post(local_machine_model_url, json=stream_payload)"
   ]
  },
  {
   "cell_type": "code",
   "execution_count": 12,
   "id": "f86e152f",
   "metadata": {},
   "outputs": [
    {
     "name": "stdout",
     "output_type": "stream",
     "text": [
      "200\n"
     ]
    }
   ],
   "source": [
    "print(response.status_code)"
   ]
  },
  {
   "cell_type": "code",
   "execution_count": 13,
   "id": "becec7df",
   "metadata": {},
   "outputs": [
    {
     "name": "stdout",
     "output_type": "stream",
     "text": [
      "{'Failure expected?': 'no'}\n"
     ]
    }
   ],
   "source": [
    "print(response.json())"
   ]
  },
  {
   "cell_type": "code",
   "execution_count": 14,
   "id": "0f81e472",
   "metadata": {},
   "outputs": [],
   "source": [
    "batch_input = {\n",
    "    'file': test_df.sample(100).to_csv(header=True, index=False)\n",
    "}"
   ]
  },
  {
   "cell_type": "code",
   "execution_count": 15,
   "id": "7a348bc3",
   "metadata": {},
   "outputs": [],
   "source": [
    "response = requests.post(\n",
    "    local_machine_model_batch_url, \n",
    "    files=batch_input\n",
    ")"
   ]
  },
  {
   "cell_type": "code",
   "execution_count": 16,
   "id": "cc5d3ddd",
   "metadata": {},
   "outputs": [
    {
     "name": "stdout",
     "output_type": "stream",
     "text": [
      "{'predictions': [0, 1, 0, 0, 0, 0, 0, 0, 0, 0, 0, 0, 0, 0, 0, 0, 0, 0, 0, 0, 0, 0, 0, 0, 0, 0, 0, 0, 0, 0, 0, 0, 0, 0, 0, 0, 0, 0, 0, 0, 0, 0, 0, 0, 0, 0, 0, 0, 0, 0, 0, 0, 0, 0, 0, 0, 0, 0, 0, 0, 0, 0, 0, 0, 0, 0, 0, 0, 0, 0, 0, 0, 0, 0, 0, 0, 0, 0, 0, 0, 0, 0, 0, 0, 0, 0, 0, 0, 0, 0, 0, 0, 0, 0, 0, 0, 0, 0, 0, 0]}\n"
     ]
    }
   ],
   "source": [
    "print(response.json())"
   ]
  },
  {
   "cell_type": "markdown",
   "id": "9b7215c9",
   "metadata": {},
   "source": [
    "### Step 4: \"Containerize\" the server & run"
   ]
  },
  {
   "cell_type": "markdown",
   "id": "93620287",
   "metadata": {},
   "source": [
    "Once the server logic is validated, we need to package the model + server along with all the runtime requirements into a container. This ensures that the server could be deployed easily on any runtime by eliminating manual duplication of the configuration options needed to run the server. \n",
    "\n",
    "Docker is the most popular containerization tool that allows us to quickly package all runtime requirements into a reusable container. Once the containerization is done, the container is typically ported over to a *canary environment* where a small fraction (1% - 5%) of real-time traffic is sent to the containerized app to iron out system dependencies.\n",
    "\n",
    "The steps involved in containerization of the model server is presented below."
   ]
  },
  {
   "cell_type": "markdown",
   "id": "1d97db32",
   "metadata": {},
   "source": [
    "![docker](figures/docker.drawio.png)"
   ]
  },
  {
   "cell_type": "markdown",
   "id": "28f8da84",
   "metadata": {},
   "source": [
    "The first step in containerization is to specify all the steps needed to run our model on *any* server by detailing these steps out in a `Dockerfile`. Let us look at the contents of the `Dockerfile` of our API to understand how the packaging is conducted."
   ]
  },
  {
   "cell_type": "markdown",
   "id": "3f8b7a25",
   "metadata": {},
   "source": [
    "```docker\n",
    "\n",
    "# create a minimal linux image with Python 3.9 installed \n",
    "FROM python:3.9-slim\n",
    "\n",
    "# create a working directory within the container\n",
    "WORKDIR /app\n",
    "\n",
    "# copy all files in the source directory to the working directory\n",
    "COPY . .\n",
    "\n",
    "# install all the requirements required for the model to serve predictions\n",
    "RUN pip install -r requirements.txt\n",
    "\n",
    "# run the gunicorn server from within the container\n",
    "CMD [\"gunicorn\", \"--bind\", \"0.0.0.0:8000\", \"--workers\", \"4\", \"--threads\", \"2\", \"app:maintenance_prediction_api\"]\n",
    "```"
   ]
  },
  {
   "cell_type": "markdown",
   "id": "1c587756",
   "metadata": {},
   "source": [
    "As the `Dockerfile` above shows, we list out all the steps required to be able to run the Flask server. These steps involve creating a Python runtime, copying over the required files into the container image, installing the packagers specified in `requirements.txt` and finally executing the command `gunicorn ...`. [Gunicorn](https://gunicorn.org/) is a production-grade, high performance WSGI server for UNIX. It complements the Flask app and delineates the app functionality (encoded in `app.py`) and the server interface."
   ]
  },
  {
   "cell_type": "markdown",
   "id": "61b71b6e",
   "metadata": {},
   "source": [
    "\n",
    "In this way, the `Dockerfile` acts as a blue print for the creation of a container. The next stage is to actually build an image from the blue print specified in the `Dockerfile`. This is achieved using the `docker build` command that allows us to also tag the image that is created using the instructions in the Dockerfile. For example, `docker build -t maintenancepredictor:1.0` builds a Docker image from the instructions mentioned in the `Dockerfile` placed in the current directory. "
   ]
  },
  {
   "cell_type": "markdown",
   "id": "f7894ca5",
   "metadata": {},
   "source": [
    "Running `docker images` should now show the images that were built."
   ]
  },
  {
   "cell_type": "markdown",
   "id": "87218ea0",
   "metadata": {},
   "source": [
    "Once built, this docker image can then either be shared with the stakeholders in the organization through a private repository (locally or on [cloud](https://cloud.google.com/container-registry)) or publicly ([DockerHub](https://hub.docker.com/)). They will now have access to the model + configuration needed to run a server wrapped around the model. "
   ]
  },
  {
   "cell_type": "markdown",
   "id": "c0ab1852",
   "metadata": {},
   "source": [
    "The next step after a docker image has been created and shared is to run the docker image on the host. \n",
    "\n",
    "The command `docker run -p 8000:8000 maintenancepredictor:1.0` achieves this step, where the container is now running.\n",
    "\n",
    "The container is finally created and ready to serve predictions. A significant advantage of containerization is that each container essentially acts as a self-contained microservice enabling rapid scaling.\n",
    "\n",
    "Handling multiple versions of model containers is handled by the tag. For example, the command `docker run -p 8000:8000 maintenancepredictor:latest` runs the production server using the container that was built most recently."
   ]
  },
  {
   "cell_type": "markdown",
   "id": "87f68bea",
   "metadata": {},
   "source": [
    "# Monitoring"
   ]
  },
  {
   "cell_type": "markdown",
   "id": "4e4def0c",
   "metadata": {},
   "source": [
    "In the context of machine learning model deployment, testing the endpoints created in the previous step is crucial to ensure the reliability and accuracy of the model in a production environment. After developing and configuring the model's endpoints, it is necessary to assess their performance by exposing them to various test datasets.\n",
    "\n",
    "To validate the model's effectiveness, it is important to use test data that the model has never encountered during training. This ensures that the model can handle inputs it hasn't been exposed to before and can generalize well beyond the training data. By using unseen test data, developers can identify any potential issues, limitations, or errors that may arise when processing unfamiliar inputs.\n",
    "\n",
    "Initially, synthetic data can be employed to test the model before its official deployment to customers or real-world usage. Synthetic data is artificially generated and can be designed to cover different edge cases, challenging scenarios, or specific patterns that may not be prevalent in real-world data. By using synthetic data, developers can deliberately create testing conditions that assess the model's robustness, resilience to outliers, and handling of unusual or rare inputs.\n",
    "\n",
    "However, while synthetic data provides a controlled environment for testing, it may not fully capture the complexity and diversity of real-world data. Therefore, after the model is deployed and actively used in production, it is crucial to transition to using live data for testing. Live data encompasses the actual input and output produced by the model during its operation in the real world. This allows developers to evaluate the model's performance under real-world conditions, considering factors such as data distribution shifts, concept drift, and evolving patterns that may occur over time.\n",
    "\n",
    "In practise, by using synthetic data before deployment and transitioning to live data in the production environment, developers can identify and address potential errors, validate the model's generalization capabilities, and adapt the system to handle distribution shifts and real-world complexities effectively."
   ]
  },
  {
   "cell_type": "code",
   "execution_count": 17,
   "id": "c0a9f92e",
   "metadata": {},
   "outputs": [],
   "source": [
    "model_url = \"http://52.172.239.17:8000/v1/equipment\"\n",
    "model_batch_url = \"http://52.172.239.17:8000/v1/equipmentbatch\""
   ]
  },
  {
   "cell_type": "code",
   "execution_count": 18,
   "id": "d775d0ee",
   "metadata": {},
   "outputs": [
    {
     "data": {
      "text/html": [
       "<div>\n",
       "<style scoped>\n",
       "    .dataframe tbody tr th:only-of-type {\n",
       "        vertical-align: middle;\n",
       "    }\n",
       "\n",
       "    .dataframe tbody tr th {\n",
       "        vertical-align: top;\n",
       "    }\n",
       "\n",
       "    .dataframe thead th {\n",
       "        text-align: right;\n",
       "    }\n",
       "</style>\n",
       "<table border=\"1\" class=\"dataframe\">\n",
       "  <thead>\n",
       "    <tr style=\"text-align: right;\">\n",
       "      <th></th>\n",
       "      <th>Type</th>\n",
       "      <th>Air temperature [K]</th>\n",
       "      <th>Process temperature [K]</th>\n",
       "      <th>Rotational speed [rpm]</th>\n",
       "      <th>Torque [Nm]</th>\n",
       "      <th>Tool wear [min]</th>\n",
       "      <th>ground_truth</th>\n",
       "    </tr>\n",
       "  </thead>\n",
       "  <tbody>\n",
       "    <tr>\n",
       "      <th>0</th>\n",
       "      <td>L</td>\n",
       "      <td>300.8</td>\n",
       "      <td>310.3</td>\n",
       "      <td>1538</td>\n",
       "      <td>36.1</td>\n",
       "      <td>198</td>\n",
       "      <td>0</td>\n",
       "    </tr>\n",
       "    <tr>\n",
       "      <th>1</th>\n",
       "      <td>M</td>\n",
       "      <td>303.6</td>\n",
       "      <td>311.8</td>\n",
       "      <td>1421</td>\n",
       "      <td>44.8</td>\n",
       "      <td>101</td>\n",
       "      <td>1</td>\n",
       "    </tr>\n",
       "    <tr>\n",
       "      <th>2</th>\n",
       "      <td>M</td>\n",
       "      <td>298.3</td>\n",
       "      <td>307.9</td>\n",
       "      <td>1485</td>\n",
       "      <td>42.0</td>\n",
       "      <td>117</td>\n",
       "      <td>0</td>\n",
       "    </tr>\n",
       "    <tr>\n",
       "      <th>3</th>\n",
       "      <td>L</td>\n",
       "      <td>303.3</td>\n",
       "      <td>311.3</td>\n",
       "      <td>1592</td>\n",
       "      <td>33.7</td>\n",
       "      <td>14</td>\n",
       "      <td>0</td>\n",
       "    </tr>\n",
       "    <tr>\n",
       "      <th>4</th>\n",
       "      <td>L</td>\n",
       "      <td>302.4</td>\n",
       "      <td>310.4</td>\n",
       "      <td>1865</td>\n",
       "      <td>23.9</td>\n",
       "      <td>129</td>\n",
       "      <td>0</td>\n",
       "    </tr>\n",
       "  </tbody>\n",
       "</table>\n",
       "</div>"
      ],
      "text/plain": [
       "  Type  Air temperature [K]  Process temperature [K]  Rotational speed [rpm]  \\\n",
       "0    L                300.8                    310.3                    1538   \n",
       "1    M                303.6                    311.8                    1421   \n",
       "2    M                298.3                    307.9                    1485   \n",
       "3    L                303.3                    311.3                    1592   \n",
       "4    L                302.4                    310.4                    1865   \n",
       "\n",
       "   Torque [Nm]  Tool wear [min]  ground_truth  \n",
       "0         36.1              198             0  \n",
       "1         44.8              101             1  \n",
       "2         42.0              117             0  \n",
       "3         33.7               14             0  \n",
       "4         23.9              129             0  "
      ]
     },
     "execution_count": 18,
     "metadata": {},
     "output_type": "execute_result"
    }
   ],
   "source": [
    "test_df.head()"
   ]
  },
  {
   "cell_type": "markdown",
   "id": "2acba4e2",
   "metadata": {},
   "source": [
    "## Short-term monitoring"
   ]
  },
  {
   "cell_type": "markdown",
   "id": "47b34e01",
   "metadata": {},
   "source": [
    "Before the model server can be accessed by customer requests, a set of short-term checks need to be conducted in a staging area where controlled traffic (i.e., not live) is presented to the model. The decision calculus for short-term monitoring on the staging endpoint is presented below."
   ]
  },
  {
   "cell_type": "markdown",
   "id": "996e8106",
   "metadata": {},
   "source": [
    "![stagingendpoint](figures/staging-endpoint.drawio.png)"
   ]
  },
  {
   "cell_type": "markdown",
   "id": "03514bc7",
   "metadata": {},
   "source": [
    "Specific business checks that we conduct in the context of classification models are: perturbation analysis and critical subgroup analysis."
   ]
  },
  {
   "cell_type": "markdown",
   "id": "9b8993f5",
   "metadata": {},
   "source": [
    "### Perturbation Analysis"
   ]
  },
  {
   "cell_type": "markdown",
   "id": "4a520849",
   "metadata": {},
   "source": [
    "Perturbation analysis involves introducing deliberate changes or perturbations to the input data and observing the corresponding impact on model predictions. This task helps evaluate the stability and robustness of the model. By systematically perturbing variables or introducing simulated variations, organizations can assess how sensitive the model is to different inputs and determine if it responds in an expected manner. For instance, in a credit risk assessment model, perturbation analysis could involve altering individual features such as income or credit utilization ratios to observe how the model's predictions change. This analysis helps identify potential vulnerabilities or inconsistencies in the model's behavior and informs the need for recalibration or retraining."
   ]
  },
  {
   "cell_type": "code",
   "execution_count": 19,
   "id": "a4ebeb9b",
   "metadata": {},
   "outputs": [],
   "source": [
    "baseline_payload = {\n",
    "    'Air temperature [K]': 300.8,\n",
    "    'Process temperature [K]': 310.3,\n",
    "    'Rotational speed [rpm]': 1538,\n",
    "    'Torque [Nm]': 36.1,\n",
    "    'Tool wear [min]': 198,\n",
    "    'Type': 'L'\n",
    "}"
   ]
  },
  {
   "cell_type": "code",
   "execution_count": 20,
   "id": "2dd8b6c9",
   "metadata": {},
   "outputs": [],
   "source": [
    "response = requests.post(model_url, json=baseline_payload)"
   ]
  },
  {
   "cell_type": "code",
   "execution_count": 21,
   "id": "5b13f54a",
   "metadata": {},
   "outputs": [
    {
     "name": "stdout",
     "output_type": "stream",
     "text": [
      "{'Failure expected?': 'no'}\n"
     ]
    }
   ],
   "source": [
    "print(response.json())"
   ]
  },
  {
   "cell_type": "code",
   "execution_count": 22,
   "id": "93b600ec",
   "metadata": {},
   "outputs": [],
   "source": [
    "test_payload = {\n",
    "    'Air temperature [K]': 301.8,\n",
    "    'Process temperature [K]': 310.3,\n",
    "    'Rotational speed [rpm]': 1538,\n",
    "    'Torque [Nm]': 36.1,\n",
    "    'Tool wear [min]': 198,\n",
    "    'Type': 'L'\n",
    "}"
   ]
  },
  {
   "cell_type": "code",
   "execution_count": 23,
   "id": "268e916f",
   "metadata": {},
   "outputs": [],
   "source": [
    "response = requests.post(model_url, json=test_payload)"
   ]
  },
  {
   "cell_type": "code",
   "execution_count": 24,
   "id": "8d4f9a1d",
   "metadata": {},
   "outputs": [
    {
     "name": "stdout",
     "output_type": "stream",
     "text": [
      "{'Failure expected?': 'no'}\n"
     ]
    }
   ],
   "source": [
    "print(response.json())"
   ]
  },
  {
   "cell_type": "markdown",
   "id": "386eeb23",
   "metadata": {},
   "source": [
    "### Monitoring Critical Subgroups"
   ]
  },
  {
   "cell_type": "markdown",
   "id": "72dced5c",
   "metadata": {},
   "source": [
    "In some applications, it is important to monitor the performance of machine learning models specifically for critical subgroups or segments of the population. These subgroups may be defined by demographic characteristics, geographic location, or other relevant factors. For example, in healthcare, it is crucial to ensure that a medical diagnosis model performs well across different demographic groups to avoid bias or disparities in patient care. Short-term monitoring tasks involve regularly assessing model performance metrics, such as accuracy or false positive rates, specifically for these critical subgroups. If significant disparities or performance gaps are detected, further investigation can be conducted to understand the root causes and take necessary corrective actions, such as retraining the model or adjusting its decision thresholds."
   ]
  },
  {
   "cell_type": "markdown",
   "id": "49ffa03f",
   "metadata": {},
   "source": [
    "In this case, we could test the model by presenting the edge cases of critical equipement failures and ascertaining that the model is able to detect these crucial failures."
   ]
  },
  {
   "cell_type": "code",
   "execution_count": 25,
   "id": "efa9e288",
   "metadata": {},
   "outputs": [],
   "source": [
    "critical_equipment_payload = {\n",
    "    'Air temperature [K]': 303.6,\n",
    "    'Process temperature [K]': 311.8,\n",
    "    'Rotational speed [rpm]': 1421,\n",
    "    'Torque [Nm]': 44.8,\n",
    "    'Tool wear [min]': 101,\n",
    "    'Type': 'M'\n",
    "}"
   ]
  },
  {
   "cell_type": "code",
   "execution_count": 26,
   "id": "4acb9330",
   "metadata": {},
   "outputs": [],
   "source": [
    "response = requests.post(model_url, json=critical_equipment_payload)"
   ]
  },
  {
   "cell_type": "code",
   "execution_count": 27,
   "id": "d57a04f7",
   "metadata": {},
   "outputs": [
    {
     "name": "stdout",
     "output_type": "stream",
     "text": [
      "{'Failure expected?': 'no'}\n"
     ]
    }
   ],
   "source": [
    "print(response.json())"
   ]
  },
  {
   "cell_type": "markdown",
   "id": "6460e2b7",
   "metadata": {},
   "source": [
    "## Long-term monitoring"
   ]
  },
  {
   "cell_type": "markdown",
   "id": "66172d9b",
   "metadata": {},
   "source": [
    "Once short-term monitoring checks pass, the endpoint can receive full-fledged  live traffic. We then move on to the long-term monitoring phase where a series of tests are designed to alert the data scientist about deviations in model predictions or deviations in features received at the end point.\n",
    "\n",
    "These deviations are conceptualized as data drift and model drift. A reference implementation of the long-term monitoring workflow is presented below. This workflow is not a one-time process. It is periodically executed according to the service level agreement (e.g., every one hour or every $n$ predictions)."
   ]
  },
  {
   "cell_type": "markdown",
   "id": "4879bb57",
   "metadata": {},
   "source": [
    "![drift](figures/production-endpoint-monitoring.drawio.png)"
   ]
  },
  {
   "cell_type": "markdown",
   "id": "b78b1b30",
   "metadata": {},
   "source": [
    "As the figure above indicates, there are three key long-term monitoring checks that need to be conducted to ensure model quality. These checks are repeatedly executed using automation, and it is common practice to take a random sample of the full traffic for executing these three checks. There is also a priority order for these checks.\n",
    "\n",
    "1. Distribution Deviation Check:\n",
    "   The first check involves comparing the distribution of model predictions on the sample with the target observed in the training data. This comparison ensures that there is no target drift.\n",
    "\n",
    "2. Feature Consistency Check:\n",
    "   The second check involves comparing the features received in the request with those present in the training data. This ensures that there is no data drift.\n",
    "\n",
    "3. Prediction Validation Check:\n",
    "   The third check involves comparing the model predictions with the ground truth. This ensures that there is no model drift."
   ]
  },
  {
   "cell_type": "markdown",
   "id": "92b94607",
   "metadata": {},
   "source": [
    "To understand if there is model drift or data drift, we need to access the logs where incoming requests and model responses from a random sample of live traffic are collected. We will also need the training data so that appropriate baselines can be created."
   ]
  },
  {
   "cell_type": "code",
   "execution_count": 28,
   "id": "80e094b3",
   "metadata": {},
   "outputs": [],
   "source": [
    "training_data = pd.read_csv('data/20230921_training_features.csv')\n",
    "training_targets = pd.read_csv('data/20230921_training_target.csv')"
   ]
  },
  {
   "cell_type": "code",
   "execution_count": 29,
   "id": "85cbe56e",
   "metadata": {},
   "outputs": [],
   "source": [
    "training_data['target'] = training_targets"
   ]
  },
  {
   "cell_type": "code",
   "execution_count": 30,
   "id": "c59736ea",
   "metadata": {},
   "outputs": [],
   "source": [
    "test_samples = test_df.sample(750)"
   ]
  },
  {
   "cell_type": "code",
   "execution_count": 31,
   "id": "5321f581",
   "metadata": {},
   "outputs": [],
   "source": [
    "batch_input = {\n",
    "    'file': test_samples.to_csv(header=True, index=False)\n",
    "}"
   ]
  },
  {
   "cell_type": "code",
   "execution_count": 32,
   "id": "df9c6104",
   "metadata": {},
   "outputs": [],
   "source": [
    "response = requests.post(\n",
    "    model_batch_url, \n",
    "    files=batch_input\n",
    ")"
   ]
  },
  {
   "cell_type": "code",
   "execution_count": 40,
   "id": "711fd853",
   "metadata": {},
   "outputs": [],
   "source": [
    "model_predictions = np.array(response.json()['predictions'])"
   ]
  },
  {
   "cell_type": "code",
   "execution_count": 41,
   "id": "693ba4e3",
   "metadata": {},
   "outputs": [],
   "source": [
    "ground_truths = test_samples['ground_truth'].values"
   ]
  },
  {
   "cell_type": "markdown",
   "id": "d9410cce",
   "metadata": {},
   "source": [
    "### Target Checks"
   ]
  },
  {
   "cell_type": "markdown",
   "id": "2ffb0ee0",
   "metadata": {},
   "source": [
    "This is a very critical check especially when the ground truth is delayed. By comparing the distribution of the predictions with the target present in the training data, we can flag deviations beyond expected amount of variation."
   ]
  },
  {
   "cell_type": "markdown",
   "id": "f17c5e9a",
   "metadata": {},
   "source": [
    "In the plots below, we compare the distribution of predictions from the AWS endpoint logs (~30% random sample of live traffic) with the distribution of the target in the training data."
   ]
  },
  {
   "cell_type": "code",
   "execution_count": 77,
   "id": "c27cc36a",
   "metadata": {},
   "outputs": [
    {
     "data": {
      "image/png": "[encoded data removed]",
      "text/plain": [
       "<Figure size 900x500 with 2 Axes>"
      ]
     },
     "metadata": {},
     "output_type": "display_data"
    }
   ],
   "source": [
    "plt.figure(figsize=(9, 5))\n",
    "plt.subplot(211)\n",
    "sns.countplot(x='target', data=training_data)\n",
    "plt.title(\"Distribution of targets in training data\")\n",
    "plt.subplot(212)\n",
    "sns.countplot(x=model_predictions)\n",
    "plt.title(\"Distribution of predicted targets from the deployed model\")\n",
    "plt.tight_layout()"
   ]
  },
  {
   "cell_type": "markdown",
   "id": "12424e71",
   "metadata": {},
   "source": [
    "### Data Drift"
   ]
  },
  {
   "cell_type": "markdown",
   "id": "4ea0b5b4",
   "metadata": {},
   "source": [
    "We define data drift as the phenomenon of deviation or changes occurring between the distribution or characteristics of the training features and the corresponding live features used for real-time predictions or analysis. It indicates a shift in the underlying data generating process and can have significant implications for the performance and reliability of machine learning models or data-driven systems. Here are a few examples of data drift:\n",
    "\n",
    "1. Example of Numeric Data Drift:\n",
    "   Imagine a predictive model trained on historical sales data of a retail store. The model learns patterns and relationships between features such as product price, customer demographics, and time of purchase. Over time, if there is a shift in customer behavior, such as a change in purchasing preferences or economic conditions, the distribution of live data features (e.g., customer income levels) may deviate from the training data. This data drift can impact the accuracy and effectiveness of the model's predictions.\n",
    "\n",
    "2. Example of Categorical Data Drift:\n",
    "   Consider a customer churn prediction model trained on telecom customer data. The model learns from features like customer demographics, subscription plans, and service usage patterns. However, if there are changes in the market or industry regulations, new subscription plans may be introduced or existing plans may be modified. These changes can lead to shifts in the distribution of live data features, such as the introduction of new plan categories or changes in service usage patterns, causing data drift that can affect the model's ability to accurately predict customer churn."
   ]
  },
  {
   "cell_type": "markdown",
   "id": "898cb9d4",
   "metadata": {},
   "source": [
    "Numeric data drift can be tested using the **Kolmogorov-Smirnov (K-S) test**. The only change is that here, we check if there is any difference in distributions of numeric features in the live data and training data. "
   ]
  },
  {
   "cell_type": "markdown",
   "id": "dffe50ac",
   "metadata": {},
   "source": [
    "Here's a short explanation of how the K-S test works in this scenario:\n",
    "\n",
    "1. Hypotheses:\n",
    "   The K-S test involves defining two hypotheses:\n",
    "   - Null Hypothesis ($H_0$): The distribution of model predictions is the same as the distribution of targets in the training data.\n",
    "   - Alternative Hypothesis ($H_1$): The distribution of model predictions differs from the distribution of targets in the training data.\n",
    "\n",
    "2. Test Statistic:\n",
    "   The K-S test calculates a test statistic known as the Kolmogorov-Smirnov statistic ($D$), which represents the maximum difference between the cumulative distribution functions (CDFs) of the two distributions being compared.\n",
    "\n",
    "3. Significance Level:\n",
    "   A significance level ($\\alpha$) is chosen to determine the threshold for rejecting the null hypothesis. Commonly used values for alpha are 0.05 or 0.01, indicating a 5% or 1% level of significance, respectively.\n",
    "\n",
    "4. Decision:\n",
    "   In the K-S test, the p-value is calculated, which represents the probability of obtaining a test statistic as extreme as the one observed, assuming the null hypothesis is true. The p-value is then compared to the chosen significance level ($\\alpha$).\n",
    "\n",
    "   - If the p-value is greater than $\\alpha$, we fail to reject the null hypothesis, indicating no significant difference between the distributions.\n",
    "   - If the p-value is less than or equal to $\\alpha$, we reject the null hypothesis, suggesting a significant difference between the distributions.\n",
    "\n",
    "   By using p-values as the decision point, the K-S test allows for a more quantitative assessment of the difference between the distributions, providing a clearer basis for decision-making in evaluating model quality and detecting potential drift."
   ]
  },
  {
   "cell_type": "markdown",
   "id": "de1d6caf",
   "metadata": {},
   "source": [
    "It's important to note that the K-S test assumes that the samples being compared are independent and that the distributions being tested are continuous. The K-S test is a non-parametric test, which means that it does not make any assumptions about the underlying distribution of the data. This makes it a versatile test that can be used with a variety of data types."
   ]
  },
  {
   "cell_type": "markdown",
   "id": "275d6a6b",
   "metadata": {},
   "source": [
    "Categorical data drift can be ascertained using the **Population Stability Index (PSI) test**. PSI is a measure used to assess the stability of a population over time. It compares the distribution of a specific variable - numeric or categorical - (such as age, income, or any other relevant factor) in a baseline population to its distribution in a subsequent population. PSI helps identify significant changes in the population's characteristics."
   ]
  },
  {
   "cell_type": "markdown",
   "id": "a572e990",
   "metadata": {},
   "source": [
    "The formula for calculating PSI is as follows:\n",
    "$$\n",
    "\\textbf{PSI} = \\sum_{\\text{classes}} (\\rho_{\\text{actual}} - \\rho_{\\text{expected}}) * ln(\\rho_{\\text{actual}} / \\rho_{\\text{expected}})\n",
    "$$"
   ]
  },
  {
   "cell_type": "markdown",
   "id": "81b121ae",
   "metadata": {},
   "source": [
    "Where:\n",
    "- $\\rho_{\\text{actual}}$ refers to the proportion of each class of the categorical variable in live data.\n",
    "- $\\rho_{\\text{expected}}$ refers to the proportion of each class of the categorical variable in training data."
   ]
  },
  {
   "cell_type": "code",
   "execution_count": 43,
   "id": "fcf829c0",
   "metadata": {},
   "outputs": [],
   "source": [
    "def psi(actual_proportions, expected_proportions):\n",
    "\n",
    "    psi_values = (actual_proportions - expected_proportions) * \\\n",
    "        np.log(actual_proportions / expected_proportions)\n",
    "\n",
    "    return sum(psi_values)"
   ]
  },
  {
   "cell_type": "code",
   "execution_count": 44,
   "id": "def3371f",
   "metadata": {},
   "outputs": [],
   "source": [
    "target = 'Machine failure'\n",
    "numeric_features = [\n",
    "    'Air temperature [K]', \n",
    "    'Process temperature [K]', \n",
    "    'Rotational speed [rpm]',\n",
    "    'Torque [Nm]',\n",
    "    'Tool wear [min]'\n",
    "]\n",
    "categorical_features = ['Type']"
   ]
  },
  {
   "cell_type": "code",
   "execution_count": 45,
   "id": "ad9272e0",
   "metadata": {},
   "outputs": [],
   "source": [
    "p_value_threshold = 0.05\n",
    "psi_threshold = 0.1\n",
    "features_with_data_drift = []"
   ]
  },
  {
   "cell_type": "code",
   "execution_count": 46,
   "id": "466c3ffe",
   "metadata": {},
   "outputs": [],
   "source": [
    "for k, feature in enumerate(test_samples.columns):\n",
    "\n",
    "    if feature in numeric_features:\n",
    "        statistic, p_value = ks_2samp(\n",
    "            training_data[feature].values, \n",
    "            test_samples[feature].values\n",
    "        )\n",
    "        \n",
    "        if p_value < p_value_threshold:\n",
    "            features_with_data_drift.append(feature)\n",
    "\n",
    "    elif feature in categorical_features:\n",
    "        psi_value = psi(\n",
    "            test_samples[feature].value_counts(normalize=True).values,\n",
    "            training_data[feature].value_counts(normalize=True).values\n",
    "        )\n",
    "        \n",
    "        if psi_value > psi_threshold:\n",
    "            features_with_data_drift.append(feature)"
   ]
  },
  {
   "cell_type": "code",
   "execution_count": 47,
   "id": "b6473c5e",
   "metadata": {},
   "outputs": [
    {
     "data": {
      "text/plain": [
       "[]"
      ]
     },
     "execution_count": 47,
     "metadata": {},
     "output_type": "execute_result"
    }
   ],
   "source": [
    "features_with_data_drift"
   ]
  },
  {
   "cell_type": "markdown",
   "id": "78ba1b66",
   "metadata": {},
   "source": [
    "For this test sample, there is no evidence of data drift."
   ]
  },
  {
   "cell_type": "markdown",
   "id": "f96bef07",
   "metadata": {},
   "source": [
    "### Model Drift"
   ]
  },
  {
   "cell_type": "markdown",
   "id": "6933608d",
   "metadata": {},
   "source": [
    "#### Accounting for ground truth"
   ]
  },
  {
   "cell_type": "markdown",
   "id": "0b6cf1ed",
   "metadata": {},
   "source": [
    "In long-term model monitoring, the timing of observing the ground truth plays a crucial role in determining the monitoring approach and its impact on decision-making. There are two distinct situations: one where the ground truth is immediately observed and available for comparison with model predictions, and the other where there is a lag in observing the ground truth. Let's delve deeper into each scenario with relevant examples.\n",
    "\n",
    "In the first situation, where the ground truth is immediately observed, monitoring becomes a real-time process. This means that as soon as the actual outcomes or labels are known, they can be compared with the predictions made by the model. For instance, in fraud detection, a machine learning model is deployed to flag potentially fraudulent transactions. With immediate ground truth observation, the model's predictions can be compared to whether a transaction was indeed fraudulent or not. If the model flags a transaction as fraudulent but it turns out to be legitimate, it indicates a false positive. Real-time monitoring allows for quick feedback and adjustments to the model to minimize false positives or negatives and improve its performance.\n",
    "\n",
    "On the other hand, when there is a lag in observing the ground truth, monitoring becomes more challenging. In some cases, it may take time to collect the necessary data or obtain feedback on the actual outcomes. Consider a recommendation system for an online streaming platform. The model suggests content to users based on their viewing history and preferences. However, the ground truth, which is the user's feedback on whether they liked or disliked the recommended content, may not be immediately available. In such cases, monitoring involves collecting user feedback over time and analyzing it periodically to assess the effectiveness of the recommendations. This lag in ground truth observation introduces delays in model evaluation and necessitates robust tracking mechanisms to ensure accurate feedback is collected for ongoing monitoring and improvement.\n",
    "\n",
    "Understanding these two situations highlights the importance of considering the timing of ground truth observation in designing effective monitoring strategies. Real-time monitoring enables immediate action and adjustment, while lagged monitoring requires careful tracking and feedback collection to evaluate model performance accurately. Both approaches contribute to the iterative process of refining machine learning models and ensuring their continued relevance and impact on business outcomes."
   ]
  },
  {
   "cell_type": "markdown",
   "id": "fa05b155",
   "metadata": {},
   "source": [
    "#### Instantaneous ground truth"
   ]
  },
  {
   "cell_type": "markdown",
   "id": "7e25a3b2",
   "metadata": {},
   "source": [
    "To confirm model drift, we compare the ground truth of live data with the predictions from the deployed model. This involves extracting samples where the predictions and ground truth are compared, followed by conducting a statistical test to determine if there is a significant difference between the model predictions and the ground truth. \n",
    "\n",
    "For classification problems, we compare the ground truth classifications of a random sample with the model's predictions. This comparison utilizes the PSI test we have seen earlier.\n",
    "\n",
    "By utilizing paired two-sample t-tests for regression problems and the PSI test for classification problems, we can assess the significance of the differences between the model predictions and the ground truth, allowing us to identify potential model drift."
   ]
  },
  {
   "cell_type": "code",
   "execution_count": 48,
   "id": "66f67633",
   "metadata": {},
   "outputs": [],
   "source": [
    "counter_model_predictions = Counter(model_predictions)\n",
    "counter_ground_truths = Counter(ground_truths)"
   ]
  },
  {
   "cell_type": "code",
   "execution_count": 49,
   "id": "50189b83",
   "metadata": {},
   "outputs": [],
   "source": [
    "prediction_proportions = {\n",
    "    i: counter_model_predictions[i]/len(model_predictions) for i in counter_model_predictions\n",
    "}"
   ]
  },
  {
   "cell_type": "code",
   "execution_count": 50,
   "id": "5a858905",
   "metadata": {},
   "outputs": [],
   "source": [
    "ground_truth_proportions = {\n",
    "    i: counter_ground_truths[i]/len(model_predictions) for i in counter_ground_truths\n",
    "}"
   ]
  },
  {
   "cell_type": "code",
   "execution_count": 51,
   "id": "b1aa4091",
   "metadata": {},
   "outputs": [
    {
     "data": {
      "text/plain": [
       "{0: 0.976, 1: 0.024}"
      ]
     },
     "execution_count": 51,
     "metadata": {},
     "output_type": "execute_result"
    }
   ],
   "source": [
    "prediction_proportions"
   ]
  },
  {
   "cell_type": "code",
   "execution_count": 52,
   "id": "4bbddf9f",
   "metadata": {},
   "outputs": [
    {
     "data": {
      "text/plain": [
       "{0: 0.9746666666666667, 1: 0.025333333333333333}"
      ]
     },
     "execution_count": 52,
     "metadata": {},
     "output_type": "execute_result"
    }
   ],
   "source": [
    "ground_truth_proportions"
   ]
  },
  {
   "cell_type": "code",
   "execution_count": 54,
   "id": "d287a226",
   "metadata": {},
   "outputs": [],
   "source": [
    "live_proportions = np.array(list(prediction_proportions.values()))\n"
   ]
  },
  {
   "cell_type": "code",
   "execution_count": 55,
   "id": "e0b20310",
   "metadata": {},
   "outputs": [],
   "source": [
    "ground_truth_proportions = np.array(list(ground_truth_proportions.values()))"
   ]
  },
  {
   "cell_type": "code",
   "execution_count": 58,
   "id": "4b318cc9",
   "metadata": {},
   "outputs": [
    {
     "data": {
      "text/plain": [
       "7.391236730907829e-05"
      ]
     },
     "execution_count": 58,
     "metadata": {},
     "output_type": "execute_result"
    }
   ],
   "source": [
    "psi(live_proportions, ground_truth_proportions)"
   ]
  },
  {
   "cell_type": "markdown",
   "id": "13a5b956",
   "metadata": {},
   "source": [
    "Since the PSI value is less than 0.1, we conclude that there is no model drift. "
   ]
  },
  {
   "cell_type": "markdown",
   "id": "30918442",
   "metadata": {},
   "source": [
    "# Summary"
   ]
  },
  {
   "cell_type": "markdown",
   "id": "6bdc313b",
   "metadata": {},
   "source": [
    "![mlops-summary](figures/mlops-summary.drawio.png)"
   ]
  },
  {
   "cell_type": "markdown",
   "id": "f940dcb6",
   "metadata": {},
   "source": [
    "![mlops-mindmap](figures/mlops-mindmap.drawio.png)"
   ]
  }
 ],
 "metadata": {
  "kernelspec": {
   "display_name": "Python 3 (ipykernel)",
   "language": "python",
   "name": "python3"
  },
  "language_info": {
   "codemirror_mode": {
    "name": "ipython",
    "version": 3
   },
   "file_extension": ".py",
   "mimetype": "text/x-python",
   "name": "python",
   "nbconvert_exporter": "python",
   "pygments_lexer": "ipython3",
   "version": "3.9.18"
  }
 },
 "nbformat": 4,
 "nbformat_minor": 5
}
