{
 "cells": [
  {
   "cell_type": "markdown",
   "id": "478e3140-ff0b-402e-9439-31fbe8f8ba85",
   "metadata": {},
   "source": [
    "# Learning Objectives\n",
    "\n",
    "- Provide a comprehensive understanding of MLOps as a conceptual subset of Development & Operations (DevOps) from software engineering.\n",
    "- Illustrate how integration of version control using Git enables tracking key artifacts in MLOps pipelines.\n",
    "- Introduce a MLOps project workflow that implements DevOps CI/CD practises."
   ]
  },
  {
   "cell_type": "markdown",
   "id": "fd8ed86a-f811-4365-8238-ae40d07f38b2",
   "metadata": {},
   "source": [
    "# Introduction"
   ]
  },
  {
   "cell_type": "markdown",
   "id": "53d03cad-2935-4456-b412-6a67b62f17d4",
   "metadata": {},
   "source": [
    "In an endeavor to build systems that constantly learn from data, we will need to build a mindset that fosters organizational processes around building model artifacts and gracefully deploying fresher versions of these models to production. One way of implementing these processes is to gain inspiration from the broader the world of software development, and specifically at two ideas from this world:\n",
    "- Principles of DevOps to build and manage ML systems\n",
    "- Continuous Integration and Continous Deployment (CI/CD) to automate DevOps"
   ]
  },
  {
   "cell_type": "markdown",
   "id": "3d02a293-968b-45ac-b5ff-c6887150c6b1",
   "metadata": {},
   "source": [
    "## DevOps -> MLOps"
   ]
  },
  {
   "cell_type": "markdown",
   "id": "b042d2eb-83f0-4f1f-bd66-000a95896a85",
   "metadata": {},
   "source": [
    "![devops](figures/devops-cycle.png)"
   ]
  },
  {
   "cell_type": "markdown",
   "id": "09b648b7-79b4-4907-87d2-fa397dba2454",
   "metadata": {},
   "source": [
    "[Source](https://www.hiclipart.com/free-transparent-background-png-clipart-pytym)"
   ]
  },
  {
   "cell_type": "markdown",
   "id": "a3401b6b-432c-4d20-9b89-6c4bed94c539",
   "metadata": {},
   "source": [
    "The DevOps cycle encompasses a set of steps that facilitate the development, deployment, and operation of software systems. In the context of machine learning, these steps can be adapted to create an ML DevOps cycle, which focuses on managing and automating the machine learning workflow. Let us look at each of these steps in detail."
   ]
  },
  {
   "cell_type": "markdown",
   "id": "7f3d1817-51b9-4a95-a229-2932803f2fd5",
   "metadata": {},
   "source": [
    "1. *Code*: This stage involves developing and maintaining the machine learning codebase. This includes writing code for data preprocessing, model training, evaluation, and deployment. \n",
    "\n",
    "2. *Build*: This stage involves packaging the code and its dependencies into a deployable format. This step ensures that the ML codebase can be easily reproduced and deployed in different environments. \n",
    "\n",
    "3. *Test*: This stage focuses on verifying the functionality, quality, and performance of the containerized model. This includes running unit tests (i.e., short-term monitoring checks), integration tests (to ensure the model doesn't break an existing system), and evaluating model performance on test datasets. \n",
    "\n",
    "4. *Release*: This stage involves preparing the containerized model for deployment in a production environment. This includes generating deployment artifacts (including a canary environment for release), documenting release notes, and ensuring that all necessary dependencies are included.\n",
    "\n",
    "5. *Deploy*: In this stage, the containerized model is deployed to a production environment, making it available for serving predictions or integrating with other systems.\n",
    "\n",
    "6. *Operate*: This stage focuses on monitoring and managing the deployed ML system. This includes logging relevant metrics, handling errors, and ensuring the system's health and availability. Note that at this stage the focus is on logging and measuring business metrics around the deployed ML model.\n",
    "\n",
    "7. *Monitor*: This involves continuously monitoring the ML system's performance, data quality, and model behavior in a production environment using a series of long-term monitoring checks. This helps identify anomalies, detect drift, and ensure ongoing reliability.\n",
    "\n",
    "8. *Plan*: This stage focuses on gathering feedback, analyzing performance, and incorporating improvements into future iterations of the ML system. It involves planning for enhancements, bug fixes, and updates."
   ]
  },
  {
   "cell_type": "markdown",
   "id": "d81cad0b-2761-4574-bf7f-125dbf60a914",
   "metadata": {},
   "source": [
    "## Continuous Integration/Continuous Deployment (CI/CD)"
   ]
  },
  {
   "cell_type": "markdown",
   "id": "157513f2-48b6-4128-aaf0-61f2ec709208",
   "metadata": {},
   "source": [
    "CI/CD (Continuous Integration/Continuous Deployment) is a crucial component of the DevOps cycle in the context of machine learning. It focuses on automating the process of integrating code changes, testing, and deploying ML models, ensuring a streamlined and efficient workflow. \n"
   ]
  },
  {
   "cell_type": "markdown",
   "id": "a9a4a67c-a0d1-42f1-94c6-2a0d431b9f2d",
   "metadata": {},
   "source": [
    "Continuous Integration (CI):\n",
    "- CI involves automating the integration of code changes made by different developers into a shared repository. It aims to prevent integration conflicts and maintain code quality.\n",
    "- In the ML context, CI ensures that changes to the ML codebase, including data preprocessing, model training, and evaluation, are automatically integrated into a central repository.\n",
    "- CI systems, such as AWS CodeBuild, Azure DevOps, GitHub Actions or Jenkins, trigger automated builds and tests whenever changes are pushed to the repository.\n",
    "- Continuous integration facilitates collaboration, identifies integration issues early, and promotes a consistent and stable codebase."
   ]
  },
  {
   "cell_type": "markdown",
   "id": "de188424-bb85-4f48-98e9-fb5e4ea41775",
   "metadata": {},
   "source": [
    "Continuous Deployment (CD):\n",
    "- CD extends CI by automating the deployment process, allowing ML models and related components to be deployed to production environments in a reliable and reproducible manner.\n",
    "- CD enables the automated execution of the machine learning pipeline, including model training, evaluation, packaging, and deployment.\n",
    "- CD systems leverage CI artifacts and trigger deployment processes based on predefined criteria, such as passing tests or specific branch merges.\n",
    "- CD ensures that ML models are consistently deployed to production, reducing manual effort and minimizing the risk of human error.\n",
    "- It enables faster and more frequent deployments, enabling rapid iteration and quicker delivery of ML-based applications.\n",
    "\n",
    "By leveraging CI/CD practices, ML teams can achieve greater efficiency, collaboration, and reliability in developing and deploying machine learning models. Let us now see the key steps to be followed to execute a CI/CD process for MLOps."
   ]
  },
  {
   "cell_type": "markdown",
   "id": "55215dfd-13d7-48be-886f-91150a3f3311",
   "metadata": {},
   "source": [
    "## Key steps in CI/CD for MLOps"
   ]
  },
  {
   "cell_type": "markdown",
   "id": "cdc51004-0056-4483-a554-7de813c5d14f",
   "metadata": {},
   "source": [
    "An operational CI/CD MLOps system hinges on two key steps:"
   ]
  },
  {
   "cell_type": "markdown",
   "id": "b176f4e6-b44a-4f85-882e-1d6da7401a27",
   "metadata": {},
   "source": [
    "**Step 1 - Pipeline Delineation** \n",
    "\n",
    "A machine learning pipeline defines the sequence of steps required to train, evaluate, and deploy machine learning models. It encompasses various stages, such as data preprocessing, feature engineering, model training, validation, testing, and deployment. The pipeline ensures consistency and reproducibility in the machine learning workflow.\n",
    "\n",
    "The pipeline can be represented as a series of interconnected components or modules, each responsible for a specific task. The pipeline delineation specifies the order of execution and the dependencies between the components."
   ]
  },
  {
   "cell_type": "markdown",
   "id": "b5f537a9-c2fb-4bcc-b171-ec4a7fefd445",
   "metadata": {},
   "source": [
    "**Step 2 - Version Control System for Tracking Pipeline Changes**\n",
    "\n",
    "In an MLOps workflow, it is crucial to track changes made to the machine learning pipeline, including modifications to code, configurations, and dependencies. A version control system, such as Git, serves as the foundation for tracking and managing these changes. With a version control system, each change made to the pipeline is recorded as a commit, capturing the specific modifications made at a given point in time.\n",
    "\n",
    "The utility of version control goes beyond tracking changes though. When a version control system detects a change in the pipeline, it can be programmed to trigger the execution of the pipeline by default. This ensures that any modifications to the pipeline automatically initiate the necessary steps for retraining, reevaluation, or redeployment. For example, if a developer makes changes to the preprocessing component of the pipeline, such as adding new data transformations or modifying existing ones, the version control system registers the changes. As a result, the pipeline execution is triggered, rerunning the preprocessing step with the updated logic. Similarly, if a change is made to the model training component, such as using a different algorithm or adjusting hyperparameters, the version control system captures the modifications and initiates the retraining process."
   ]
  },
  {
   "cell_type": "markdown",
   "id": "30f69b33-9713-4e3e-825d-d7a91336712c",
   "metadata": {},
   "source": [
    "By coupling the version control system with automatic pipeline execution, the MLOps system ensures that any changes to the pipeline are automatically incorporated into the workflow, reducing the manual effort required for execution and achieving a CI/CD workflow."
   ]
  },
  {
   "cell_type": "markdown",
   "id": "d4bcab75-32ca-4ee0-b1b9-1dd0a606fe0e",
   "metadata": {},
   "source": [
    "# Business Use Case"
   ]
  },
  {
   "cell_type": "markdown",
   "id": "64fb40b2-2a48-4679-8b96-15fc45843a1e",
   "metadata": {},
   "source": [
    "<div class=\"alert alert-block alert-success\">\n",
    " \n",
    "For this session consider the case of predicting machinery failure based on the quality of the machinery and its wear and tear. Such predictions often require an expert intervention on the shopfloor and result in high dependencies on the expert.\n",
    "\n",
    "The dataset used in this session is hosted on [OpenML](https://www.openml.org/search?type=data&status=active&id=4289033et).\n",
    "\n",
    "</div>"
   ]
  },
  {
   "cell_type": "markdown",
   "id": "afa431ef-13b8-47c0-8618-2be994d25170",
   "metadata": {},
   "source": [
    "# ML Pipelines"
   ]
  },
  {
   "cell_type": "markdown",
   "id": "c5c72616-5dc2-497e-a989-983c623fca8d",
   "metadata": {},
   "source": [
    "## Concept\n",
    "\n",
    "Pipelines are a series of steps that are connected with each other; each step accomplishes a specific machine learning task.\n",
    "\n",
    "For example, a typical machine learning pipeline might include the following steps:\n",
    "- Data ingestion and preprocessing: Cleansing, transformation, and feature engineering on raw data.\n",
    "- Model training: Training machine learning models using a specific algorithm and hyperparameters.\n",
    "- Model evaluation: Assessing the model's performance using appropriate metrics and validation techniques.\n",
    "- Model deployment: Deploying the trained model for inference or integration into a production environment."
   ]
  },
  {
   "cell_type": "markdown",
   "id": "2af94b5c-47e7-4792-bb35-520fdb2de8d5",
   "metadata": {},
   "source": [
    "## Implementation"
   ]
  },
  {
   "cell_type": "markdown",
   "id": "a8491a88-90fe-4c47-8fa3-e3f07343002a",
   "metadata": {},
   "source": [
    "### Setup"
   ]
  },
  {
   "cell_type": "markdown",
   "id": "c2b353ff-2911-4e34-b776-24cf8796a20d",
   "metadata": {},
   "source": [
    "Imports"
   ]
  },
  {
   "cell_type": "code",
   "execution_count": 1,
   "id": "7d4b39e7-ce30-4900-9478-4feeb9579847",
   "metadata": {},
   "outputs": [],
   "source": [
    "import sklearn\n",
    "import joblib\n",
    "\n",
    "from scipy.stats import randint\n",
    "\n",
    "from sklearn.datasets import fetch_openml\n",
    "from sklearn.preprocessing import StandardScaler, OneHotEncoder\n",
    "from sklearn.compose import make_column_transformer\n",
    "from sklearn.pipeline import make_pipeline\n",
    "from sklearn.model_selection import train_test_split, cross_validate, RandomizedSearchCV\n",
    "from sklearn.ensemble import GradientBoostingClassifier"
   ]
  },
  {
   "cell_type": "code",
   "execution_count": 2,
   "id": "cd972b0b-1338-435c-abd6-31d7977198e0",
   "metadata": {},
   "outputs": [],
   "source": [
    "sklearn.set_config(display='diagram')"
   ]
  },
  {
   "cell_type": "code",
   "execution_count": 3,
   "id": "036e6980-64f7-47e1-bcb9-6eb1ab5b884c",
   "metadata": {},
   "outputs": [
    {
     "name": "stdout",
     "output_type": "stream",
     "text": [
      "1.2.0\n"
     ]
    }
   ],
   "source": [
    "print(sklearn.__version__)"
   ]
  },
  {
   "cell_type": "markdown",
   "id": "2550e752-25a5-43de-8199-af748bed859b",
   "metadata": {},
   "source": [
    "### Data"
   ]
  },
  {
   "cell_type": "code",
   "execution_count": 4,
   "id": "18ba82f2-48c9-429f-ac1f-7b3ebaacc49b",
   "metadata": {},
   "outputs": [],
   "source": [
    "dataset = fetch_openml(data_id=42890, as_frame=True, parser='auto')"
   ]
  },
  {
   "cell_type": "markdown",
   "id": "40a080c2-d23b-4605-9cdc-5845541766a7",
   "metadata": {},
   "source": [
    "The `parser=auto` argument was added in later versions of scikit-learn. Try removing the arugument if the above cell returns an error."
   ]
  },
  {
   "cell_type": "code",
   "execution_count": 5,
   "id": "1d0d2f44-1f67-49b8-b5a6-6400447ccde9",
   "metadata": {},
   "outputs": [
    {
     "name": "stdout",
     "output_type": "stream",
     "text": [
      "The AI4I 2020 Predictive Maintenance Dataset is a synthetic dataset that reflects real predictive maintenance data encountered in industry. Since real predictive maintenance datasets are generally difficult to obtain and in particular difficult to publish, we present and provide a synthetic dataset that reflects real predictive maintenance encountered in industry to the best of our knowledge.\n",
      "\n",
      "### Attribute Information:\n",
      "\n",
      "The dataset consists of 10 000 data points stored as rows with 14 features in columns\n",
      "\n",
      "- UID: unique identifier ranging from 1 to 10000\n",
      "- product ID: consisting of a letter L, M, or H for low (50% of all products), medium (30%) and high (20%) as product quality variants and a variant-specific serial number\n",
      "- air temperature [K]: generated using a random walk process later normalized to a standard deviation of 2 K around 300 K\n",
      "- process temperature [K]: generated using a random walk process normalized to a standard deviation of 1 K, added to the air temperature plus 10 K.\n",
      "- rotational speed [rpm]: calculated from a power of 2860 W, overlaid with a normally distributed noise\n",
      "- torque [Nm]: torque values are normally distributed around 40 Nm with a f = 10 Nm and no negative values.\n",
      "- tool wear [min]: The quality variants H/M/L add 5/3/2 minutes of tool wear to the used tool in the process. \n",
      "- 'machine failure' label that indicates, whether the machine has failed in this particular datapoint for any of the following failure modes are true.\n",
      "\n",
      "The machine failure consists of five independent failure modes\n",
      "tool wear failure (TWF): the tool will be replaced of fail at a randomly selected tool wear time between 200-240 mins (120 times in our dataset). At this point in time, the tool is replaced 69 times, and fails 51 times (randomly assigned).\n",
      "\n",
      "- heat dissipation failure (HDF): heat dissipation causes a process failure, if the difference between air- and process temperature is below 8.6 K and the tools rotational speed is below 1380 rpm. This is the case for 115 data points.\n",
      "- power failure (PWF): the product of torque and rotational speed (in rad/s) equals the power required for the process. If this power is below 3500 W or above 9000 W, the process fails, which is the case 95 times in our dataset.\n",
      "- overstrain failure (OSF): if the product of tool wear and torque exceeds 11,000 minNm for the L product variant (12,000 M, 13,000 H), the process fails due to overstrain. This is true for 98 datapoints.\n",
      "- random failures (RNF): each process has a chance of 0,1 % to fail regardless of its process parameters. This is the case for only 5 datapoints, less than could be expected for 10,000 datapoints in our dataset.\n",
      "\n",
      "If at least one of the above failure modes is true, the process fails and the 'machine failure' label is set to 1. It is therefore not transparent to the machine learning method, which of the failure modes has caused the process to fail\n",
      "\n",
      "Downloaded from openml.org.\n"
     ]
    }
   ],
   "source": [
    "print(dataset.DESCR)"
   ]
  },
  {
   "cell_type": "code",
   "execution_count": 6,
   "id": "a44b4479-c7bc-4a31-a39c-5df2a0c59077",
   "metadata": {},
   "outputs": [],
   "source": [
    "maintenance_data = dataset.data"
   ]
  },
  {
   "cell_type": "code",
   "execution_count": 7,
   "id": "8cf77dfa-09d5-4c59-8bb0-97b90e179d40",
   "metadata": {},
   "outputs": [
    {
     "name": "stdout",
     "output_type": "stream",
     "text": [
      "<class 'pandas.core.frame.DataFrame'>\n",
      "RangeIndex: 10000 entries, 0 to 9999\n",
      "Data columns (total 14 columns):\n",
      " #   Column                   Non-Null Count  Dtype  \n",
      "---  ------                   --------------  -----  \n",
      " 0   UDI                      10000 non-null  int64  \n",
      " 1   Product ID               10000 non-null  object \n",
      " 2   Type                     10000 non-null  object \n",
      " 3   Air temperature [K]      10000 non-null  float64\n",
      " 4   Process temperature [K]  10000 non-null  float64\n",
      " 5   Rotational speed [rpm]   10000 non-null  int64  \n",
      " 6   Torque [Nm]              10000 non-null  float64\n",
      " 7   Tool wear [min]          10000 non-null  int64  \n",
      " 8   Machine failure          10000 non-null  int64  \n",
      " 9   TWF                      10000 non-null  int64  \n",
      " 10  HDF                      10000 non-null  int64  \n",
      " 11  PWF                      10000 non-null  int64  \n",
      " 12  OSF                      10000 non-null  int64  \n",
      " 13  RNF                      10000 non-null  int64  \n",
      "dtypes: float64(3), int64(9), object(2)\n",
      "memory usage: 1.1+ MB\n"
     ]
    }
   ],
   "source": [
    "maintenance_data.info()"
   ]
  },
  {
   "cell_type": "code",
   "execution_count": 8,
   "id": "2657d83c-204c-4d58-83e2-3f4929d1c480",
   "metadata": {},
   "outputs": [
    {
     "data": {
      "text/html": [
       "<div>\n",
       "<style scoped>\n",
       "    .dataframe tbody tr th:only-of-type {\n",
       "        vertical-align: middle;\n",
       "    }\n",
       "\n",
       "    .dataframe tbody tr th {\n",
       "        vertical-align: top;\n",
       "    }\n",
       "\n",
       "    .dataframe thead th {\n",
       "        text-align: right;\n",
       "    }\n",
       "</style>\n",
       "<table border=\"1\" class=\"dataframe\">\n",
       "  <thead>\n",
       "    <tr style=\"text-align: right;\">\n",
       "      <th></th>\n",
       "      <th>UDI</th>\n",
       "      <th>Product ID</th>\n",
       "      <th>Type</th>\n",
       "      <th>Air temperature [K]</th>\n",
       "      <th>Process temperature [K]</th>\n",
       "      <th>Rotational speed [rpm]</th>\n",
       "      <th>Torque [Nm]</th>\n",
       "      <th>Tool wear [min]</th>\n",
       "      <th>Machine failure</th>\n",
       "      <th>TWF</th>\n",
       "      <th>HDF</th>\n",
       "      <th>PWF</th>\n",
       "      <th>OSF</th>\n",
       "      <th>RNF</th>\n",
       "    </tr>\n",
       "  </thead>\n",
       "  <tbody>\n",
       "    <tr>\n",
       "      <th>0</th>\n",
       "      <td>1</td>\n",
       "      <td>M14860</td>\n",
       "      <td>M</td>\n",
       "      <td>298.1</td>\n",
       "      <td>308.6</td>\n",
       "      <td>1551</td>\n",
       "      <td>42.8</td>\n",
       "      <td>0</td>\n",
       "      <td>0</td>\n",
       "      <td>0</td>\n",
       "      <td>0</td>\n",
       "      <td>0</td>\n",
       "      <td>0</td>\n",
       "      <td>0</td>\n",
       "    </tr>\n",
       "    <tr>\n",
       "      <th>1</th>\n",
       "      <td>2</td>\n",
       "      <td>L47181</td>\n",
       "      <td>L</td>\n",
       "      <td>298.2</td>\n",
       "      <td>308.7</td>\n",
       "      <td>1408</td>\n",
       "      <td>46.3</td>\n",
       "      <td>3</td>\n",
       "      <td>0</td>\n",
       "      <td>0</td>\n",
       "      <td>0</td>\n",
       "      <td>0</td>\n",
       "      <td>0</td>\n",
       "      <td>0</td>\n",
       "    </tr>\n",
       "    <tr>\n",
       "      <th>2</th>\n",
       "      <td>3</td>\n",
       "      <td>L47182</td>\n",
       "      <td>L</td>\n",
       "      <td>298.1</td>\n",
       "      <td>308.5</td>\n",
       "      <td>1498</td>\n",
       "      <td>49.4</td>\n",
       "      <td>5</td>\n",
       "      <td>0</td>\n",
       "      <td>0</td>\n",
       "      <td>0</td>\n",
       "      <td>0</td>\n",
       "      <td>0</td>\n",
       "      <td>0</td>\n",
       "    </tr>\n",
       "    <tr>\n",
       "      <th>3</th>\n",
       "      <td>4</td>\n",
       "      <td>L47183</td>\n",
       "      <td>L</td>\n",
       "      <td>298.2</td>\n",
       "      <td>308.6</td>\n",
       "      <td>1433</td>\n",
       "      <td>39.5</td>\n",
       "      <td>7</td>\n",
       "      <td>0</td>\n",
       "      <td>0</td>\n",
       "      <td>0</td>\n",
       "      <td>0</td>\n",
       "      <td>0</td>\n",
       "      <td>0</td>\n",
       "    </tr>\n",
       "    <tr>\n",
       "      <th>4</th>\n",
       "      <td>5</td>\n",
       "      <td>L47184</td>\n",
       "      <td>L</td>\n",
       "      <td>298.2</td>\n",
       "      <td>308.7</td>\n",
       "      <td>1408</td>\n",
       "      <td>40.0</td>\n",
       "      <td>9</td>\n",
       "      <td>0</td>\n",
       "      <td>0</td>\n",
       "      <td>0</td>\n",
       "      <td>0</td>\n",
       "      <td>0</td>\n",
       "      <td>0</td>\n",
       "    </tr>\n",
       "  </tbody>\n",
       "</table>\n",
       "</div>"
      ],
      "text/plain": [
       "   UDI Product ID Type  Air temperature [K]  Process temperature [K]  \\\n",
       "0    1     M14860    M                298.1                    308.6   \n",
       "1    2     L47181    L                298.2                    308.7   \n",
       "2    3     L47182    L                298.1                    308.5   \n",
       "3    4     L47183    L                298.2                    308.6   \n",
       "4    5     L47184    L                298.2                    308.7   \n",
       "\n",
       "   Rotational speed [rpm]  Torque [Nm]  Tool wear [min]  Machine failure  TWF  \\\n",
       "0                    1551         42.8                0                0    0   \n",
       "1                    1408         46.3                3                0    0   \n",
       "2                    1498         49.4                5                0    0   \n",
       "3                    1433         39.5                7                0    0   \n",
       "4                    1408         40.0                9                0    0   \n",
       "\n",
       "   HDF  PWF  OSF  RNF  \n",
       "0    0    0    0    0  \n",
       "1    0    0    0    0  \n",
       "2    0    0    0    0  \n",
       "3    0    0    0    0  \n",
       "4    0    0    0    0  "
      ]
     },
     "execution_count": 8,
     "metadata": {},
     "output_type": "execute_result"
    }
   ],
   "source": [
    "maintenance_data.head()"
   ]
  },
  {
   "cell_type": "code",
   "execution_count": 9,
   "id": "91b8a0e3-c791-48e9-bc6c-4554d97a0790",
   "metadata": {},
   "outputs": [],
   "source": [
    "target = 'Machine failure'\n",
    "numeric_features = [\n",
    "    'Air temperature [K]', \n",
    "    'Process temperature [K]', \n",
    "    'Rotational speed [rpm]',\n",
    "    'Torque [Nm]',\n",
    "    'Tool wear [min]'\n",
    "]\n",
    "categorical_features = ['Type']"
   ]
  },
  {
   "cell_type": "code",
   "execution_count": 10,
   "id": "5824e1ae-5e83-4fc8-8f00-d63f89c2baa9",
   "metadata": {},
   "outputs": [
    {
     "data": {
      "text/html": [
       "<div>\n",
       "<style scoped>\n",
       "    .dataframe tbody tr th:only-of-type {\n",
       "        vertical-align: middle;\n",
       "    }\n",
       "\n",
       "    .dataframe tbody tr th {\n",
       "        vertical-align: top;\n",
       "    }\n",
       "\n",
       "    .dataframe thead th {\n",
       "        text-align: right;\n",
       "    }\n",
       "</style>\n",
       "<table border=\"1\" class=\"dataframe\">\n",
       "  <thead>\n",
       "    <tr style=\"text-align: right;\">\n",
       "      <th></th>\n",
       "      <th>Air temperature [K]</th>\n",
       "      <th>Process temperature [K]</th>\n",
       "      <th>Rotational speed [rpm]</th>\n",
       "      <th>Torque [Nm]</th>\n",
       "      <th>Tool wear [min]</th>\n",
       "    </tr>\n",
       "  </thead>\n",
       "  <tbody>\n",
       "    <tr>\n",
       "      <th>count</th>\n",
       "      <td>10000.000000</td>\n",
       "      <td>10000.000000</td>\n",
       "      <td>10000.000000</td>\n",
       "      <td>10000.000000</td>\n",
       "      <td>10000.000000</td>\n",
       "    </tr>\n",
       "    <tr>\n",
       "      <th>mean</th>\n",
       "      <td>300.004930</td>\n",
       "      <td>310.005560</td>\n",
       "      <td>1538.776100</td>\n",
       "      <td>39.986910</td>\n",
       "      <td>107.951000</td>\n",
       "    </tr>\n",
       "    <tr>\n",
       "      <th>std</th>\n",
       "      <td>2.000259</td>\n",
       "      <td>1.483734</td>\n",
       "      <td>179.284096</td>\n",
       "      <td>9.968934</td>\n",
       "      <td>63.654147</td>\n",
       "    </tr>\n",
       "    <tr>\n",
       "      <th>min</th>\n",
       "      <td>295.300000</td>\n",
       "      <td>305.700000</td>\n",
       "      <td>1168.000000</td>\n",
       "      <td>3.800000</td>\n",
       "      <td>0.000000</td>\n",
       "    </tr>\n",
       "    <tr>\n",
       "      <th>25%</th>\n",
       "      <td>298.300000</td>\n",
       "      <td>308.800000</td>\n",
       "      <td>1423.000000</td>\n",
       "      <td>33.200000</td>\n",
       "      <td>53.000000</td>\n",
       "    </tr>\n",
       "    <tr>\n",
       "      <th>50%</th>\n",
       "      <td>300.100000</td>\n",
       "      <td>310.100000</td>\n",
       "      <td>1503.000000</td>\n",
       "      <td>40.100000</td>\n",
       "      <td>108.000000</td>\n",
       "    </tr>\n",
       "    <tr>\n",
       "      <th>75%</th>\n",
       "      <td>301.500000</td>\n",
       "      <td>311.100000</td>\n",
       "      <td>1612.000000</td>\n",
       "      <td>46.800000</td>\n",
       "      <td>162.000000</td>\n",
       "    </tr>\n",
       "    <tr>\n",
       "      <th>max</th>\n",
       "      <td>304.500000</td>\n",
       "      <td>313.800000</td>\n",
       "      <td>2886.000000</td>\n",
       "      <td>76.600000</td>\n",
       "      <td>253.000000</td>\n",
       "    </tr>\n",
       "  </tbody>\n",
       "</table>\n",
       "</div>"
      ],
      "text/plain": [
       "       Air temperature [K]  Process temperature [K]  Rotational speed [rpm]  \\\n",
       "count         10000.000000             10000.000000            10000.000000   \n",
       "mean            300.004930               310.005560             1538.776100   \n",
       "std               2.000259                 1.483734              179.284096   \n",
       "min             295.300000               305.700000             1168.000000   \n",
       "25%             298.300000               308.800000             1423.000000   \n",
       "50%             300.100000               310.100000             1503.000000   \n",
       "75%             301.500000               311.100000             1612.000000   \n",
       "max             304.500000               313.800000             2886.000000   \n",
       "\n",
       "        Torque [Nm]  Tool wear [min]  \n",
       "count  10000.000000     10000.000000  \n",
       "mean      39.986910       107.951000  \n",
       "std        9.968934        63.654147  \n",
       "min        3.800000         0.000000  \n",
       "25%       33.200000        53.000000  \n",
       "50%       40.100000       108.000000  \n",
       "75%       46.800000       162.000000  \n",
       "max       76.600000       253.000000  "
      ]
     },
     "execution_count": 10,
     "metadata": {},
     "output_type": "execute_result"
    }
   ],
   "source": [
    "maintenance_data.loc[:, numeric_features].describe()"
   ]
  },
  {
   "cell_type": "code",
   "execution_count": 11,
   "id": "46a96829-2a00-455f-acde-cec8c12ee2b5",
   "metadata": {},
   "outputs": [
    {
     "data": {
      "text/html": [
       "<div>\n",
       "<style scoped>\n",
       "    .dataframe tbody tr th:only-of-type {\n",
       "        vertical-align: middle;\n",
       "    }\n",
       "\n",
       "    .dataframe tbody tr th {\n",
       "        vertical-align: top;\n",
       "    }\n",
       "\n",
       "    .dataframe thead th {\n",
       "        text-align: right;\n",
       "    }\n",
       "</style>\n",
       "<table border=\"1\" class=\"dataframe\">\n",
       "  <thead>\n",
       "    <tr style=\"text-align: right;\">\n",
       "      <th></th>\n",
       "      <th>Type</th>\n",
       "    </tr>\n",
       "  </thead>\n",
       "  <tbody>\n",
       "    <tr>\n",
       "      <th>count</th>\n",
       "      <td>10000</td>\n",
       "    </tr>\n",
       "    <tr>\n",
       "      <th>unique</th>\n",
       "      <td>3</td>\n",
       "    </tr>\n",
       "    <tr>\n",
       "      <th>top</th>\n",
       "      <td>L</td>\n",
       "    </tr>\n",
       "    <tr>\n",
       "      <th>freq</th>\n",
       "      <td>6000</td>\n",
       "    </tr>\n",
       "  </tbody>\n",
       "</table>\n",
       "</div>"
      ],
      "text/plain": [
       "         Type\n",
       "count   10000\n",
       "unique      3\n",
       "top         L\n",
       "freq     6000"
      ]
     },
     "execution_count": 11,
     "metadata": {},
     "output_type": "execute_result"
    }
   ],
   "source": [
    "maintenance_data.loc[:, categorical_features].describe()"
   ]
  },
  {
   "cell_type": "markdown",
   "id": "1d545e53-4f92-4068-96d8-3b8c32254544",
   "metadata": {},
   "source": [
    "### Model Pipeline"
   ]
  },
  {
   "cell_type": "code",
   "execution_count": 12,
   "id": "716076ef-508b-4110-b1ba-c43c1a50e158",
   "metadata": {},
   "outputs": [
    {
     "name": "stdout",
     "output_type": "stream",
     "text": [
      "<class 'pandas.core.frame.DataFrame'>\n",
      "RangeIndex: 10000 entries, 0 to 9999\n",
      "Data columns (total 14 columns):\n",
      " #   Column                   Non-Null Count  Dtype  \n",
      "---  ------                   --------------  -----  \n",
      " 0   UDI                      10000 non-null  int64  \n",
      " 1   Product ID               10000 non-null  object \n",
      " 2   Type                     10000 non-null  object \n",
      " 3   Air temperature [K]      10000 non-null  float64\n",
      " 4   Process temperature [K]  10000 non-null  float64\n",
      " 5   Rotational speed [rpm]   10000 non-null  int64  \n",
      " 6   Torque [Nm]              10000 non-null  float64\n",
      " 7   Tool wear [min]          10000 non-null  int64  \n",
      " 8   Machine failure          10000 non-null  int64  \n",
      " 9   TWF                      10000 non-null  int64  \n",
      " 10  HDF                      10000 non-null  int64  \n",
      " 11  PWF                      10000 non-null  int64  \n",
      " 12  OSF                      10000 non-null  int64  \n",
      " 13  RNF                      10000 non-null  int64  \n",
      "dtypes: float64(3), int64(9), object(2)\n",
      "memory usage: 1.1+ MB\n"
     ]
    }
   ],
   "source": [
    "maintenance_data.info()"
   ]
  },
  {
   "cell_type": "code",
   "execution_count": 13,
   "id": "fc3409b9-c579-4e03-bdeb-6f0ded42373b",
   "metadata": {},
   "outputs": [],
   "source": [
    "X = maintenance_data.drop(\n",
    "    columns=[target, 'UDI', 'Product ID', 'TWF', 'HDF', 'PWF', 'OSF', 'RNF']\n",
    ")\n",
    "y = maintenance_data[target]"
   ]
  },
  {
   "cell_type": "code",
   "execution_count": 14,
   "id": "1661180e-00a4-40f2-a55e-7814e75547df",
   "metadata": {},
   "outputs": [],
   "source": [
    "Xtrain, Xtest, ytrain, ytest = train_test_split(\n",
    "    X, y,\n",
    "    test_size=0.2,\n",
    "    random_state=42\n",
    ")"
   ]
  },
  {
   "cell_type": "code",
   "execution_count": 15,
   "id": "f92a6784-8625-4bf9-9a0a-9fbc8f158d44",
   "metadata": {},
   "outputs": [],
   "source": [
    "Xtrain.to_csv('data/20230921_training_features.csv', index=False)\n",
    "ytrain.to_csv('data/20230921_training_target.csv', index=False)"
   ]
  },
  {
   "cell_type": "code",
   "execution_count": 16,
   "id": "47cdf958",
   "metadata": {},
   "outputs": [],
   "source": [
    "Xtest.to_csv('data/20230921_test_features.csv', index=False)\n",
    "ytest.to_csv('data/20230921_test_target.csv', index=False)"
   ]
  },
  {
   "cell_type": "markdown",
   "id": "8be7f00e-3fe1-4bc2-80b3-06ff8b39a2e0",
   "metadata": {},
   "source": [
    "**A key point of difference that needs to be taken into account when planning for deployment is to ensure that version control is extended to data as well.**"
   ]
  },
  {
   "cell_type": "markdown",
   "id": "e573742b-886a-45e1-a49d-cf2bd6a6ad52",
   "metadata": {},
   "source": [
    "Versioning data is an equally important component of building models with deployment as an end goal. Often, when debugging models post deployment, we need to understand which specific version of the dataset was used to build the model. Deviation between training data and live (production) data is often a key reason behind performance degradation post deployment."
   ]
  },
  {
   "cell_type": "markdown",
   "id": "c92f421e-8e50-4dce-9cce-00344406f8c3",
   "metadata": {},
   "source": [
    "Remember that the model we build is eventually going to be deployed for production. In this context, it is important to include all the preprocessing that you expect to do with the model itself. `scikit-learn` has several production-ready capabilities to help with this workflow. A common production-aware training workflow is to use a [model building pipeline](https://scikit-learn.org/stable/modules/generated/sklearn.pipeline.Pipeline.html). When we build a model pipeline, we list all the steps needed to be performed, that is, preprocessing and model estimation. Think of a model pipeline as an interface that accepts inputs in exactly the same way as a customer would enter it and makes a prediction accounting for every specific detail that needs to be performed in the interim."
   ]
  },
  {
   "cell_type": "markdown",
   "id": "699050f1-5475-4902-81be-e26188fd017f",
   "metadata": {},
   "source": [
    "#### Handling preprocessing"
   ]
  },
  {
   "cell_type": "markdown",
   "id": "81d5e5b5-17b8-44ff-9a45-75e5241461e2",
   "metadata": {},
   "source": [
    "The [`make_column_transformer`](https://scikit-learn.org/stable/modules/generated/sklearn.compose.make_column_transformer.html) is a great way to specify the preprocessing steps (e.g., scaling, missing value imputation) to be conducted for specific features. "
   ]
  },
  {
   "cell_type": "markdown",
   "id": "e7d1b510-6096-498f-9a88-b5c57043ed5b",
   "metadata": {},
   "source": [
    "The `make_column_transformer` takes tuples of preprocessing steps and columns on which the preprocessing needs to be applied. It then applies these transformations on the specified features in the specified order, storing the required parameters from training data and applying these on the validation/test data. In sum, this transformer automates the `fit` and `transform` methods during the training and prediction steps simplifying the modeling process."
   ]
  },
  {
   "cell_type": "markdown",
   "id": "8b759a21-c681-4915-9049-bdbfd963d1cb",
   "metadata": {},
   "source": [
    "Let us look at a column transformation preprocessor in action."
   ]
  },
  {
   "cell_type": "code",
   "execution_count": 17,
   "id": "c0077bb1-f281-48ca-88b6-39e5ea95a8d5",
   "metadata": {},
   "outputs": [],
   "source": [
    "preprocessor = make_column_transformer(\n",
    "    (StandardScaler(), numeric_features),\n",
    "    (OneHotEncoder(handle_unknown='ignore'), categorical_features)\n",
    ")"
   ]
  },
  {
   "cell_type": "markdown",
   "id": "8442e605-c1d1-4986-bb09-5de5ad529248",
   "metadata": {},
   "source": [
    "**Handling numeric features**"
   ]
  },
  {
   "cell_type": "markdown",
   "id": "59e35392-d587-43db-b3ec-f37bd1c2debe",
   "metadata": {},
   "source": [
    "Common transformations on numeric features include scaling and missing value imputation. We create column transformers by arranging these transformations in the sequence we want them to be applied. In handling these tranformation, we should be careful that we are not using the statistics computed (e.g., mean) of the training data to be propogated into transformations of test data. Column transformers provide a way to handle this in a scaleable, yet transparent manner."
   ]
  },
  {
   "cell_type": "markdown",
   "id": "6d84c7af-64ed-4c98-8b6d-3d266c9fdb21",
   "metadata": {},
   "source": [
    "**Handling categorical features**"
   ]
  },
  {
   "cell_type": "markdown",
   "id": "dc580ee5-3535-4a8d-8a4a-f4ceee1ad661",
   "metadata": {},
   "source": [
    "Categorical features should be handled appropriately using a [one-hot encoder](https://scikit-learn.org/stable/modules/generated/sklearn.preprocessing.OneHotEncoder.html). The default behavior is to exclude features which are not explicitly dealt with the preprocessor. This allows us to keep the training data separate from the preprocessing pipeline.\n",
    "\n",
    "This is important because in a production setting, the model might be exposed to categories it has not seen in the training phase. We will need a robust method to return meaningful predictions even in this case."
   ]
  },
  {
   "cell_type": "markdown",
   "id": "1159bdf7-4097-4449-88de-7f72175618f9",
   "metadata": {},
   "source": [
    "**Handling both numeric & categorical features** "
   ]
  },
  {
   "cell_type": "markdown",
   "id": "acd005b8-ee0b-4f4e-8939-3c412c2c6b24",
   "metadata": {},
   "source": [
    "The preprocessor in the code listing above has two steps depending on the type of the column. If the feature is numeric it passes through the scaler and if it is categorical it passes through the one-hot encoder. The argument `handle_unknown='ignore'` ensures that if new levels are encountered, they are encoded as 0's."
   ]
  },
  {
   "cell_type": "markdown",
   "id": "67780aa7-376e-465b-a620-cde1fe3309a4",
   "metadata": {},
   "source": [
    "Once we have the preprocessing pipeline in place, we then create a *model pipeline* that incorporates preprocessing as a step in the model itself. This is a crucial step. Once deployed customers will pass input variables to the model in the original scale of the variables. If there is any preprocessing that is needed for the model to make a prediction, it needs to be packaged together with the model."
   ]
  },
  {
   "cell_type": "markdown",
   "id": "3fbdc20d-f5d4-4af4-9710-997e413410e7",
   "metadata": {},
   "source": [
    "**Assembling the pipeline**"
   ]
  },
  {
   "cell_type": "markdown",
   "id": "5a391504-9aab-4e2a-99b0-c46cd926c7ca",
   "metadata": {},
   "source": [
    "Let us now build a model pipeline assembling all the steps from the input data to the model we wish to estimate."
   ]
  },
  {
   "cell_type": "code",
   "execution_count": 18,
   "id": "934c21e0-f873-43d2-9f46-3c89cba1044d",
   "metadata": {},
   "outputs": [],
   "source": [
    "model_pipeline = make_pipeline(\n",
    "    preprocessor, \n",
    "    GradientBoostingClassifier()\n",
    ")"
   ]
  },
  {
   "cell_type": "code",
   "execution_count": 19,
   "id": "b75e7f58-2d84-48ba-a0ea-29a748bbb9ee",
   "metadata": {},
   "outputs": [
    {
     "data": {
      "text/html": [
       "<style>#sk-container-id-1 {color: black;background-color: white;}#sk-container-id-1 pre{padding: 0;}#sk-container-id-1 div.sk-toggleable {background-color: white;}#sk-container-id-1 label.sk-toggleable__label {cursor: pointer;display: block;width: 100%;margin-bottom: 0;padding: 0.3em;box-sizing: border-box;text-align: center;}#sk-container-id-1 label.sk-toggleable__label-arrow:before {content: \"▸\";float: left;margin-right: 0.25em;color: #696969;}#sk-container-id-1 label.sk-toggleable__label-arrow:hover:before {color: black;}#sk-container-id-1 div.sk-estimator:hover label.sk-toggleable__label-arrow:before {color: black;}#sk-container-id-1 div.sk-toggleable__content {max-height: 0;max-width: 0;overflow: hidden;text-align: left;background-color: #f0f8ff;}#sk-container-id-1 div.sk-toggleable__content pre {margin: 0.2em;color: black;border-radius: 0.25em;background-color: #f0f8ff;}#sk-container-id-1 input.sk-toggleable__control:checked~div.sk-toggleable__content {max-height: 200px;max-width: 100%;overflow: auto;}#sk-container-id-1 input.sk-toggleable__control:checked~label.sk-toggleable__label-arrow:before {content: \"▾\";}#sk-container-id-1 div.sk-estimator input.sk-toggleable__control:checked~label.sk-toggleable__label {background-color: #d4ebff;}#sk-container-id-1 div.sk-label input.sk-toggleable__control:checked~label.sk-toggleable__label {background-color: #d4ebff;}#sk-container-id-1 input.sk-hidden--visually {border: 0;clip: rect(1px 1px 1px 1px);clip: rect(1px, 1px, 1px, 1px);height: 1px;margin: -1px;overflow: hidden;padding: 0;position: absolute;width: 1px;}#sk-container-id-1 div.sk-estimator {font-family: monospace;background-color: #f0f8ff;border: 1px dotted black;border-radius: 0.25em;box-sizing: border-box;margin-bottom: 0.5em;}#sk-container-id-1 div.sk-estimator:hover {background-color: #d4ebff;}#sk-container-id-1 div.sk-parallel-item::after {content: \"\";width: 100%;border-bottom: 1px solid gray;flex-grow: 1;}#sk-container-id-1 div.sk-label:hover label.sk-toggleable__label {background-color: #d4ebff;}#sk-container-id-1 div.sk-serial::before {content: \"\";position: absolute;border-left: 1px solid gray;box-sizing: border-box;top: 0;bottom: 0;left: 50%;z-index: 0;}#sk-container-id-1 div.sk-serial {display: flex;flex-direction: column;align-items: center;background-color: white;padding-right: 0.2em;padding-left: 0.2em;position: relative;}#sk-container-id-1 div.sk-item {position: relative;z-index: 1;}#sk-container-id-1 div.sk-parallel {display: flex;align-items: stretch;justify-content: center;background-color: white;position: relative;}#sk-container-id-1 div.sk-item::before, #sk-container-id-1 div.sk-parallel-item::before {content: \"\";position: absolute;border-left: 1px solid gray;box-sizing: border-box;top: 0;bottom: 0;left: 50%;z-index: -1;}#sk-container-id-1 div.sk-parallel-item {display: flex;flex-direction: column;z-index: 1;position: relative;background-color: white;}#sk-container-id-1 div.sk-parallel-item:first-child::after {align-self: flex-end;width: 50%;}#sk-container-id-1 div.sk-parallel-item:last-child::after {align-self: flex-start;width: 50%;}#sk-container-id-1 div.sk-parallel-item:only-child::after {width: 0;}#sk-container-id-1 div.sk-dashed-wrapped {border: 1px dashed gray;margin: 0 0.4em 0.5em 0.4em;box-sizing: border-box;padding-bottom: 0.4em;background-color: white;}#sk-container-id-1 div.sk-label label {font-family: monospace;font-weight: bold;display: inline-block;line-height: 1.2em;}#sk-container-id-1 div.sk-label-container {text-align: center;}#sk-container-id-1 div.sk-container {/* jupyter's `normalize.less` sets `[hidden] { display: none; }` but bootstrap.min.css set `[hidden] { display: none !important; }` so we also need the `!important` here to be able to override the default hidden behavior on the sphinx rendered scikit-learn.org. See: https://github.com/scikit-learn/scikit-learn/issues/21755 */display: inline-block !important;position: relative;}#sk-container-id-1 div.sk-text-repr-fallback {display: none;}</style><div id=\"sk-container-id-1\" class=\"sk-top-container\"><div class=\"sk-text-repr-fallback\"><pre>Pipeline(steps=[(&#x27;columntransformer&#x27;,\n",
       "                 ColumnTransformer(transformers=[(&#x27;standardscaler&#x27;,\n",
       "                                                  StandardScaler(),\n",
       "                                                  [&#x27;Air temperature [K]&#x27;,\n",
       "                                                   &#x27;Process temperature [K]&#x27;,\n",
       "                                                   &#x27;Rotational speed [rpm]&#x27;,\n",
       "                                                   &#x27;Torque [Nm]&#x27;,\n",
       "                                                   &#x27;Tool wear [min]&#x27;]),\n",
       "                                                 (&#x27;onehotencoder&#x27;,\n",
       "                                                  OneHotEncoder(handle_unknown=&#x27;ignore&#x27;),\n",
       "                                                  [&#x27;Type&#x27;])])),\n",
       "                (&#x27;gradientboostingclassifier&#x27;, GradientBoostingClassifier())])</pre><b>In a Jupyter environment, please rerun this cell to show the HTML representation or trust the notebook. <br />On GitHub, the HTML representation is unable to render, please try loading this page with nbviewer.org.</b></div><div class=\"sk-container\" hidden><div class=\"sk-item sk-dashed-wrapped\"><div class=\"sk-label-container\"><div class=\"sk-label sk-toggleable\"><input class=\"sk-toggleable__control sk-hidden--visually\" id=\"sk-estimator-id-1\" type=\"checkbox\" ><label for=\"sk-estimator-id-1\" class=\"sk-toggleable__label sk-toggleable__label-arrow\">Pipeline</label><div class=\"sk-toggleable__content\"><pre>Pipeline(steps=[(&#x27;columntransformer&#x27;,\n",
       "                 ColumnTransformer(transformers=[(&#x27;standardscaler&#x27;,\n",
       "                                                  StandardScaler(),\n",
       "                                                  [&#x27;Air temperature [K]&#x27;,\n",
       "                                                   &#x27;Process temperature [K]&#x27;,\n",
       "                                                   &#x27;Rotational speed [rpm]&#x27;,\n",
       "                                                   &#x27;Torque [Nm]&#x27;,\n",
       "                                                   &#x27;Tool wear [min]&#x27;]),\n",
       "                                                 (&#x27;onehotencoder&#x27;,\n",
       "                                                  OneHotEncoder(handle_unknown=&#x27;ignore&#x27;),\n",
       "                                                  [&#x27;Type&#x27;])])),\n",
       "                (&#x27;gradientboostingclassifier&#x27;, GradientBoostingClassifier())])</pre></div></div></div><div class=\"sk-serial\"><div class=\"sk-item sk-dashed-wrapped\"><div class=\"sk-label-container\"><div class=\"sk-label sk-toggleable\"><input class=\"sk-toggleable__control sk-hidden--visually\" id=\"sk-estimator-id-2\" type=\"checkbox\" ><label for=\"sk-estimator-id-2\" class=\"sk-toggleable__label sk-toggleable__label-arrow\">columntransformer: ColumnTransformer</label><div class=\"sk-toggleable__content\"><pre>ColumnTransformer(transformers=[(&#x27;standardscaler&#x27;, StandardScaler(),\n",
       "                                 [&#x27;Air temperature [K]&#x27;,\n",
       "                                  &#x27;Process temperature [K]&#x27;,\n",
       "                                  &#x27;Rotational speed [rpm]&#x27;, &#x27;Torque [Nm]&#x27;,\n",
       "                                  &#x27;Tool wear [min]&#x27;]),\n",
       "                                (&#x27;onehotencoder&#x27;,\n",
       "                                 OneHotEncoder(handle_unknown=&#x27;ignore&#x27;),\n",
       "                                 [&#x27;Type&#x27;])])</pre></div></div></div><div class=\"sk-parallel\"><div class=\"sk-parallel-item\"><div class=\"sk-item\"><div class=\"sk-label-container\"><div class=\"sk-label sk-toggleable\"><input class=\"sk-toggleable__control sk-hidden--visually\" id=\"sk-estimator-id-3\" type=\"checkbox\" ><label for=\"sk-estimator-id-3\" class=\"sk-toggleable__label sk-toggleable__label-arrow\">standardscaler</label><div class=\"sk-toggleable__content\"><pre>[&#x27;Air temperature [K]&#x27;, &#x27;Process temperature [K]&#x27;, &#x27;Rotational speed [rpm]&#x27;, &#x27;Torque [Nm]&#x27;, &#x27;Tool wear [min]&#x27;]</pre></div></div></div><div class=\"sk-serial\"><div class=\"sk-item\"><div class=\"sk-estimator sk-toggleable\"><input class=\"sk-toggleable__control sk-hidden--visually\" id=\"sk-estimator-id-4\" type=\"checkbox\" ><label for=\"sk-estimator-id-4\" class=\"sk-toggleable__label sk-toggleable__label-arrow\">StandardScaler</label><div class=\"sk-toggleable__content\"><pre>StandardScaler()</pre></div></div></div></div></div></div><div class=\"sk-parallel-item\"><div class=\"sk-item\"><div class=\"sk-label-container\"><div class=\"sk-label sk-toggleable\"><input class=\"sk-toggleable__control sk-hidden--visually\" id=\"sk-estimator-id-5\" type=\"checkbox\" ><label for=\"sk-estimator-id-5\" class=\"sk-toggleable__label sk-toggleable__label-arrow\">onehotencoder</label><div class=\"sk-toggleable__content\"><pre>[&#x27;Type&#x27;]</pre></div></div></div><div class=\"sk-serial\"><div class=\"sk-item\"><div class=\"sk-estimator sk-toggleable\"><input class=\"sk-toggleable__control sk-hidden--visually\" id=\"sk-estimator-id-6\" type=\"checkbox\" ><label for=\"sk-estimator-id-6\" class=\"sk-toggleable__label sk-toggleable__label-arrow\">OneHotEncoder</label><div class=\"sk-toggleable__content\"><pre>OneHotEncoder(handle_unknown=&#x27;ignore&#x27;)</pre></div></div></div></div></div></div></div></div><div class=\"sk-item\"><div class=\"sk-estimator sk-toggleable\"><input class=\"sk-toggleable__control sk-hidden--visually\" id=\"sk-estimator-id-7\" type=\"checkbox\" ><label for=\"sk-estimator-id-7\" class=\"sk-toggleable__label sk-toggleable__label-arrow\">GradientBoostingClassifier</label><div class=\"sk-toggleable__content\"><pre>GradientBoostingClassifier()</pre></div></div></div></div></div></div></div>"
      ],
      "text/plain": [
       "Pipeline(steps=[('columntransformer',\n",
       "                 ColumnTransformer(transformers=[('standardscaler',\n",
       "                                                  StandardScaler(),\n",
       "                                                  ['Air temperature [K]',\n",
       "                                                   'Process temperature [K]',\n",
       "                                                   'Rotational speed [rpm]',\n",
       "                                                   'Torque [Nm]',\n",
       "                                                   'Tool wear [min]']),\n",
       "                                                 ('onehotencoder',\n",
       "                                                  OneHotEncoder(handle_unknown='ignore'),\n",
       "                                                  ['Type'])])),\n",
       "                ('gradientboostingclassifier', GradientBoostingClassifier())])"
      ]
     },
     "execution_count": 19,
     "metadata": {},
     "output_type": "execute_result"
    }
   ],
   "source": [
    "model_pipeline"
   ]
  },
  {
   "cell_type": "code",
   "execution_count": 20,
   "id": "4c29288d-0a75-4444-850b-0476ecb64df8",
   "metadata": {},
   "outputs": [
    {
     "data": {
      "text/html": [
       "<style>#sk-container-id-2 {color: black;background-color: white;}#sk-container-id-2 pre{padding: 0;}#sk-container-id-2 div.sk-toggleable {background-color: white;}#sk-container-id-2 label.sk-toggleable__label {cursor: pointer;display: block;width: 100%;margin-bottom: 0;padding: 0.3em;box-sizing: border-box;text-align: center;}#sk-container-id-2 label.sk-toggleable__label-arrow:before {content: \"▸\";float: left;margin-right: 0.25em;color: #696969;}#sk-container-id-2 label.sk-toggleable__label-arrow:hover:before {color: black;}#sk-container-id-2 div.sk-estimator:hover label.sk-toggleable__label-arrow:before {color: black;}#sk-container-id-2 div.sk-toggleable__content {max-height: 0;max-width: 0;overflow: hidden;text-align: left;background-color: #f0f8ff;}#sk-container-id-2 div.sk-toggleable__content pre {margin: 0.2em;color: black;border-radius: 0.25em;background-color: #f0f8ff;}#sk-container-id-2 input.sk-toggleable__control:checked~div.sk-toggleable__content {max-height: 200px;max-width: 100%;overflow: auto;}#sk-container-id-2 input.sk-toggleable__control:checked~label.sk-toggleable__label-arrow:before {content: \"▾\";}#sk-container-id-2 div.sk-estimator input.sk-toggleable__control:checked~label.sk-toggleable__label {background-color: #d4ebff;}#sk-container-id-2 div.sk-label input.sk-toggleable__control:checked~label.sk-toggleable__label {background-color: #d4ebff;}#sk-container-id-2 input.sk-hidden--visually {border: 0;clip: rect(1px 1px 1px 1px);clip: rect(1px, 1px, 1px, 1px);height: 1px;margin: -1px;overflow: hidden;padding: 0;position: absolute;width: 1px;}#sk-container-id-2 div.sk-estimator {font-family: monospace;background-color: #f0f8ff;border: 1px dotted black;border-radius: 0.25em;box-sizing: border-box;margin-bottom: 0.5em;}#sk-container-id-2 div.sk-estimator:hover {background-color: #d4ebff;}#sk-container-id-2 div.sk-parallel-item::after {content: \"\";width: 100%;border-bottom: 1px solid gray;flex-grow: 1;}#sk-container-id-2 div.sk-label:hover label.sk-toggleable__label {background-color: #d4ebff;}#sk-container-id-2 div.sk-serial::before {content: \"\";position: absolute;border-left: 1px solid gray;box-sizing: border-box;top: 0;bottom: 0;left: 50%;z-index: 0;}#sk-container-id-2 div.sk-serial {display: flex;flex-direction: column;align-items: center;background-color: white;padding-right: 0.2em;padding-left: 0.2em;position: relative;}#sk-container-id-2 div.sk-item {position: relative;z-index: 1;}#sk-container-id-2 div.sk-parallel {display: flex;align-items: stretch;justify-content: center;background-color: white;position: relative;}#sk-container-id-2 div.sk-item::before, #sk-container-id-2 div.sk-parallel-item::before {content: \"\";position: absolute;border-left: 1px solid gray;box-sizing: border-box;top: 0;bottom: 0;left: 50%;z-index: -1;}#sk-container-id-2 div.sk-parallel-item {display: flex;flex-direction: column;z-index: 1;position: relative;background-color: white;}#sk-container-id-2 div.sk-parallel-item:first-child::after {align-self: flex-end;width: 50%;}#sk-container-id-2 div.sk-parallel-item:last-child::after {align-self: flex-start;width: 50%;}#sk-container-id-2 div.sk-parallel-item:only-child::after {width: 0;}#sk-container-id-2 div.sk-dashed-wrapped {border: 1px dashed gray;margin: 0 0.4em 0.5em 0.4em;box-sizing: border-box;padding-bottom: 0.4em;background-color: white;}#sk-container-id-2 div.sk-label label {font-family: monospace;font-weight: bold;display: inline-block;line-height: 1.2em;}#sk-container-id-2 div.sk-label-container {text-align: center;}#sk-container-id-2 div.sk-container {/* jupyter's `normalize.less` sets `[hidden] { display: none; }` but bootstrap.min.css set `[hidden] { display: none !important; }` so we also need the `!important` here to be able to override the default hidden behavior on the sphinx rendered scikit-learn.org. See: https://github.com/scikit-learn/scikit-learn/issues/21755 */display: inline-block !important;position: relative;}#sk-container-id-2 div.sk-text-repr-fallback {display: none;}</style><div id=\"sk-container-id-2\" class=\"sk-top-container\"><div class=\"sk-text-repr-fallback\"><pre>Pipeline(steps=[(&#x27;columntransformer&#x27;,\n",
       "                 ColumnTransformer(transformers=[(&#x27;standardscaler&#x27;,\n",
       "                                                  StandardScaler(),\n",
       "                                                  [&#x27;Air temperature [K]&#x27;,\n",
       "                                                   &#x27;Process temperature [K]&#x27;,\n",
       "                                                   &#x27;Rotational speed [rpm]&#x27;,\n",
       "                                                   &#x27;Torque [Nm]&#x27;,\n",
       "                                                   &#x27;Tool wear [min]&#x27;]),\n",
       "                                                 (&#x27;onehotencoder&#x27;,\n",
       "                                                  OneHotEncoder(handle_unknown=&#x27;ignore&#x27;),\n",
       "                                                  [&#x27;Type&#x27;])])),\n",
       "                (&#x27;gradientboostingclassifier&#x27;, GradientBoostingClassifier())])</pre><b>In a Jupyter environment, please rerun this cell to show the HTML representation or trust the notebook. <br />On GitHub, the HTML representation is unable to render, please try loading this page with nbviewer.org.</b></div><div class=\"sk-container\" hidden><div class=\"sk-item sk-dashed-wrapped\"><div class=\"sk-label-container\"><div class=\"sk-label sk-toggleable\"><input class=\"sk-toggleable__control sk-hidden--visually\" id=\"sk-estimator-id-8\" type=\"checkbox\" ><label for=\"sk-estimator-id-8\" class=\"sk-toggleable__label sk-toggleable__label-arrow\">Pipeline</label><div class=\"sk-toggleable__content\"><pre>Pipeline(steps=[(&#x27;columntransformer&#x27;,\n",
       "                 ColumnTransformer(transformers=[(&#x27;standardscaler&#x27;,\n",
       "                                                  StandardScaler(),\n",
       "                                                  [&#x27;Air temperature [K]&#x27;,\n",
       "                                                   &#x27;Process temperature [K]&#x27;,\n",
       "                                                   &#x27;Rotational speed [rpm]&#x27;,\n",
       "                                                   &#x27;Torque [Nm]&#x27;,\n",
       "                                                   &#x27;Tool wear [min]&#x27;]),\n",
       "                                                 (&#x27;onehotencoder&#x27;,\n",
       "                                                  OneHotEncoder(handle_unknown=&#x27;ignore&#x27;),\n",
       "                                                  [&#x27;Type&#x27;])])),\n",
       "                (&#x27;gradientboostingclassifier&#x27;, GradientBoostingClassifier())])</pre></div></div></div><div class=\"sk-serial\"><div class=\"sk-item sk-dashed-wrapped\"><div class=\"sk-label-container\"><div class=\"sk-label sk-toggleable\"><input class=\"sk-toggleable__control sk-hidden--visually\" id=\"sk-estimator-id-9\" type=\"checkbox\" ><label for=\"sk-estimator-id-9\" class=\"sk-toggleable__label sk-toggleable__label-arrow\">columntransformer: ColumnTransformer</label><div class=\"sk-toggleable__content\"><pre>ColumnTransformer(transformers=[(&#x27;standardscaler&#x27;, StandardScaler(),\n",
       "                                 [&#x27;Air temperature [K]&#x27;,\n",
       "                                  &#x27;Process temperature [K]&#x27;,\n",
       "                                  &#x27;Rotational speed [rpm]&#x27;, &#x27;Torque [Nm]&#x27;,\n",
       "                                  &#x27;Tool wear [min]&#x27;]),\n",
       "                                (&#x27;onehotencoder&#x27;,\n",
       "                                 OneHotEncoder(handle_unknown=&#x27;ignore&#x27;),\n",
       "                                 [&#x27;Type&#x27;])])</pre></div></div></div><div class=\"sk-parallel\"><div class=\"sk-parallel-item\"><div class=\"sk-item\"><div class=\"sk-label-container\"><div class=\"sk-label sk-toggleable\"><input class=\"sk-toggleable__control sk-hidden--visually\" id=\"sk-estimator-id-10\" type=\"checkbox\" ><label for=\"sk-estimator-id-10\" class=\"sk-toggleable__label sk-toggleable__label-arrow\">standardscaler</label><div class=\"sk-toggleable__content\"><pre>[&#x27;Air temperature [K]&#x27;, &#x27;Process temperature [K]&#x27;, &#x27;Rotational speed [rpm]&#x27;, &#x27;Torque [Nm]&#x27;, &#x27;Tool wear [min]&#x27;]</pre></div></div></div><div class=\"sk-serial\"><div class=\"sk-item\"><div class=\"sk-estimator sk-toggleable\"><input class=\"sk-toggleable__control sk-hidden--visually\" id=\"sk-estimator-id-11\" type=\"checkbox\" ><label for=\"sk-estimator-id-11\" class=\"sk-toggleable__label sk-toggleable__label-arrow\">StandardScaler</label><div class=\"sk-toggleable__content\"><pre>StandardScaler()</pre></div></div></div></div></div></div><div class=\"sk-parallel-item\"><div class=\"sk-item\"><div class=\"sk-label-container\"><div class=\"sk-label sk-toggleable\"><input class=\"sk-toggleable__control sk-hidden--visually\" id=\"sk-estimator-id-12\" type=\"checkbox\" ><label for=\"sk-estimator-id-12\" class=\"sk-toggleable__label sk-toggleable__label-arrow\">onehotencoder</label><div class=\"sk-toggleable__content\"><pre>[&#x27;Type&#x27;]</pre></div></div></div><div class=\"sk-serial\"><div class=\"sk-item\"><div class=\"sk-estimator sk-toggleable\"><input class=\"sk-toggleable__control sk-hidden--visually\" id=\"sk-estimator-id-13\" type=\"checkbox\" ><label for=\"sk-estimator-id-13\" class=\"sk-toggleable__label sk-toggleable__label-arrow\">OneHotEncoder</label><div class=\"sk-toggleable__content\"><pre>OneHotEncoder(handle_unknown=&#x27;ignore&#x27;)</pre></div></div></div></div></div></div></div></div><div class=\"sk-item\"><div class=\"sk-estimator sk-toggleable\"><input class=\"sk-toggleable__control sk-hidden--visually\" id=\"sk-estimator-id-14\" type=\"checkbox\" ><label for=\"sk-estimator-id-14\" class=\"sk-toggleable__label sk-toggleable__label-arrow\">GradientBoostingClassifier</label><div class=\"sk-toggleable__content\"><pre>GradientBoostingClassifier()</pre></div></div></div></div></div></div></div>"
      ],
      "text/plain": [
       "Pipeline(steps=[('columntransformer',\n",
       "                 ColumnTransformer(transformers=[('standardscaler',\n",
       "                                                  StandardScaler(),\n",
       "                                                  ['Air temperature [K]',\n",
       "                                                   'Process temperature [K]',\n",
       "                                                   'Rotational speed [rpm]',\n",
       "                                                   'Torque [Nm]',\n",
       "                                                   'Tool wear [min]']),\n",
       "                                                 ('onehotencoder',\n",
       "                                                  OneHotEncoder(handle_unknown='ignore'),\n",
       "                                                  ['Type'])])),\n",
       "                ('gradientboostingclassifier', GradientBoostingClassifier())])"
      ]
     },
     "execution_count": 20,
     "metadata": {},
     "output_type": "execute_result"
    }
   ],
   "source": [
    "model_pipeline.fit(Xtrain, ytrain)"
   ]
  },
  {
   "cell_type": "markdown",
   "id": "e3675460-86c2-416d-9b88-f7afb12a6c14",
   "metadata": {},
   "source": [
    "Notice how the model pipeline elegantly handles scaling numeric predictors and on-hot encoding categorical features. This transformed features are passed on to a `Gradient Boosting Classifer` for estimation.\n",
    "\n",
    "Since a model pipeline stores individual stages of the pipeline as a named step, we can dig deeper into the model pipeline by accessing these steps. We can inspect the individual steps by probing the execution steps that is being conducted by each step."
   ]
  },
  {
   "cell_type": "code",
   "execution_count": 21,
   "id": "c1e82991-cac0-4c38-b732-a7735161222e",
   "metadata": {},
   "outputs": [
    {
     "data": {
      "text/plain": [
       "{'columntransformer': ColumnTransformer(transformers=[('standardscaler', StandardScaler(),\n",
       "                                  ['Air temperature [K]',\n",
       "                                   'Process temperature [K]',\n",
       "                                   'Rotational speed [rpm]', 'Torque [Nm]',\n",
       "                                   'Tool wear [min]']),\n",
       "                                 ('onehotencoder',\n",
       "                                  OneHotEncoder(handle_unknown='ignore'),\n",
       "                                  ['Type'])]),\n",
       " 'gradientboostingclassifier': GradientBoostingClassifier()}"
      ]
     },
     "execution_count": 21,
     "metadata": {},
     "output_type": "execute_result"
    }
   ],
   "source": [
    "model_pipeline.named_steps"
   ]
  },
  {
   "cell_type": "code",
   "execution_count": 22,
   "id": "9956992d-2a22-49e8-be8d-a5d79ebcfff5",
   "metadata": {},
   "outputs": [
    {
     "data": {
      "text/plain": [
       "[('standardscaler',\n",
       "  StandardScaler(),\n",
       "  ['Air temperature [K]',\n",
       "   'Process temperature [K]',\n",
       "   'Rotational speed [rpm]',\n",
       "   'Torque [Nm]',\n",
       "   'Tool wear [min]']),\n",
       " ('onehotencoder', OneHotEncoder(handle_unknown='ignore'), ['Type'])]"
      ]
     },
     "execution_count": 22,
     "metadata": {},
     "output_type": "execute_result"
    }
   ],
   "source": [
    "model_pipeline.named_steps['columntransformer'].transformers_"
   ]
  },
  {
   "cell_type": "code",
   "execution_count": 23,
   "id": "3bf23ec0-5980-41c8-9520-6442fb3216c8",
   "metadata": {},
   "outputs": [
    {
     "data": {
      "text/plain": [
       "array(['Type_H', 'Type_L', 'Type_M'], dtype=object)"
      ]
     },
     "execution_count": 23,
     "metadata": {},
     "output_type": "execute_result"
    }
   ],
   "source": [
    "model_pipeline.named_steps['columntransformer'].transformers_[1][1].get_feature_names_out()"
   ]
  },
  {
   "cell_type": "markdown",
   "id": "825bd3c0-f1dc-4392-90a4-82894d4d224d",
   "metadata": {},
   "source": [
    "As we can see from the output above, the features are being transformed through a sequence of `named_steps` with all the heavy lifting done by the `column_transformer`. "
   ]
  },
  {
   "cell_type": "markdown",
   "id": "c9c91322-27ad-4313-8260-f2f176f55d69",
   "metadata": {},
   "source": [
    "#### Hyperparameter tuning"
   ]
  },
  {
   "cell_type": "markdown",
   "id": "e370b818-da8f-4b32-bec6-12d14d8e90b3",
   "metadata": {},
   "source": [
    "Baseline"
   ]
  },
  {
   "cell_type": "code",
   "execution_count": 24,
   "id": "9bcca1bf-a055-4fa1-9d7f-e501ae8c60fc",
   "metadata": {},
   "outputs": [],
   "source": [
    "cross_val_accuracy = cross_validate(\n",
    "    model_pipeline, Xtrain, ytrain, cv=3, return_train_score=True\n",
    ")"
   ]
  },
  {
   "cell_type": "code",
   "execution_count": 25,
   "id": "4f4439b6-41bd-499d-a0c3-83437176cb57",
   "metadata": {},
   "outputs": [
    {
     "name": "stdout",
     "output_type": "stream",
     "text": [
      "Training accuracy: 0.9938125233876987\n",
      "Validation accuracy: 0.9834998588417259\n"
     ]
    }
   ],
   "source": [
    "print(f\"Training accuracy: {cross_val_accuracy['train_score'].mean()}\")\n",
    "print(f\"Validation accuracy: {cross_val_accuracy['test_score'].mean()}\")"
   ]
  },
  {
   "cell_type": "markdown",
   "id": "cd1acc17-1db8-46f0-93ce-3edea646026e",
   "metadata": {},
   "source": [
    "Tuning"
   ]
  },
  {
   "cell_type": "code",
   "execution_count": 26,
   "id": "90d7134c-dff2-4ada-abd4-c21dad7d8b4d",
   "metadata": {},
   "outputs": [],
   "source": [
    "model_gbr = GradientBoostingClassifier(\n",
    "    max_depth=3, \n",
    "    n_estimators=100, \n",
    "    random_state=42\n",
    ")"
   ]
  },
  {
   "cell_type": "code",
   "execution_count": 27,
   "id": "806a144a-c774-4b8f-9b5a-e0267585bcb2",
   "metadata": {},
   "outputs": [],
   "source": [
    "model_pipeline = make_pipeline(\n",
    "    preprocessor, \n",
    "    model_gbr\n",
    ")"
   ]
  },
  {
   "cell_type": "code",
   "execution_count": 28,
   "id": "48d155fa-1e05-479d-889a-d6b794a19a09",
   "metadata": {},
   "outputs": [
    {
     "data": {
      "text/plain": [
       "{'columntransformer': ColumnTransformer(transformers=[('standardscaler', StandardScaler(),\n",
       "                                  ['Air temperature [K]',\n",
       "                                   'Process temperature [K]',\n",
       "                                   'Rotational speed [rpm]', 'Torque [Nm]',\n",
       "                                   'Tool wear [min]']),\n",
       "                                 ('onehotencoder',\n",
       "                                  OneHotEncoder(handle_unknown='ignore'),\n",
       "                                  ['Type'])]),\n",
       " 'gradientboostingclassifier': GradientBoostingClassifier(random_state=42)}"
      ]
     },
     "execution_count": 28,
     "metadata": {},
     "output_type": "execute_result"
    }
   ],
   "source": [
    "model_pipeline.named_steps"
   ]
  },
  {
   "cell_type": "code",
   "execution_count": 29,
   "id": "cd1558e3-ca57-4cbf-ab72-31b3d1af3ff3",
   "metadata": {},
   "outputs": [],
   "source": [
    "param_distrib = {\n",
    "    \"gradientboostingclassifier__max_depth\": randint(3, 12),\n",
    "    \"gradientboostingclassifier__n_estimators\": randint(100, 1000)\n",
    "}"
   ]
  },
  {
   "cell_type": "code",
   "execution_count": 30,
   "id": "74f297c8-64a2-4583-acf5-1d3a6c843557",
   "metadata": {},
   "outputs": [],
   "source": [
    "rand_search_cv = RandomizedSearchCV(\n",
    "    model_pipeline,\n",
    "    param_distrib,\n",
    "    n_iter=10,\n",
    "    cv=3,\n",
    "    random_state=42\n",
    ")"
   ]
  },
  {
   "cell_type": "code",
   "execution_count": 31,
   "id": "d501cb4e-7e80-46ff-bd3d-35bb01ba514a",
   "metadata": {},
   "outputs": [
    {
     "data": {
      "text/html": [
       "<style>#sk-container-id-3 {color: black;background-color: white;}#sk-container-id-3 pre{padding: 0;}#sk-container-id-3 div.sk-toggleable {background-color: white;}#sk-container-id-3 label.sk-toggleable__label {cursor: pointer;display: block;width: 100%;margin-bottom: 0;padding: 0.3em;box-sizing: border-box;text-align: center;}#sk-container-id-3 label.sk-toggleable__label-arrow:before {content: \"▸\";float: left;margin-right: 0.25em;color: #696969;}#sk-container-id-3 label.sk-toggleable__label-arrow:hover:before {color: black;}#sk-container-id-3 div.sk-estimator:hover label.sk-toggleable__label-arrow:before {color: black;}#sk-container-id-3 div.sk-toggleable__content {max-height: 0;max-width: 0;overflow: hidden;text-align: left;background-color: #f0f8ff;}#sk-container-id-3 div.sk-toggleable__content pre {margin: 0.2em;color: black;border-radius: 0.25em;background-color: #f0f8ff;}#sk-container-id-3 input.sk-toggleable__control:checked~div.sk-toggleable__content {max-height: 200px;max-width: 100%;overflow: auto;}#sk-container-id-3 input.sk-toggleable__control:checked~label.sk-toggleable__label-arrow:before {content: \"▾\";}#sk-container-id-3 div.sk-estimator input.sk-toggleable__control:checked~label.sk-toggleable__label {background-color: #d4ebff;}#sk-container-id-3 div.sk-label input.sk-toggleable__control:checked~label.sk-toggleable__label {background-color: #d4ebff;}#sk-container-id-3 input.sk-hidden--visually {border: 0;clip: rect(1px 1px 1px 1px);clip: rect(1px, 1px, 1px, 1px);height: 1px;margin: -1px;overflow: hidden;padding: 0;position: absolute;width: 1px;}#sk-container-id-3 div.sk-estimator {font-family: monospace;background-color: #f0f8ff;border: 1px dotted black;border-radius: 0.25em;box-sizing: border-box;margin-bottom: 0.5em;}#sk-container-id-3 div.sk-estimator:hover {background-color: #d4ebff;}#sk-container-id-3 div.sk-parallel-item::after {content: \"\";width: 100%;border-bottom: 1px solid gray;flex-grow: 1;}#sk-container-id-3 div.sk-label:hover label.sk-toggleable__label {background-color: #d4ebff;}#sk-container-id-3 div.sk-serial::before {content: \"\";position: absolute;border-left: 1px solid gray;box-sizing: border-box;top: 0;bottom: 0;left: 50%;z-index: 0;}#sk-container-id-3 div.sk-serial {display: flex;flex-direction: column;align-items: center;background-color: white;padding-right: 0.2em;padding-left: 0.2em;position: relative;}#sk-container-id-3 div.sk-item {position: relative;z-index: 1;}#sk-container-id-3 div.sk-parallel {display: flex;align-items: stretch;justify-content: center;background-color: white;position: relative;}#sk-container-id-3 div.sk-item::before, #sk-container-id-3 div.sk-parallel-item::before {content: \"\";position: absolute;border-left: 1px solid gray;box-sizing: border-box;top: 0;bottom: 0;left: 50%;z-index: -1;}#sk-container-id-3 div.sk-parallel-item {display: flex;flex-direction: column;z-index: 1;position: relative;background-color: white;}#sk-container-id-3 div.sk-parallel-item:first-child::after {align-self: flex-end;width: 50%;}#sk-container-id-3 div.sk-parallel-item:last-child::after {align-self: flex-start;width: 50%;}#sk-container-id-3 div.sk-parallel-item:only-child::after {width: 0;}#sk-container-id-3 div.sk-dashed-wrapped {border: 1px dashed gray;margin: 0 0.4em 0.5em 0.4em;box-sizing: border-box;padding-bottom: 0.4em;background-color: white;}#sk-container-id-3 div.sk-label label {font-family: monospace;font-weight: bold;display: inline-block;line-height: 1.2em;}#sk-container-id-3 div.sk-label-container {text-align: center;}#sk-container-id-3 div.sk-container {/* jupyter's `normalize.less` sets `[hidden] { display: none; }` but bootstrap.min.css set `[hidden] { display: none !important; }` so we also need the `!important` here to be able to override the default hidden behavior on the sphinx rendered scikit-learn.org. See: https://github.com/scikit-learn/scikit-learn/issues/21755 */display: inline-block !important;position: relative;}#sk-container-id-3 div.sk-text-repr-fallback {display: none;}</style><div id=\"sk-container-id-3\" class=\"sk-top-container\"><div class=\"sk-text-repr-fallback\"><pre>RandomizedSearchCV(cv=3,\n",
       "                   estimator=Pipeline(steps=[(&#x27;columntransformer&#x27;,\n",
       "                                              ColumnTransformer(transformers=[(&#x27;standardscaler&#x27;,\n",
       "                                                                               StandardScaler(),\n",
       "                                                                               [&#x27;Air &#x27;\n",
       "                                                                                &#x27;temperature &#x27;\n",
       "                                                                                &#x27;[K]&#x27;,\n",
       "                                                                                &#x27;Process &#x27;\n",
       "                                                                                &#x27;temperature &#x27;\n",
       "                                                                                &#x27;[K]&#x27;,\n",
       "                                                                                &#x27;Rotational &#x27;\n",
       "                                                                                &#x27;speed &#x27;\n",
       "                                                                                &#x27;[rpm]&#x27;,\n",
       "                                                                                &#x27;Torque &#x27;\n",
       "                                                                                &#x27;[Nm]&#x27;,\n",
       "                                                                                &#x27;Tool &#x27;\n",
       "                                                                                &#x27;wear &#x27;\n",
       "                                                                                &#x27;[min]&#x27;]),\n",
       "                                                                              (&#x27;onehotencoder&#x27;,\n",
       "                                                                               OneHotEncoder(handle_unknown=&#x27;ignore&#x27;),\n",
       "                                                                               [&#x27;Type&#x27;])])),\n",
       "                                             (&#x27;gradientboostingclassifier&#x27;,\n",
       "                                              GradientBoostingClassifier(random_state=42))]),\n",
       "                   param_distributions={&#x27;gradientboostingclassifier__max_depth&#x27;: &lt;scipy.stats._distn_infrastructure.rv_discrete_frozen object at 0x0000024344717A90&gt;,\n",
       "                                        &#x27;gradientboostingclassifier__n_estimators&#x27;: &lt;scipy.stats._distn_infrastructure.rv_discrete_frozen object at 0x0000024344897D60&gt;},\n",
       "                   random_state=42)</pre><b>In a Jupyter environment, please rerun this cell to show the HTML representation or trust the notebook. <br />On GitHub, the HTML representation is unable to render, please try loading this page with nbviewer.org.</b></div><div class=\"sk-container\" hidden><div class=\"sk-item sk-dashed-wrapped\"><div class=\"sk-label-container\"><div class=\"sk-label sk-toggleable\"><input class=\"sk-toggleable__control sk-hidden--visually\" id=\"sk-estimator-id-15\" type=\"checkbox\" ><label for=\"sk-estimator-id-15\" class=\"sk-toggleable__label sk-toggleable__label-arrow\">RandomizedSearchCV</label><div class=\"sk-toggleable__content\"><pre>RandomizedSearchCV(cv=3,\n",
       "                   estimator=Pipeline(steps=[(&#x27;columntransformer&#x27;,\n",
       "                                              ColumnTransformer(transformers=[(&#x27;standardscaler&#x27;,\n",
       "                                                                               StandardScaler(),\n",
       "                                                                               [&#x27;Air &#x27;\n",
       "                                                                                &#x27;temperature &#x27;\n",
       "                                                                                &#x27;[K]&#x27;,\n",
       "                                                                                &#x27;Process &#x27;\n",
       "                                                                                &#x27;temperature &#x27;\n",
       "                                                                                &#x27;[K]&#x27;,\n",
       "                                                                                &#x27;Rotational &#x27;\n",
       "                                                                                &#x27;speed &#x27;\n",
       "                                                                                &#x27;[rpm]&#x27;,\n",
       "                                                                                &#x27;Torque &#x27;\n",
       "                                                                                &#x27;[Nm]&#x27;,\n",
       "                                                                                &#x27;Tool &#x27;\n",
       "                                                                                &#x27;wear &#x27;\n",
       "                                                                                &#x27;[min]&#x27;]),\n",
       "                                                                              (&#x27;onehotencoder&#x27;,\n",
       "                                                                               OneHotEncoder(handle_unknown=&#x27;ignore&#x27;),\n",
       "                                                                               [&#x27;Type&#x27;])])),\n",
       "                                             (&#x27;gradientboostingclassifier&#x27;,\n",
       "                                              GradientBoostingClassifier(random_state=42))]),\n",
       "                   param_distributions={&#x27;gradientboostingclassifier__max_depth&#x27;: &lt;scipy.stats._distn_infrastructure.rv_discrete_frozen object at 0x0000024344717A90&gt;,\n",
       "                                        &#x27;gradientboostingclassifier__n_estimators&#x27;: &lt;scipy.stats._distn_infrastructure.rv_discrete_frozen object at 0x0000024344897D60&gt;},\n",
       "                   random_state=42)</pre></div></div></div><div class=\"sk-parallel\"><div class=\"sk-parallel-item\"><div class=\"sk-item\"><div class=\"sk-label-container\"><div class=\"sk-label sk-toggleable\"><input class=\"sk-toggleable__control sk-hidden--visually\" id=\"sk-estimator-id-16\" type=\"checkbox\" ><label for=\"sk-estimator-id-16\" class=\"sk-toggleable__label sk-toggleable__label-arrow\">estimator: Pipeline</label><div class=\"sk-toggleable__content\"><pre>Pipeline(steps=[(&#x27;columntransformer&#x27;,\n",
       "                 ColumnTransformer(transformers=[(&#x27;standardscaler&#x27;,\n",
       "                                                  StandardScaler(),\n",
       "                                                  [&#x27;Air temperature [K]&#x27;,\n",
       "                                                   &#x27;Process temperature [K]&#x27;,\n",
       "                                                   &#x27;Rotational speed [rpm]&#x27;,\n",
       "                                                   &#x27;Torque [Nm]&#x27;,\n",
       "                                                   &#x27;Tool wear [min]&#x27;]),\n",
       "                                                 (&#x27;onehotencoder&#x27;,\n",
       "                                                  OneHotEncoder(handle_unknown=&#x27;ignore&#x27;),\n",
       "                                                  [&#x27;Type&#x27;])])),\n",
       "                (&#x27;gradientboostingclassifier&#x27;,\n",
       "                 GradientBoostingClassifier(random_state=42))])</pre></div></div></div><div class=\"sk-serial\"><div class=\"sk-item\"><div class=\"sk-serial\"><div class=\"sk-item sk-dashed-wrapped\"><div class=\"sk-label-container\"><div class=\"sk-label sk-toggleable\"><input class=\"sk-toggleable__control sk-hidden--visually\" id=\"sk-estimator-id-17\" type=\"checkbox\" ><label for=\"sk-estimator-id-17\" class=\"sk-toggleable__label sk-toggleable__label-arrow\">columntransformer: ColumnTransformer</label><div class=\"sk-toggleable__content\"><pre>ColumnTransformer(transformers=[(&#x27;standardscaler&#x27;, StandardScaler(),\n",
       "                                 [&#x27;Air temperature [K]&#x27;,\n",
       "                                  &#x27;Process temperature [K]&#x27;,\n",
       "                                  &#x27;Rotational speed [rpm]&#x27;, &#x27;Torque [Nm]&#x27;,\n",
       "                                  &#x27;Tool wear [min]&#x27;]),\n",
       "                                (&#x27;onehotencoder&#x27;,\n",
       "                                 OneHotEncoder(handle_unknown=&#x27;ignore&#x27;),\n",
       "                                 [&#x27;Type&#x27;])])</pre></div></div></div><div class=\"sk-parallel\"><div class=\"sk-parallel-item\"><div class=\"sk-item\"><div class=\"sk-label-container\"><div class=\"sk-label sk-toggleable\"><input class=\"sk-toggleable__control sk-hidden--visually\" id=\"sk-estimator-id-18\" type=\"checkbox\" ><label for=\"sk-estimator-id-18\" class=\"sk-toggleable__label sk-toggleable__label-arrow\">standardscaler</label><div class=\"sk-toggleable__content\"><pre>[&#x27;Air temperature [K]&#x27;, &#x27;Process temperature [K]&#x27;, &#x27;Rotational speed [rpm]&#x27;, &#x27;Torque [Nm]&#x27;, &#x27;Tool wear [min]&#x27;]</pre></div></div></div><div class=\"sk-serial\"><div class=\"sk-item\"><div class=\"sk-estimator sk-toggleable\"><input class=\"sk-toggleable__control sk-hidden--visually\" id=\"sk-estimator-id-19\" type=\"checkbox\" ><label for=\"sk-estimator-id-19\" class=\"sk-toggleable__label sk-toggleable__label-arrow\">StandardScaler</label><div class=\"sk-toggleable__content\"><pre>StandardScaler()</pre></div></div></div></div></div></div><div class=\"sk-parallel-item\"><div class=\"sk-item\"><div class=\"sk-label-container\"><div class=\"sk-label sk-toggleable\"><input class=\"sk-toggleable__control sk-hidden--visually\" id=\"sk-estimator-id-20\" type=\"checkbox\" ><label for=\"sk-estimator-id-20\" class=\"sk-toggleable__label sk-toggleable__label-arrow\">onehotencoder</label><div class=\"sk-toggleable__content\"><pre>[&#x27;Type&#x27;]</pre></div></div></div><div class=\"sk-serial\"><div class=\"sk-item\"><div class=\"sk-estimator sk-toggleable\"><input class=\"sk-toggleable__control sk-hidden--visually\" id=\"sk-estimator-id-21\" type=\"checkbox\" ><label for=\"sk-estimator-id-21\" class=\"sk-toggleable__label sk-toggleable__label-arrow\">OneHotEncoder</label><div class=\"sk-toggleable__content\"><pre>OneHotEncoder(handle_unknown=&#x27;ignore&#x27;)</pre></div></div></div></div></div></div></div></div><div class=\"sk-item\"><div class=\"sk-estimator sk-toggleable\"><input class=\"sk-toggleable__control sk-hidden--visually\" id=\"sk-estimator-id-22\" type=\"checkbox\" ><label for=\"sk-estimator-id-22\" class=\"sk-toggleable__label sk-toggleable__label-arrow\">GradientBoostingClassifier</label><div class=\"sk-toggleable__content\"><pre>GradientBoostingClassifier(random_state=42)</pre></div></div></div></div></div></div></div></div></div></div></div></div>"
      ],
      "text/plain": [
       "RandomizedSearchCV(cv=3,\n",
       "                   estimator=Pipeline(steps=[('columntransformer',\n",
       "                                              ColumnTransformer(transformers=[('standardscaler',\n",
       "                                                                               StandardScaler(),\n",
       "                                                                               ['Air '\n",
       "                                                                                'temperature '\n",
       "                                                                                '[K]',\n",
       "                                                                                'Process '\n",
       "                                                                                'temperature '\n",
       "                                                                                '[K]',\n",
       "                                                                                'Rotational '\n",
       "                                                                                'speed '\n",
       "                                                                                '[rpm]',\n",
       "                                                                                'Torque '\n",
       "                                                                                '[Nm]',\n",
       "                                                                                'Tool '\n",
       "                                                                                'wear '\n",
       "                                                                                '[min]']),\n",
       "                                                                              ('onehotencoder',\n",
       "                                                                               OneHotEncoder(handle_unknown='ignore'),\n",
       "                                                                               ['Type'])])),\n",
       "                                             ('gradientboostingclassifier',\n",
       "                                              GradientBoostingClassifier(random_state=42))]),\n",
       "                   param_distributions={'gradientboostingclassifier__max_depth': <scipy.stats._distn_infrastructure.rv_discrete_frozen object at 0x0000024344717A90>,\n",
       "                                        'gradientboostingclassifier__n_estimators': <scipy.stats._distn_infrastructure.rv_discrete_frozen object at 0x0000024344897D60>},\n",
       "                   random_state=42)"
      ]
     },
     "execution_count": 31,
     "metadata": {},
     "output_type": "execute_result"
    }
   ],
   "source": [
    "rand_search_cv.fit(Xtrain, ytrain)"
   ]
  },
  {
   "cell_type": "code",
   "execution_count": 32,
   "id": "872eb7eb-46c7-404c-ac9c-8ec49059628e",
   "metadata": {},
   "outputs": [
    {
     "data": {
      "text/html": [
       "<style>#sk-container-id-4 {color: black;background-color: white;}#sk-container-id-4 pre{padding: 0;}#sk-container-id-4 div.sk-toggleable {background-color: white;}#sk-container-id-4 label.sk-toggleable__label {cursor: pointer;display: block;width: 100%;margin-bottom: 0;padding: 0.3em;box-sizing: border-box;text-align: center;}#sk-container-id-4 label.sk-toggleable__label-arrow:before {content: \"▸\";float: left;margin-right: 0.25em;color: #696969;}#sk-container-id-4 label.sk-toggleable__label-arrow:hover:before {color: black;}#sk-container-id-4 div.sk-estimator:hover label.sk-toggleable__label-arrow:before {color: black;}#sk-container-id-4 div.sk-toggleable__content {max-height: 0;max-width: 0;overflow: hidden;text-align: left;background-color: #f0f8ff;}#sk-container-id-4 div.sk-toggleable__content pre {margin: 0.2em;color: black;border-radius: 0.25em;background-color: #f0f8ff;}#sk-container-id-4 input.sk-toggleable__control:checked~div.sk-toggleable__content {max-height: 200px;max-width: 100%;overflow: auto;}#sk-container-id-4 input.sk-toggleable__control:checked~label.sk-toggleable__label-arrow:before {content: \"▾\";}#sk-container-id-4 div.sk-estimator input.sk-toggleable__control:checked~label.sk-toggleable__label {background-color: #d4ebff;}#sk-container-id-4 div.sk-label input.sk-toggleable__control:checked~label.sk-toggleable__label {background-color: #d4ebff;}#sk-container-id-4 input.sk-hidden--visually {border: 0;clip: rect(1px 1px 1px 1px);clip: rect(1px, 1px, 1px, 1px);height: 1px;margin: -1px;overflow: hidden;padding: 0;position: absolute;width: 1px;}#sk-container-id-4 div.sk-estimator {font-family: monospace;background-color: #f0f8ff;border: 1px dotted black;border-radius: 0.25em;box-sizing: border-box;margin-bottom: 0.5em;}#sk-container-id-4 div.sk-estimator:hover {background-color: #d4ebff;}#sk-container-id-4 div.sk-parallel-item::after {content: \"\";width: 100%;border-bottom: 1px solid gray;flex-grow: 1;}#sk-container-id-4 div.sk-label:hover label.sk-toggleable__label {background-color: #d4ebff;}#sk-container-id-4 div.sk-serial::before {content: \"\";position: absolute;border-left: 1px solid gray;box-sizing: border-box;top: 0;bottom: 0;left: 50%;z-index: 0;}#sk-container-id-4 div.sk-serial {display: flex;flex-direction: column;align-items: center;background-color: white;padding-right: 0.2em;padding-left: 0.2em;position: relative;}#sk-container-id-4 div.sk-item {position: relative;z-index: 1;}#sk-container-id-4 div.sk-parallel {display: flex;align-items: stretch;justify-content: center;background-color: white;position: relative;}#sk-container-id-4 div.sk-item::before, #sk-container-id-4 div.sk-parallel-item::before {content: \"\";position: absolute;border-left: 1px solid gray;box-sizing: border-box;top: 0;bottom: 0;left: 50%;z-index: -1;}#sk-container-id-4 div.sk-parallel-item {display: flex;flex-direction: column;z-index: 1;position: relative;background-color: white;}#sk-container-id-4 div.sk-parallel-item:first-child::after {align-self: flex-end;width: 50%;}#sk-container-id-4 div.sk-parallel-item:last-child::after {align-self: flex-start;width: 50%;}#sk-container-id-4 div.sk-parallel-item:only-child::after {width: 0;}#sk-container-id-4 div.sk-dashed-wrapped {border: 1px dashed gray;margin: 0 0.4em 0.5em 0.4em;box-sizing: border-box;padding-bottom: 0.4em;background-color: white;}#sk-container-id-4 div.sk-label label {font-family: monospace;font-weight: bold;display: inline-block;line-height: 1.2em;}#sk-container-id-4 div.sk-label-container {text-align: center;}#sk-container-id-4 div.sk-container {/* jupyter's `normalize.less` sets `[hidden] { display: none; }` but bootstrap.min.css set `[hidden] { display: none !important; }` so we also need the `!important` here to be able to override the default hidden behavior on the sphinx rendered scikit-learn.org. See: https://github.com/scikit-learn/scikit-learn/issues/21755 */display: inline-block !important;position: relative;}#sk-container-id-4 div.sk-text-repr-fallback {display: none;}</style><div id=\"sk-container-id-4\" class=\"sk-top-container\"><div class=\"sk-text-repr-fallback\"><pre>Pipeline(steps=[(&#x27;columntransformer&#x27;,\n",
       "                 ColumnTransformer(transformers=[(&#x27;standardscaler&#x27;,\n",
       "                                                  StandardScaler(),\n",
       "                                                  [&#x27;Air temperature [K]&#x27;,\n",
       "                                                   &#x27;Process temperature [K]&#x27;,\n",
       "                                                   &#x27;Rotational speed [rpm]&#x27;,\n",
       "                                                   &#x27;Torque [Nm]&#x27;,\n",
       "                                                   &#x27;Tool wear [min]&#x27;]),\n",
       "                                                 (&#x27;onehotencoder&#x27;,\n",
       "                                                  OneHotEncoder(handle_unknown=&#x27;ignore&#x27;),\n",
       "                                                  [&#x27;Type&#x27;])])),\n",
       "                (&#x27;gradientboostingclassifier&#x27;,\n",
       "                 GradientBoostingClassifier(max_depth=9, n_estimators=535,\n",
       "                                            random_state=42))])</pre><b>In a Jupyter environment, please rerun this cell to show the HTML representation or trust the notebook. <br />On GitHub, the HTML representation is unable to render, please try loading this page with nbviewer.org.</b></div><div class=\"sk-container\" hidden><div class=\"sk-item sk-dashed-wrapped\"><div class=\"sk-label-container\"><div class=\"sk-label sk-toggleable\"><input class=\"sk-toggleable__control sk-hidden--visually\" id=\"sk-estimator-id-23\" type=\"checkbox\" ><label for=\"sk-estimator-id-23\" class=\"sk-toggleable__label sk-toggleable__label-arrow\">Pipeline</label><div class=\"sk-toggleable__content\"><pre>Pipeline(steps=[(&#x27;columntransformer&#x27;,\n",
       "                 ColumnTransformer(transformers=[(&#x27;standardscaler&#x27;,\n",
       "                                                  StandardScaler(),\n",
       "                                                  [&#x27;Air temperature [K]&#x27;,\n",
       "                                                   &#x27;Process temperature [K]&#x27;,\n",
       "                                                   &#x27;Rotational speed [rpm]&#x27;,\n",
       "                                                   &#x27;Torque [Nm]&#x27;,\n",
       "                                                   &#x27;Tool wear [min]&#x27;]),\n",
       "                                                 (&#x27;onehotencoder&#x27;,\n",
       "                                                  OneHotEncoder(handle_unknown=&#x27;ignore&#x27;),\n",
       "                                                  [&#x27;Type&#x27;])])),\n",
       "                (&#x27;gradientboostingclassifier&#x27;,\n",
       "                 GradientBoostingClassifier(max_depth=9, n_estimators=535,\n",
       "                                            random_state=42))])</pre></div></div></div><div class=\"sk-serial\"><div class=\"sk-item sk-dashed-wrapped\"><div class=\"sk-label-container\"><div class=\"sk-label sk-toggleable\"><input class=\"sk-toggleable__control sk-hidden--visually\" id=\"sk-estimator-id-24\" type=\"checkbox\" ><label for=\"sk-estimator-id-24\" class=\"sk-toggleable__label sk-toggleable__label-arrow\">columntransformer: ColumnTransformer</label><div class=\"sk-toggleable__content\"><pre>ColumnTransformer(transformers=[(&#x27;standardscaler&#x27;, StandardScaler(),\n",
       "                                 [&#x27;Air temperature [K]&#x27;,\n",
       "                                  &#x27;Process temperature [K]&#x27;,\n",
       "                                  &#x27;Rotational speed [rpm]&#x27;, &#x27;Torque [Nm]&#x27;,\n",
       "                                  &#x27;Tool wear [min]&#x27;]),\n",
       "                                (&#x27;onehotencoder&#x27;,\n",
       "                                 OneHotEncoder(handle_unknown=&#x27;ignore&#x27;),\n",
       "                                 [&#x27;Type&#x27;])])</pre></div></div></div><div class=\"sk-parallel\"><div class=\"sk-parallel-item\"><div class=\"sk-item\"><div class=\"sk-label-container\"><div class=\"sk-label sk-toggleable\"><input class=\"sk-toggleable__control sk-hidden--visually\" id=\"sk-estimator-id-25\" type=\"checkbox\" ><label for=\"sk-estimator-id-25\" class=\"sk-toggleable__label sk-toggleable__label-arrow\">standardscaler</label><div class=\"sk-toggleable__content\"><pre>[&#x27;Air temperature [K]&#x27;, &#x27;Process temperature [K]&#x27;, &#x27;Rotational speed [rpm]&#x27;, &#x27;Torque [Nm]&#x27;, &#x27;Tool wear [min]&#x27;]</pre></div></div></div><div class=\"sk-serial\"><div class=\"sk-item\"><div class=\"sk-estimator sk-toggleable\"><input class=\"sk-toggleable__control sk-hidden--visually\" id=\"sk-estimator-id-26\" type=\"checkbox\" ><label for=\"sk-estimator-id-26\" class=\"sk-toggleable__label sk-toggleable__label-arrow\">StandardScaler</label><div class=\"sk-toggleable__content\"><pre>StandardScaler()</pre></div></div></div></div></div></div><div class=\"sk-parallel-item\"><div class=\"sk-item\"><div class=\"sk-label-container\"><div class=\"sk-label sk-toggleable\"><input class=\"sk-toggleable__control sk-hidden--visually\" id=\"sk-estimator-id-27\" type=\"checkbox\" ><label for=\"sk-estimator-id-27\" class=\"sk-toggleable__label sk-toggleable__label-arrow\">onehotencoder</label><div class=\"sk-toggleable__content\"><pre>[&#x27;Type&#x27;]</pre></div></div></div><div class=\"sk-serial\"><div class=\"sk-item\"><div class=\"sk-estimator sk-toggleable\"><input class=\"sk-toggleable__control sk-hidden--visually\" id=\"sk-estimator-id-28\" type=\"checkbox\" ><label for=\"sk-estimator-id-28\" class=\"sk-toggleable__label sk-toggleable__label-arrow\">OneHotEncoder</label><div class=\"sk-toggleable__content\"><pre>OneHotEncoder(handle_unknown=&#x27;ignore&#x27;)</pre></div></div></div></div></div></div></div></div><div class=\"sk-item\"><div class=\"sk-estimator sk-toggleable\"><input class=\"sk-toggleable__control sk-hidden--visually\" id=\"sk-estimator-id-29\" type=\"checkbox\" ><label for=\"sk-estimator-id-29\" class=\"sk-toggleable__label sk-toggleable__label-arrow\">GradientBoostingClassifier</label><div class=\"sk-toggleable__content\"><pre>GradientBoostingClassifier(max_depth=9, n_estimators=535, random_state=42)</pre></div></div></div></div></div></div></div>"
      ],
      "text/plain": [
       "Pipeline(steps=[('columntransformer',\n",
       "                 ColumnTransformer(transformers=[('standardscaler',\n",
       "                                                  StandardScaler(),\n",
       "                                                  ['Air temperature [K]',\n",
       "                                                   'Process temperature [K]',\n",
       "                                                   'Rotational speed [rpm]',\n",
       "                                                   'Torque [Nm]',\n",
       "                                                   'Tool wear [min]']),\n",
       "                                                 ('onehotencoder',\n",
       "                                                  OneHotEncoder(handle_unknown='ignore'),\n",
       "                                                  ['Type'])])),\n",
       "                ('gradientboostingclassifier',\n",
       "                 GradientBoostingClassifier(max_depth=9, n_estimators=535,\n",
       "                                            random_state=42))])"
      ]
     },
     "execution_count": 32,
     "metadata": {},
     "output_type": "execute_result"
    }
   ],
   "source": [
    "rand_search_cv.best_estimator_"
   ]
  },
  {
   "cell_type": "code",
   "execution_count": 33,
   "id": "664a9a60-98d9-4de9-a90b-eb23693aa042",
   "metadata": {},
   "outputs": [
    {
     "data": {
      "text/plain": [
       "0.9861247182811826"
      ]
     },
     "execution_count": 33,
     "metadata": {},
     "output_type": "execute_result"
    }
   ],
   "source": [
    "rand_search_cv.best_score_"
   ]
  },
  {
   "cell_type": "markdown",
   "id": "c4042e91-ba4c-406a-b2b7-413448802c9e",
   "metadata": {},
   "source": [
    "Now we have a trained model in hand. But at this stage it is sill a Python object. This means that it is embedded within the Python runtime that the model was trained in (i.e., the local compute). To be able to receive inputs from customers this Python object needs to be stored in a format that can be readily copied without dependence on the Python runtime."
   ]
  },
  {
   "cell_type": "code",
   "execution_count": 34,
   "id": "c5c89783-4600-4064-b59a-4e9e025f5742",
   "metadata": {},
   "outputs": [],
   "source": [
    "saved_model_path = \"models/model-v1.joblib\""
   ]
  },
  {
   "cell_type": "code",
   "execution_count": 35,
   "id": "2be2e39f-e220-41e4-b5a2-2cb2cb30b1ad",
   "metadata": {},
   "outputs": [
    {
     "data": {
      "text/plain": [
       "['models/model-v1.joblib']"
      ]
     },
     "execution_count": 35,
     "metadata": {},
     "output_type": "execute_result"
    }
   ],
   "source": [
    "joblib.dump(rand_search_cv.best_estimator_, saved_model_path)"
   ]
  },
  {
   "cell_type": "markdown",
   "id": "99a78c36-8f1d-4df3-be57-00fa8cf10a94",
   "metadata": {},
   "source": [
    "Crucial components of a model are often referred to as *artefacts*. In this case, the model artefact is the estimated model pipeline.\n",
    "\n",
    "The model is now saved in a binary object (`.joblib`) and the process of converting the model (Python object) to a binary format is referred to as *serialization. "
   ]
  },
  {
   "cell_type": "code",
   "execution_count": 36,
   "id": "c58beb75-fb28-48c2-aacf-29f26acb500d",
   "metadata": {},
   "outputs": [],
   "source": [
    "saved_model = joblib.load('models/model-v1.joblib')"
   ]
  },
  {
   "cell_type": "code",
   "execution_count": 37,
   "id": "9e5cddfe-896d-4cb1-98d9-6e3d6ecef98a",
   "metadata": {},
   "outputs": [
    {
     "data": {
      "text/html": [
       "<style>#sk-container-id-5 {color: black;background-color: white;}#sk-container-id-5 pre{padding: 0;}#sk-container-id-5 div.sk-toggleable {background-color: white;}#sk-container-id-5 label.sk-toggleable__label {cursor: pointer;display: block;width: 100%;margin-bottom: 0;padding: 0.3em;box-sizing: border-box;text-align: center;}#sk-container-id-5 label.sk-toggleable__label-arrow:before {content: \"▸\";float: left;margin-right: 0.25em;color: #696969;}#sk-container-id-5 label.sk-toggleable__label-arrow:hover:before {color: black;}#sk-container-id-5 div.sk-estimator:hover label.sk-toggleable__label-arrow:before {color: black;}#sk-container-id-5 div.sk-toggleable__content {max-height: 0;max-width: 0;overflow: hidden;text-align: left;background-color: #f0f8ff;}#sk-container-id-5 div.sk-toggleable__content pre {margin: 0.2em;color: black;border-radius: 0.25em;background-color: #f0f8ff;}#sk-container-id-5 input.sk-toggleable__control:checked~div.sk-toggleable__content {max-height: 200px;max-width: 100%;overflow: auto;}#sk-container-id-5 input.sk-toggleable__control:checked~label.sk-toggleable__label-arrow:before {content: \"▾\";}#sk-container-id-5 div.sk-estimator input.sk-toggleable__control:checked~label.sk-toggleable__label {background-color: #d4ebff;}#sk-container-id-5 div.sk-label input.sk-toggleable__control:checked~label.sk-toggleable__label {background-color: #d4ebff;}#sk-container-id-5 input.sk-hidden--visually {border: 0;clip: rect(1px 1px 1px 1px);clip: rect(1px, 1px, 1px, 1px);height: 1px;margin: -1px;overflow: hidden;padding: 0;position: absolute;width: 1px;}#sk-container-id-5 div.sk-estimator {font-family: monospace;background-color: #f0f8ff;border: 1px dotted black;border-radius: 0.25em;box-sizing: border-box;margin-bottom: 0.5em;}#sk-container-id-5 div.sk-estimator:hover {background-color: #d4ebff;}#sk-container-id-5 div.sk-parallel-item::after {content: \"\";width: 100%;border-bottom: 1px solid gray;flex-grow: 1;}#sk-container-id-5 div.sk-label:hover label.sk-toggleable__label {background-color: #d4ebff;}#sk-container-id-5 div.sk-serial::before {content: \"\";position: absolute;border-left: 1px solid gray;box-sizing: border-box;top: 0;bottom: 0;left: 50%;z-index: 0;}#sk-container-id-5 div.sk-serial {display: flex;flex-direction: column;align-items: center;background-color: white;padding-right: 0.2em;padding-left: 0.2em;position: relative;}#sk-container-id-5 div.sk-item {position: relative;z-index: 1;}#sk-container-id-5 div.sk-parallel {display: flex;align-items: stretch;justify-content: center;background-color: white;position: relative;}#sk-container-id-5 div.sk-item::before, #sk-container-id-5 div.sk-parallel-item::before {content: \"\";position: absolute;border-left: 1px solid gray;box-sizing: border-box;top: 0;bottom: 0;left: 50%;z-index: -1;}#sk-container-id-5 div.sk-parallel-item {display: flex;flex-direction: column;z-index: 1;position: relative;background-color: white;}#sk-container-id-5 div.sk-parallel-item:first-child::after {align-self: flex-end;width: 50%;}#sk-container-id-5 div.sk-parallel-item:last-child::after {align-self: flex-start;width: 50%;}#sk-container-id-5 div.sk-parallel-item:only-child::after {width: 0;}#sk-container-id-5 div.sk-dashed-wrapped {border: 1px dashed gray;margin: 0 0.4em 0.5em 0.4em;box-sizing: border-box;padding-bottom: 0.4em;background-color: white;}#sk-container-id-5 div.sk-label label {font-family: monospace;font-weight: bold;display: inline-block;line-height: 1.2em;}#sk-container-id-5 div.sk-label-container {text-align: center;}#sk-container-id-5 div.sk-container {/* jupyter's `normalize.less` sets `[hidden] { display: none; }` but bootstrap.min.css set `[hidden] { display: none !important; }` so we also need the `!important` here to be able to override the default hidden behavior on the sphinx rendered scikit-learn.org. See: https://github.com/scikit-learn/scikit-learn/issues/21755 */display: inline-block !important;position: relative;}#sk-container-id-5 div.sk-text-repr-fallback {display: none;}</style><div id=\"sk-container-id-5\" class=\"sk-top-container\"><div class=\"sk-text-repr-fallback\"><pre>Pipeline(steps=[(&#x27;columntransformer&#x27;,\n",
       "                 ColumnTransformer(transformers=[(&#x27;standardscaler&#x27;,\n",
       "                                                  StandardScaler(),\n",
       "                                                  [&#x27;Air temperature [K]&#x27;,\n",
       "                                                   &#x27;Process temperature [K]&#x27;,\n",
       "                                                   &#x27;Rotational speed [rpm]&#x27;,\n",
       "                                                   &#x27;Torque [Nm]&#x27;,\n",
       "                                                   &#x27;Tool wear [min]&#x27;]),\n",
       "                                                 (&#x27;onehotencoder&#x27;,\n",
       "                                                  OneHotEncoder(handle_unknown=&#x27;ignore&#x27;),\n",
       "                                                  [&#x27;Type&#x27;])])),\n",
       "                (&#x27;gradientboostingclassifier&#x27;,\n",
       "                 GradientBoostingClassifier(max_depth=9, n_estimators=535,\n",
       "                                            random_state=42))])</pre><b>In a Jupyter environment, please rerun this cell to show the HTML representation or trust the notebook. <br />On GitHub, the HTML representation is unable to render, please try loading this page with nbviewer.org.</b></div><div class=\"sk-container\" hidden><div class=\"sk-item sk-dashed-wrapped\"><div class=\"sk-label-container\"><div class=\"sk-label sk-toggleable\"><input class=\"sk-toggleable__control sk-hidden--visually\" id=\"sk-estimator-id-30\" type=\"checkbox\" ><label for=\"sk-estimator-id-30\" class=\"sk-toggleable__label sk-toggleable__label-arrow\">Pipeline</label><div class=\"sk-toggleable__content\"><pre>Pipeline(steps=[(&#x27;columntransformer&#x27;,\n",
       "                 ColumnTransformer(transformers=[(&#x27;standardscaler&#x27;,\n",
       "                                                  StandardScaler(),\n",
       "                                                  [&#x27;Air temperature [K]&#x27;,\n",
       "                                                   &#x27;Process temperature [K]&#x27;,\n",
       "                                                   &#x27;Rotational speed [rpm]&#x27;,\n",
       "                                                   &#x27;Torque [Nm]&#x27;,\n",
       "                                                   &#x27;Tool wear [min]&#x27;]),\n",
       "                                                 (&#x27;onehotencoder&#x27;,\n",
       "                                                  OneHotEncoder(handle_unknown=&#x27;ignore&#x27;),\n",
       "                                                  [&#x27;Type&#x27;])])),\n",
       "                (&#x27;gradientboostingclassifier&#x27;,\n",
       "                 GradientBoostingClassifier(max_depth=9, n_estimators=535,\n",
       "                                            random_state=42))])</pre></div></div></div><div class=\"sk-serial\"><div class=\"sk-item sk-dashed-wrapped\"><div class=\"sk-label-container\"><div class=\"sk-label sk-toggleable\"><input class=\"sk-toggleable__control sk-hidden--visually\" id=\"sk-estimator-id-31\" type=\"checkbox\" ><label for=\"sk-estimator-id-31\" class=\"sk-toggleable__label sk-toggleable__label-arrow\">columntransformer: ColumnTransformer</label><div class=\"sk-toggleable__content\"><pre>ColumnTransformer(transformers=[(&#x27;standardscaler&#x27;, StandardScaler(),\n",
       "                                 [&#x27;Air temperature [K]&#x27;,\n",
       "                                  &#x27;Process temperature [K]&#x27;,\n",
       "                                  &#x27;Rotational speed [rpm]&#x27;, &#x27;Torque [Nm]&#x27;,\n",
       "                                  &#x27;Tool wear [min]&#x27;]),\n",
       "                                (&#x27;onehotencoder&#x27;,\n",
       "                                 OneHotEncoder(handle_unknown=&#x27;ignore&#x27;),\n",
       "                                 [&#x27;Type&#x27;])])</pre></div></div></div><div class=\"sk-parallel\"><div class=\"sk-parallel-item\"><div class=\"sk-item\"><div class=\"sk-label-container\"><div class=\"sk-label sk-toggleable\"><input class=\"sk-toggleable__control sk-hidden--visually\" id=\"sk-estimator-id-32\" type=\"checkbox\" ><label for=\"sk-estimator-id-32\" class=\"sk-toggleable__label sk-toggleable__label-arrow\">standardscaler</label><div class=\"sk-toggleable__content\"><pre>[&#x27;Air temperature [K]&#x27;, &#x27;Process temperature [K]&#x27;, &#x27;Rotational speed [rpm]&#x27;, &#x27;Torque [Nm]&#x27;, &#x27;Tool wear [min]&#x27;]</pre></div></div></div><div class=\"sk-serial\"><div class=\"sk-item\"><div class=\"sk-estimator sk-toggleable\"><input class=\"sk-toggleable__control sk-hidden--visually\" id=\"sk-estimator-id-33\" type=\"checkbox\" ><label for=\"sk-estimator-id-33\" class=\"sk-toggleable__label sk-toggleable__label-arrow\">StandardScaler</label><div class=\"sk-toggleable__content\"><pre>StandardScaler()</pre></div></div></div></div></div></div><div class=\"sk-parallel-item\"><div class=\"sk-item\"><div class=\"sk-label-container\"><div class=\"sk-label sk-toggleable\"><input class=\"sk-toggleable__control sk-hidden--visually\" id=\"sk-estimator-id-34\" type=\"checkbox\" ><label for=\"sk-estimator-id-34\" class=\"sk-toggleable__label sk-toggleable__label-arrow\">onehotencoder</label><div class=\"sk-toggleable__content\"><pre>[&#x27;Type&#x27;]</pre></div></div></div><div class=\"sk-serial\"><div class=\"sk-item\"><div class=\"sk-estimator sk-toggleable\"><input class=\"sk-toggleable__control sk-hidden--visually\" id=\"sk-estimator-id-35\" type=\"checkbox\" ><label for=\"sk-estimator-id-35\" class=\"sk-toggleable__label sk-toggleable__label-arrow\">OneHotEncoder</label><div class=\"sk-toggleable__content\"><pre>OneHotEncoder(handle_unknown=&#x27;ignore&#x27;)</pre></div></div></div></div></div></div></div></div><div class=\"sk-item\"><div class=\"sk-estimator sk-toggleable\"><input class=\"sk-toggleable__control sk-hidden--visually\" id=\"sk-estimator-id-36\" type=\"checkbox\" ><label for=\"sk-estimator-id-36\" class=\"sk-toggleable__label sk-toggleable__label-arrow\">GradientBoostingClassifier</label><div class=\"sk-toggleable__content\"><pre>GradientBoostingClassifier(max_depth=9, n_estimators=535, random_state=42)</pre></div></div></div></div></div></div></div>"
      ],
      "text/plain": [
       "Pipeline(steps=[('columntransformer',\n",
       "                 ColumnTransformer(transformers=[('standardscaler',\n",
       "                                                  StandardScaler(),\n",
       "                                                  ['Air temperature [K]',\n",
       "                                                   'Process temperature [K]',\n",
       "                                                   'Rotational speed [rpm]',\n",
       "                                                   'Torque [Nm]',\n",
       "                                                   'Tool wear [min]']),\n",
       "                                                 ('onehotencoder',\n",
       "                                                  OneHotEncoder(handle_unknown='ignore'),\n",
       "                                                  ['Type'])])),\n",
       "                ('gradientboostingclassifier',\n",
       "                 GradientBoostingClassifier(max_depth=9, n_estimators=535,\n",
       "                                            random_state=42))])"
      ]
     },
     "execution_count": 37,
     "metadata": {},
     "output_type": "execute_result"
    }
   ],
   "source": [
    "saved_model"
   ]
  },
  {
   "cell_type": "markdown",
   "id": "770d78de-e0e9-4604-a6c8-e734d26837e7",
   "metadata": {},
   "source": [
    "# Version Control with `git`"
   ]
  },
  {
   "cell_type": "markdown",
   "id": "4187bcd8-1815-4d0f-b65d-41cd4006b999",
   "metadata": {},
   "source": [
    "## Introduction"
   ]
  },
  {
   "cell_type": "markdown",
   "id": "fd3e7f88-fc0c-4ef6-9cd8-7ab601efd0e9",
   "metadata": {},
   "source": [
    "Version control is essential in an MLOps workflow facilitates collaboration between different members of a team who might be working on different parts of a same project. Each such part can be developed as a branch and merged into the main codebase when the development on that branch is complete. \n",
    "\n",
    "While `git` is one such open source version control system that can be used to track local code changes, managed code repository services like `GitHub` enable remote hosting and allow contributions between team members to be updated seamlessly. In complex ML pipelines, issues and bugs are inevitable. Version control systems offer the capability to revert to previous working states, providing a safety net for rollbacks and bug fixes. Git allows teams to roll back to a specific commit or create a new branch to fix issues while preserving the integrity of the codebase. It ensures that previous working versions can be easily restored, preventing potential disruptions in the pipeline."
   ]
  },
  {
   "cell_type": "markdown",
   "id": "734ea2db-39be-41f3-990f-f5f00056def6",
   "metadata": {},
   "source": [
    "In the context of executing CI/CD DevOps pipelines, we now illustrate two important workflows while working with `git` using a public GitHub repository."
   ]
  },
  {
   "cell_type": "markdown",
   "id": "f4dd52ae-0f8e-4e18-aac5-4d9116f5072f",
   "metadata": {},
   "source": [
    "## The `clone` - `commit` - `push` workflow"
   ]
  },
  {
   "cell_type": "markdown",
   "id": "42b7541d-b0b6-4c69-8228-3f91c1402cb6",
   "metadata": {},
   "source": [
    "![git-workflow](figures/git-workflow.drawio.png)"
   ]
  },
  {
   "cell_type": "markdown",
   "id": "bda1ebb2-6655-43b4-ad87-fa66b6ba6795",
   "metadata": {},
   "source": [
    "The clone-commit-push workflow is a common Git workflow for working with remote repositories. It involves cloning a repository, making changes, committing those changes, and pushing them back to the remote repository. Here's a step-by-step explanation with examples:\n",
    "\n",
    "1. Clone the Repository:\n",
    "   - To clone a remote repository, use the `git clone` command followed by the repository's URL.\n",
    "   - Example:\n",
    "     ```\n",
    "     git clone https://github.com/example-user/example-repo.git\n",
    "     ```\n",
    "   - This creates a local copy of the remote repository on your machine.\n",
    "\n",
    "2. Make Changes:\n",
    "   - Change into the cloned repository's directory:\n",
    "     ```\n",
    "     cd example-repo\n",
    "     ```\n",
    "   - Make the necessary changes to the files in the repository using any text editor or IDE.\n",
    "\n",
    "3. Commit Changes:\n",
    "   - Stage the changes you want to commit using the `git add` command.\n",
    "   - Example:\n",
    "     ```\n",
    "     git add modified_file.py\n",
    "     ```\n",
    "   - Commit the staged changes with a meaningful commit message using the `git commit` command.\n",
    "   - Example:\n",
    "     ```\n",
    "     git commit -m \"Update modified_file.py with new feature\"\n",
    "     ```\n",
    "\n",
    "4. Push Changes:\n",
    "   - Push the committed changes to the remote repository using the `git push` command.\n",
    "   - Example:\n",
    "     ```\n",
    "     git push origin master\n",
    "     ```\n",
    "   - This command pushes the committed changes to the `master` branch of the remote repository named `origin`.\n",
    "\n",
    "Note: The `origin` is the default name of the remote repository. You can replace it with the appropriate name if your remote repository has a different name. For `GitHub` the `master` branch is called `main`, hence we say `git push origin main` if the remote repository is hosted on GitHub.\n",
    "\n",
    "5. Pull Changes (Optional):\n",
    "   - If you are working in a team or collaborating with others, it's a good practice to pull the latest changes from the remote repository before making your own changes.\n",
    "   - Use the `git pull` command to fetch and merge the latest changes from the remote repository.\n",
    "   - Example:\n",
    "     ```\n",
    "     git pull origin master\n",
    "     ```\n",
    "   - This ensures that your local repository is up to date with the remote repository before you make your own modifications.\n",
    "\n",
    "The clone-commit-push workflow allows you to work on your local repository, make changes, commit them with informative messages, and push them back to the remote repository. It facilitates collaboration, version control, and the seamless integration of changes into the project."
   ]
  },
  {
   "cell_type": "markdown",
   "id": "290aeb42-0a44-4862-a8c9-c2d0d6f1cd13",
   "metadata": {},
   "source": [
    "## Branching"
   ]
  },
  {
   "cell_type": "markdown",
   "id": "18b6f84e-55c8-429d-af80-585d00060b96",
   "metadata": {},
   "source": [
    "![git-branches](figures/git-branch.drawio.png)"
   ]
  },
  {
   "cell_type": "markdown",
   "id": "9f7d6ccc-2811-41b5-baf9-23b7f8ef5fd7",
   "metadata": {},
   "source": [
    "In a collaborative development environment where multiple developers are working on different aspects of a proposed change, Git branching is a valuable feature that enables an organized and efficient workflow. Each developer can work on a separate branch, allowing them to make independent changes without interfering with each other's work. Here's an explanation of the usage of Git branching in this context:\n",
    "\n",
    "1. Creating Branches:\n",
    "   - Each developer starts by creating their own branch, typically based on the main branch (e.g., \"master\" or \"main\").\n",
    "   - Developers can use the `git branch` command to create a new branch or the `git checkout -b` command to create and switch to a new branch in one step.\n",
    "   - Example:\n",
    "     ```\n",
    "     git branch feature-branch\n",
    "     ```\n",
    "     or\n",
    "     ```\n",
    "     git checkout -b feature-branch\n",
    "     ```\n",
    "     If we want to switch to an existing branch, we use `git checkout existing-feature-branch`\n",
    "\n",
    "2. Working on Branches:\n",
    "   - Each developer now works on their respective branch, focusing on their specific tasks or changes.\n",
    "   - They can make changes, add new features, fix bugs, or modify code without affecting the main branch or other developers' work.\n",
    "   - Developers commit their changes locally to their branch using the standard `git add` and `git commit` commands.\n",
    "\n",
    "3. Sharing Branches:\n",
    "   - Developers can push their local branches to a shared remote repository to collaborate with others.\n",
    "   - They use the `git push` command with the branch name and the remote repository to push their branch.\n",
    "   - Example:\n",
    "     ```\n",
    "     git push origin feature-branch\n",
    "     ```\n",
    "\n",
    "4. Reviewing and Merging Changes:\n",
    "   - Once a developer has completed their work on the branch, they can create a pull request or merge request, depending on the Git hosting platform being used (e.g., GitHub, GitLab, Bitbucket).\n",
    "   - The pull request allows other developers to review the changes, provide feedback, and discuss the proposed changes before merging them into the main branch.\n",
    "   - After the review and approval process, the changes from the branch can be merged into the main branch using the platform's interface.\n",
    "\n",
    "5. Updating Branches:\n",
    "   - During the development process, other developers may make changes to the main branch.\n",
    "   - To incorporate those changes into their branch, developers can perform a branch update by switching to their branch and using the `git merge` command or `git rebase` command to integrate the latest changes from the main branch.\n",
    "   - Example:\n",
    "     ```\n",
    "     git checkout feature-branch\n",
    "     git merge main\n",
    "     ```\n",
    "\n",
    "By utilizing Git branching, developers can work on different aspects of a proposed change simultaneously, without interfering with each other's work. It allows for parallel development, easy collaboration, and the ability to review, discuss, and merge changes in an organized manner."
   ]
  },
  {
   "cell_type": "markdown",
   "id": "92bbdfea-c78a-4666-b0bb-51993535872b",
   "metadata": {},
   "source": [
    "# Automating the development workflow"
   ]
  },
  {
   "cell_type": "markdown",
   "id": "dcd7306f-693b-4053-90ae-eebcec441fcd",
   "metadata": {},
   "source": [
    "# Code -> Build"
   ]
  },
  {
   "cell_type": "markdown",
   "id": "3311ea1d-7f7f-42de-96c8-44822c6abfd7",
   "metadata": {},
   "source": [
    "## Code repositories"
   ]
  },
  {
   "cell_type": "markdown",
   "id": "62938a9f-b03c-444f-8657-16319f14d1c8",
   "metadata": {},
   "source": [
    "There are two important benefits in attaching a code folder (implementing a machine learning pipeline, for example) to a version control system like `git` and hosting it on a remote location such as GitHub or AWS CodeCommit.\n",
    "\n",
    "1. Ownership: With version control, each commit is associated with an author, allowing transparency in changes. This enables teams of data scientists to have a transparent record of contributions and allows for better collaboration and accountability. For example, if a data scientist encounters an issue with a specific piece of code, they can easily identify the author of that code and seek their assistance in resolving the problem.\n",
    "\n",
    "2. Tracking Changes: Version control systems provide a comprehensive history of code changes. Every commit is recorded, along with the changes made, enabling easy tracking of modifications over time. This allows teams to understand the evolution of the codebase, identify when and why certain changes were introduced, and quickly revert to previous versions if necessary. For instance, if a bug is discovered in the latest version of the code, the team can examine the commit history to identify the specific change that introduced the bug and revert it to a previous working version."
   ]
  },
  {
   "cell_type": "markdown",
   "id": "aee837a5-14b9-4fb2-b019-24e096268553",
   "metadata": {},
   "source": [
    "## Triggers"
   ]
  },
  {
   "cell_type": "markdown",
   "id": "dee93eb5-5b4d-4574-a9db-5415004c1f4c",
   "metadata": {},
   "source": [
    "While tracking and managing the versions of code is one part of the CI/CD process, another key component is the ability to automatically trigger the execution of code once the data science team lands a `push` or `merge` to the code repository. These triggers initiate the creation of a `build` from a folder of code. In this context, a `build` refers to a tested, version-controlled artifact that represents the outcome of the code."
   ]
  },
  {
   "cell_type": "markdown",
   "id": "f4869ef3-4b31-4fbb-a94e-b29f43adaee0",
   "metadata": {},
   "source": [
    "### GitHub Actions"
   ]
  },
  {
   "cell_type": "markdown",
   "id": "aad99444-dfa7-449d-ba47-eee853dd49fc",
   "metadata": {},
   "source": [
    "GitHub Actions is a powerful automation platform provided by GitHub that allows developers to create custom workflows to automate various tasks in their software development processes. At its core, GitHub Actions revolves around the concept of workflows. A workflow is a configurable set of steps that can be triggered by specific events, such as a push to the repository, a pull request, or a scheduled time. Each step in a workflow represents a specific action, which can be a command-line script, a shell command, or an external action defined by the community.\n",
    "\n",
    "Workflows are defined using YAML files that reside within the repository. YAML (YAML Ain't Markup Language) is a human-readable data serialization format. It's designed to be easy to understand and write by both humans and machines. YAML is a way to structure and organize data in a format that is clear and concise; in this case we use YAML to specify the configuration of the the trigger that will be stored in a `*.yml` (or `.yaml`) file. These files describe the series of actions to be executed, their dependencies, and the conditions under which they should run. This declarative approach allows for easy configuration and version control of the workflows. YAML files have application beyond the specification of workflows (we will see them again as a neat method to create Azure ML pipelines as an alternative to the decorators )."
   ]
  },
  {
   "cell_type": "markdown",
   "id": "a68e6923",
   "metadata": {},
   "source": [
    "When a triggering event occurs, GitHub Actions spins up a virtual environment, called a runner, to execute the defined workflow. Runners can be hosted by GitHub or self-hosted on your own infrastructure. They provide the necessary execution environment, including the required operating system, programming languages, and tools."
   ]
  },
  {
   "cell_type": "markdown",
   "id": "87bf4c26",
   "metadata": {},
   "source": [
    "Before we move on to specify GitHub Actions using YAML, here is a summary of key YAML rules:\n",
    "\n",
    "1. Indentation: YAML relies on indentation for structure, so proper indentation is crucial. Use spaces (not tabs) for indentation, and maintain consistent indentation levels throughout the file. Typically, two spaces or four spaces are used for each level of indentation.\n",
    "\n",
    "Example:\n",
    "```yaml\n",
    "key:\n",
    "  subkey1: value1\n",
    "  subkey2: value2\n",
    "```\n",
    "\n",
    "2. Key-Value Pairs: YAML uses a key-value pair structure. Each key is followed by a colon (:), and the associated value is placed on the next line with proper indentation. Avoid using tabs or special characters in keys.\n",
    "\n",
    "Example:\n",
    "```yaml\n",
    "name: John Doe\n",
    "age: 30\n",
    "```\n",
    "\n",
    "3. Lists and Arrays: YAML supports lists and arrays. To define a list, use a hyphen (-) followed by a space before each list item. All items in the list should be indented at the same level.\n",
    "\n",
    "Example:\n",
    "```yaml\n",
    "fruits:\n",
    "  - Apple\n",
    "  - Banana\n",
    "  - Orange\n",
    "```\n",
    "\n",
    "4. Comments: YAML allows comments to provide additional context or explanations. Comments start with the hash symbol (#) and can appear on their own line or at the end of a line. Comments are ignored by the YAML parser.\n",
    "\n",
    "Example:\n",
    "```yaml\n",
    "# This is a comment\n",
    "key: value  # Inline comment\n",
    "```\n",
    "\n",
    "5. Quoting Strings: YAML generally does not require quotes around strings. However, if a string contains special characters or spaces, it should be enclosed in single quotes (' ') or double quotes (\" \").\n",
    "\n",
    "Example:\n",
    "```yaml\n",
    "message: 'Hello, World!'\n",
    "description: \"This is a YAML file.\"\n",
    "```"
   ]
  },
  {
   "cell_type": "markdown",
   "id": "65d5f240",
   "metadata": {},
   "source": [
    "Now that the rules of YAML are in place, below is a trigger that runs a specified file on the code repository when a commit is made. This run, that is, the execution of a Python script performing a specific action makes up the `build` step."
   ]
  },
  {
   "cell_type": "markdown",
   "id": "e9de1f73",
   "metadata": {},
   "source": [
    "```yaml\n",
    "name: run-training-file-on-commit\n",
    "on:\n",
    "  push:\n",
    "    branches:\n",
    "    - main\n",
    "  pull_request:\n",
    "    branches:\n",
    "    - main\n",
    "\n",
    "jobs:\n",
    "  build:\n",
    "    runs-on: ubuntu-latest\n",
    "\n",
    "    permissions:\n",
    "      # Give the default GITHUB_TOKEN write permission to commit and push the\n",
    "      # added or changed files to the repository.\n",
    "      contents: write\n",
    "\n",
    "    steps:\n",
    "      - name: Checkout repository content\n",
    "        uses: actions/checkout@v4 # Checkout the repository content to github runner.\n",
    "\n",
    "      - name: Setup Python version\n",
    "        uses: actions/setup-python@v4\n",
    "        with:\n",
    "          python-version: 3.9 # Install the python version needed\n",
    "\n",
    "      - name: Install dependencies\n",
    "        run: |\n",
    "          python -m pip install --upgrade pip\n",
    "          python -m pip install -r requirements.txt   \n",
    "\n",
    "      - name: Execute training script # Run the specified file from the repo\n",
    "        run: python train.py\n",
    "\n",
    "      - name: Persist artifacts to the repo\n",
    "        uses: stefanzweifel/git-auto-commit-action@v4\n",
    "```"
   ]
  },
  {
   "cell_type": "markdown",
   "id": "ea2e5019-4878-40fe-9461-2a5b04a1b413",
   "metadata": {},
   "source": [
    "GitHub Actions are typically used to run tests and generate a build (i.e., a persisted model object) from a model training workflow."
   ]
  }
 ],
 "metadata": {
  "kernelspec": {
   "display_name": "Python 3 (ipykernel)",
   "language": "python",
   "name": "python3"
  },
  "language_info": {
   "codemirror_mode": {
    "name": "ipython",
    "version": 3
   },
   "file_extension": ".py",
   "mimetype": "text/x-python",
   "name": "python",
   "nbconvert_exporter": "python",
   "pygments_lexer": "ipython3",
   "version": "3.9.18"
  }
 },
 "nbformat": 4,
 "nbformat_minor": 5
}
